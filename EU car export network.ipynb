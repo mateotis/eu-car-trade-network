{
 "cells": [
  {
   "cell_type": "code",
   "execution_count": 1,
   "id": "9bc6edae",
   "metadata": {},
   "outputs": [],
   "source": [
    "import pandas as pd\n",
    "import numpy as np\n",
    "import matplotlib.pyplot as plt\n",
    "import networkx as nx\n",
    "from pyvis import network as net\n",
    "import random\n",
    "%matplotlib inline"
   ]
  },
  {
   "cell_type": "code",
   "execution_count": 106,
   "id": "b0ce76d1",
   "metadata": {},
   "outputs": [
    {
     "data": {
      "text/plain": [
       "DATAFLOW        object\n",
       "LAST UPDATE     object\n",
       "freq            object\n",
       "reporter        object\n",
       "partner         object\n",
       "product          int64\n",
       "flow             int64\n",
       "indicators      object\n",
       "TIME_PERIOD      int64\n",
       "OBS_VALUE        int64\n",
       "OBS_FLAG       float64\n",
       "dtype: object"
      ]
     },
     "execution_count": 106,
     "metadata": {},
     "output_type": "execute_result"
    }
   ],
   "source": [
    "data = pd.read_csv(\"eu-car-trade.csv\")\n",
    "data[\"reporter\"] = data[\"reporter\"].astype(str)\n",
    "data[\"partner\"] = data[\"partner\"].astype(str)\n",
    "data.dtypes"
   ]
  },
  {
   "cell_type": "code",
   "execution_count": 105,
   "id": "2c49417d",
   "metadata": {},
   "outputs": [
    {
     "data": {
      "text/html": [
       "<div>\n",
       "<style scoped>\n",
       "    .dataframe tbody tr th:only-of-type {\n",
       "        vertical-align: middle;\n",
       "    }\n",
       "\n",
       "    .dataframe tbody tr th {\n",
       "        vertical-align: top;\n",
       "    }\n",
       "\n",
       "    .dataframe thead th {\n",
       "        text-align: right;\n",
       "    }\n",
       "</style>\n",
       "<table border=\"1\" class=\"dataframe\">\n",
       "  <thead>\n",
       "    <tr style=\"text-align: right;\">\n",
       "      <th></th>\n",
       "      <th>DATAFLOW</th>\n",
       "      <th>LAST UPDATE</th>\n",
       "      <th>freq</th>\n",
       "      <th>reporter</th>\n",
       "      <th>partner</th>\n",
       "      <th>product</th>\n",
       "      <th>flow</th>\n",
       "      <th>indicators</th>\n",
       "      <th>TIME_PERIOD</th>\n",
       "      <th>OBS_VALUE</th>\n",
       "      <th>OBS_FLAG</th>\n",
       "    </tr>\n",
       "  </thead>\n",
       "  <tbody>\n",
       "  </tbody>\n",
       "</table>\n",
       "</div>"
      ],
      "text/plain": [
       "Empty DataFrame\n",
       "Columns: [DATAFLOW, LAST UPDATE, freq, reporter, partner, product, flow, indicators, TIME_PERIOD, OBS_VALUE, OBS_FLAG]\n",
       "Index: []"
      ]
     },
     "execution_count": 105,
     "metadata": {},
     "output_type": "execute_result"
    }
   ],
   "source": [
    "data = data[data[\"TIME_PERIOD\"] == 2022] # Set year that we consider"
   ]
  },
  {
   "cell_type": "code",
   "execution_count": 104,
   "id": "5bc32f99",
   "metadata": {},
   "outputs": [
    {
     "data": {
      "text/html": [
       "<div>\n",
       "<style scoped>\n",
       "    .dataframe tbody tr th:only-of-type {\n",
       "        vertical-align: middle;\n",
       "    }\n",
       "\n",
       "    .dataframe tbody tr th {\n",
       "        vertical-align: top;\n",
       "    }\n",
       "\n",
       "    .dataframe thead th {\n",
       "        text-align: right;\n",
       "    }\n",
       "</style>\n",
       "<table border=\"1\" class=\"dataframe\">\n",
       "  <thead>\n",
       "    <tr style=\"text-align: right;\">\n",
       "      <th></th>\n",
       "      <th>index</th>\n",
       "      <th>DATAFLOW</th>\n",
       "      <th>LAST UPDATE</th>\n",
       "      <th>freq</th>\n",
       "      <th>reporter</th>\n",
       "      <th>partner</th>\n",
       "      <th>product</th>\n",
       "      <th>flow</th>\n",
       "      <th>indicators</th>\n",
       "      <th>TIME_PERIOD</th>\n",
       "      <th>OBS_VALUE</th>\n",
       "      <th>OBS_FLAG</th>\n",
       "    </tr>\n",
       "  </thead>\n",
       "  <tbody>\n",
       "  </tbody>\n",
       "</table>\n",
       "</div>"
      ],
      "text/plain": [
       "Empty DataFrame\n",
       "Columns: [index, DATAFLOW, LAST UPDATE, freq, reporter, partner, product, flow, indicators, TIME_PERIOD, OBS_VALUE, OBS_FLAG]\n",
       "Index: []"
      ]
     },
     "execution_count": 104,
     "metadata": {},
     "output_type": "execute_result"
    }
   ],
   "source": [
    "filteredData = data[data[\"OBS_VALUE\"] > 200000000] # Only consider trade values over 200 million Euros\n",
    "#filteredData = filteredData[filteredData['flow'] == 1]\n",
    "filteredData = filteredData.reset_index()\n",
    "filteredData"
   ]
  },
  {
   "cell_type": "code",
   "execution_count": 99,
   "id": "56a7ec44",
   "metadata": {},
   "outputs": [],
   "source": [
    "codes = pd.read_csv(\"country-codes.csv\") # Get country codes\n",
    "codes.loc[codes[\"Code\"] == \"RS\", \"Code\"] = \"XS\" # Correct Serbia's country code"
   ]
  },
  {
   "cell_type": "code",
   "execution_count": 100,
   "id": "905853d6",
   "metadata": {},
   "outputs": [],
   "source": [
    "colors = [\"#\"+''.join([random.choice('0123456789ABCDEF') for j in range(6)]) # Generate random colours for each node, so the edges can be coloured too\n",
    "             for i in range(len(filteredData))]"
   ]
  },
  {
   "cell_type": "code",
   "execution_count": 101,
   "id": "41ad5044",
   "metadata": {
    "scrolled": true
   },
   "outputs": [
    {
     "data": {
      "text/html": [
       "\n",
       "        <iframe\n",
       "            width=\"100%\"\n",
       "            height=\"600px\"\n",
       "            src=\"network-2022.html\"\n",
       "            frameborder=\"0\"\n",
       "            allowfullscreen\n",
       "            \n",
       "        ></iframe>\n",
       "        "
      ],
      "text/plain": [
       "<IPython.lib.display.IFrame at 0x7f5cef939900>"
      ]
     },
     "execution_count": 101,
     "metadata": {},
     "output_type": "execute_result"
    }
   ],
   "source": [
    "visnet = net.Network(notebook = True, cdn_resources = \"in_line\", directed = True) # Create network\n",
    "\n",
    "for idx, row in filteredData.iterrows():\n",
    "  \n",
    "    reporterImage = \"https://flagicons.lipis.dev/flags/4x3/\" + row['reporter'].lower() + \".svg\" # Country icon URLs\n",
    "    partnerImage = \"https://flagicons.lipis.dev/flags/4x3/\" + row['partner'].lower() + \".svg\"\n",
    "    \n",
    "    reporterDegree = filteredData[filteredData[\"reporter\"] == row[\"reporter\"]][\"reporter\"].count() # Country degrees, which determine the size of the node\n",
    "    partnerDegree = filteredData[filteredData[\"partner\"] == row[\"partner\"]][\"partner\"].count()\n",
    "    \n",
    "    visnet.add_node(n_id = row['reporter'], label = codes[codes[\"Code\"] == row['reporter']][\"Name\"].item(), title = row['reporter'], image = reporterImage, shape = 'circularImage', size = int(reporterDegree) * 2, color = colors[idx])\n",
    "    visnet.add_node(n_id = row['partner'], label = codes[codes[\"Code\"] == row['partner']][\"Name\"].item(), title = row['partner'], image = partnerImage, shape = 'circularImage', size = int(partnerDegree) * 2, color = colors[idx])\n",
    "    visnet.add_edge(source = row['reporter'], to = row['partner'], value = int(row['OBS_VALUE']) / 200000000)\n",
    "\n",
    "visnet.inherit_edge_colors(True)\n",
    "visnet.repulsion(spring_length = 500, node_distance = 300) # Spread the nodes out so that the graph is easier to process\n",
    "visnet.show_buttons(filter_ = [\"physics\"])\n",
    "visnet.show(\"network-2018.html\")"
   ]
  },
  {
   "cell_type": "code",
   "execution_count": 55,
   "id": "480e7a13",
   "metadata": {},
   "outputs": [
    {
     "data": {
      "text/html": [
       "\n",
       "        <iframe\n",
       "            width=\"100%\"\n",
       "            height=\"600px\"\n",
       "            src=\"test.html\"\n",
       "            frameborder=\"0\"\n",
       "            allowfullscreen\n",
       "            \n",
       "        ></iframe>\n",
       "        "
      ],
      "text/plain": [
       "<IPython.lib.display.IFrame at 0x7f5cefc078b0>"
      ]
     },
     "execution_count": 55,
     "metadata": {},
     "output_type": "execute_result"
    }
   ],
   "source": [
    "visnet2 = net.Network(notebook = True, cdn_resources = \"in_line\", directed = True)\n",
    "visnet2.add_node('node1', 'node 1', color = \"red\")\n",
    "visnet2.add_node('node1', 'node 1', color = \"blue\")\n",
    "visnet2.add_node('node2', 'node 1', color = \"blue\")\n",
    "visnet2.show('test.html')"
   ]
  },
  {
   "cell_type": "code",
   "execution_count": null,
   "id": "61fd6a13",
   "metadata": {},
   "outputs": [],
   "source": []
  }
 ],
 "metadata": {
  "kernelspec": {
   "display_name": "Python 3 (ipykernel)",
   "language": "python",
   "name": "python3"
  },
  "language_info": {
   "codemirror_mode": {
    "name": "ipython",
    "version": 3
   },
   "file_extension": ".py",
   "mimetype": "text/x-python",
   "name": "python",
   "nbconvert_exporter": "python",
   "pygments_lexer": "ipython3",
   "version": "3.10.13"
  }
 },
 "nbformat": 4,
 "nbformat_minor": 5
}
