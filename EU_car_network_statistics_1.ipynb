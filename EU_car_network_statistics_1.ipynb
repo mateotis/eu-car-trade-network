{
 "cells": [
  {
   "cell_type": "markdown",
   "metadata": {},
   "source": [
    "# Statistics\n",
    "\n",
    "**Intro to Project**\n",
    "\n",
    "This Network Science project depicts the EU car trade network in the years following the Covid-19 crisis. It represents the major bilateral trade relationships. The major players in the EU are Germany, Belgium, Spain, France, Czech Republic, Slovakia and Italy.\n",
    "\n",
    "**Structure**\n",
    "\n",
    "**1. Exploratory data analysis:**\n",
    "    - in-degree and out-degree value counts \n",
    "    - in-degree and out-degree items and values\n",
    "    - edges and edge weights\n",
    "    - average degree of network\n",
    "    - adjacency matrix\n",
    "\n",
    "**2. Degree distribution (directed):**\n",
    "    - of network, \n",
    "    - number of nodes/ bilateral realtionships per year and country\n",
    "\n",
    "**3. Edge weight insights of the major players in the automobile industry**\n",
    "\n",
    "**4. Covid-19 effects on trade values of the biggest exporters**\n",
    "    - Graphing\n",
    "    - Insights on the export values of major players in the automobile industry\n",
    "    - Changes of trade between the years\n",
    "    - Does the network approximate a scale-free model?\n",
    "\n",
    "**5. Centrality measures:** \n",
    "    - clustering coefficient\n",
    "    - betweeness and closeness centrality\n",
    "\n",
    "**6. Conclusion**\n",
    "\n",
    "The number of partners seems to be closely related to the trade value of exports and imports. The degree distributions for both number of nodes and trade value are ordered in the same way. Changes during the years in node number are also reflected in the trade value.\n",
    "\n",
    "- Potential differences in ranking of countries between degree and sum of trade value, prove that degree is a good measure\n",
    "- Does the network approximate a scale-free model?"
   ]
  },
  {
   "cell_type": "markdown",
   "metadata": {},
   "source": [
    "## Load data"
   ]
  },
  {
   "cell_type": "markdown",
   "metadata": {},
   "source": []
  },
  {
   "cell_type": "code",
   "execution_count": 1042,
   "metadata": {},
   "outputs": [],
   "source": [
    "import collections\n",
    "import warnings\n",
    "import networkx as nx\n",
    "import numpy as np\n",
    "import matplotlib.pyplot as plt\n",
    "import pandas as pd\n",
    "import plotly.express as px\n",
    "from matplotlib.ticker import FuncFormatter\n",
    "from pyvis import network as net\n",
    "from scipy.stats import norm\n",
    "\n",
    "%matplotlib inline"
   ]
  },
  {
   "cell_type": "code",
   "execution_count": 1043,
   "metadata": {},
   "outputs": [],
   "source": [
    "# Ignore all warnings\n",
    "warnings.filterwarnings(\"ignore\")"
   ]
  },
  {
   "cell_type": "code",
   "execution_count": 1044,
   "metadata": {},
   "outputs": [],
   "source": [
    "countries = {\n",
    "    'AF': 'Afghanistan',\n",
    "    'AX': 'Ã…land Islands',\n",
    "    'AL': 'Albania',\n",
    "    'DZ': 'Algeria',\n",
    "    'AS': 'American Samoa',\n",
    "    'AD': 'Andorra',\n",
    "    'AO': 'Angola',\n",
    "    'AI': 'Anguilla',\n",
    "    'AQ': 'Antarctica',\n",
    "    'AG': 'Antigua and Barbuda',\n",
    "    'AR': 'Argentina',\n",
    "    'AM': 'Armenia',\n",
    "    'AW': 'Aruba',\n",
    "    'AU': 'Australia',\n",
    "    'AT': 'Austria',\n",
    "    'AZ': 'Azerbaijan',\n",
    "    'BS': 'Bahamas',\n",
    "    'BH': 'Bahrain',\n",
    "    'BD': 'Bangladesh',\n",
    "    'BB': 'Barbados',\n",
    "    'BY': 'Belarus',\n",
    "    'BE': 'Belgium',\n",
    "    'BZ': 'Belize',\n",
    "    'BJ': 'Benin',\n",
    "    'BM': 'Bermuda',\n",
    "    'BT': 'Bhutan',\n",
    "    'BO': 'Bolivia, Plurinational State of',\n",
    "    'BQ': 'Bonaire, Sint Eustatius and Saba',\n",
    "    'BA': 'Bosnia and Herzegovina',\n",
    "    'BW': 'Botswana',\n",
    "    'BV': 'Bouvet Island',\n",
    "    'BR': 'Brazil',\n",
    "    'IO': 'British Indian Ocean Territory',\n",
    "    'BN': 'Brunei Darussalam',\n",
    "    'BG': 'Bulgaria',\n",
    "    'BF': 'Burkina Faso',\n",
    "    'BI': 'Burundi',\n",
    "    'KH': 'Cambodia',\n",
    "    'CM': 'Cameroon',\n",
    "    'CA': 'Canada',\n",
    "    'CV': 'Cape Verde',\n",
    "    'KY': 'Cayman Islands',\n",
    "    'CF': 'Central African Republic',\n",
    "    'TD': 'Chad',\n",
    "    'CL': 'Chile',\n",
    "    'CN': 'China',\n",
    "    'CX': 'Christmas Island',\n",
    "    'CC': 'Cocos (Keeling) Islands',\n",
    "    'CO': 'Colombia',\n",
    "    'KM': 'Comoros',\n",
    "    'CG': 'Congo',\n",
    "    'CD': 'Congo, the Democratic Republic of the',\n",
    "    'CK': 'Cook Islands',\n",
    "    'CR': 'Costa Rica',\n",
    "    'CI': 'CÃ´te d\\'Ivoire',\n",
    "    'HR': 'Croatia',\n",
    "    'CU': 'Cuba',\n",
    "    'CW': 'CuraÃ§ao',\n",
    "    'CY': 'Cyprus',\n",
    "    'CZ': 'Czech Rep.',\n",
    "    'DK': 'Denmark',\n",
    "    'DJ': 'Djibouti',\n",
    "    'DM': 'Dominica',\n",
    "    'DO': 'Dominican Republic',\n",
    "    'EC': 'Ecuador',\n",
    "    'EG': 'Egypt',\n",
    "    'SV': 'El Salvador',\n",
    "    'GQ': 'Equatorial Guinea',\n",
    "    'ER': 'Eritrea',\n",
    "    'EE': 'Estonia',\n",
    "    'ET': 'Ethiopia',\n",
    "    'FK': 'Falkland Islands (Malvinas)',\n",
    "    'FO': 'Faroe Islands',\n",
    "    'FJ': 'Fiji',\n",
    "    'FI': 'Finland',\n",
    "    'FR': 'France',\n",
    "    'GF': 'French Guiana',\n",
    "    'PF': 'French Polynesia',\n",
    "    'TF': 'French Southern Territories',\n",
    "    'GA': 'Gabon',\n",
    "    'GM': 'Gambia',\n",
    "    'GE': 'Georgia',\n",
    "    'DE': 'Germany',\n",
    "    'GH': 'Ghana',\n",
    "    'GI': 'Gibraltar',\n",
    "    'GR': 'Greece',\n",
    "    'GL': 'Greenland',\n",
    "    'GD': 'Grenada',\n",
    "    'GP': 'Guadeloupe',\n",
    "    'GU': 'Guam',\n",
    "    'GT': 'Guatemala',\n",
    "    'GG': 'Guernsey',\n",
    "    'GN': 'Guinea',\n",
    "    'GW': 'Guinea-Bissau',\n",
    "    'GY': 'Guyana',\n",
    "    'HT': 'Haiti',\n",
    "    'HM': 'Heard Island and McDonald Islands',\n",
    "    'VA': 'Holy See (Vatican City State)',\n",
    "    'HN': 'Honduras',\n",
    "    'HK': 'Hong Kong',\n",
    "    'HU': 'Hungary',\n",
    "    'IS': 'Iceland',\n",
    "    'IN': 'India',\n",
    "    'ID': 'Indonesia',\n",
    "    'IR': 'Iran, Islamic Republic of',\n",
    "    'IQ': 'Iraq',\n",
    "    'IE': 'Ireland',\n",
    "    'IM': 'Isle of Man',\n",
    "    'IL': 'Israel',\n",
    "    'IT': 'Italy',\n",
    "    'JM': 'Jamaica',\n",
    "    'JP': 'Japan',\n",
    "    'JE': 'Jersey',\n",
    "    'JO': 'Jordan',\n",
    "    'KZ': 'Kazakhstan',\n",
    "    'KE': 'Kenya',\n",
    "    'KI': 'Kiribati',\n",
    "    'KP': 'Korea, Democratic People\\'s Republic of',\n",
    "    'KR': 'Korea, Republic of',\n",
    "    'KW': 'Kuwait',\n",
    "    'KG': 'Kyrgyzstan',\n",
    "    'LA': 'Lao People\\'s Democratic Republic',\n",
    "    'LV': 'Latvia',\n",
    "    'LB': 'Lebanon',\n",
    "    'LS': 'Lesotho',\n",
    "    'LR': 'Liberia',\n",
    "    'LY': 'Libya',\n",
    "    'LI': 'Liechtenstein',\n",
    "    'LT': 'Lithuania',\n",
    "    'LU': 'Luxembourg',\n",
    "    'MO': 'Macao',\n",
    "    'MK': 'Macedonia, the Former Yugoslav Republic of',\n",
    "    'MG': 'Madagascar',\n",
    "    'MW': 'Malawi',\n",
    "    'MY': 'Malaysia',\n",
    "    'MV': 'Maldives',\n",
    "    'ML': 'Mali',\n",
    "    'MT': 'Malta',\n",
    "    'MH': 'Marshall Islands',\n",
    "    'MQ': 'Martinique',\n",
    "    'MR': 'Mauritania',\n",
    "    'MU': 'Mauritius',\n",
    "    'YT': 'Mayotte',\n",
    "    'MX': 'Mexico',\n",
    "    'FM': 'Micronesia, Federated States of',\n",
    "    'MD': 'Moldova, Republic of',\n",
    "    'MC': 'Monaco',\n",
    "    'MN': 'Mongolia',\n",
    "    'ME': 'Montenegro',\n",
    "    'MS': 'Montserrat',\n",
    "    'MA': 'Morocco',\n",
    "    'MZ': 'Mozambique',\n",
    "    'MM': 'Myanmar',\n",
    "    'NA': 'Namibia',\n",
    "    'NR': 'Nauru',\n",
    "    'NP': 'Nepal',\n",
    "    'NL': 'Netherlands',\n",
    "    'NC': 'New Caledonia',\n",
    "    'NZ': 'New Zealand',\n",
    "    'NI': 'Nicaragua',\n",
    "    'NE': 'Niger',\n",
    "    'NG': 'Nigeria',\n",
    "    'NU': 'Niue',\n",
    "    'NF': 'Norfolk Island',\n",
    "    'MP': 'Northern Mariana Islands',\n",
    "    'NO': 'Norway',\n",
    "    'OM': 'Oman',\n",
    "    'PK': 'Pakistan',\n",
    "    'PW': 'Palau',\n",
    "    'PS': 'Palestine, State of',\n",
    "    'PA': 'Panama',\n",
    "    'PG': 'Papua New Guinea',\n",
    "    'PY': 'Paraguay',\n",
    "    'PE': 'Peru',\n",
    "    'PH': 'Philippines',\n",
    "    'PN': 'Pitcairn',\n",
    "    'PL': 'Poland',\n",
    "    'PT': 'Portugal',\n",
    "    'PR': 'Puerto Rico',\n",
    "    'QA': 'Qatar',\n",
    "    'RE': 'RÃ©union',\n",
    "    'RO': 'Romania',\n",
    "    'RU': 'Russian Federation',\n",
    "    'RW': 'Rwanda',\n",
    "    'BL': 'Saint BarthÃ©lemy',\n",
    "    'SH': 'Saint Helena, Ascension and Tristan da Cunha',\n",
    "    'KN': 'Saint Kitts and Nevis',\n",
    "    'LC': 'Saint Lucia',\n",
    "    'MF': 'Saint Martin (French part)',\n",
    "    'PM': 'Saint Pierre and Miquelon',\n",
    "    'VC': 'Saint Vincent and the Grenadines',\n",
    "    'WS': 'Samoa',\n",
    "    'SM': 'San Marino',\n",
    "    'ST': 'Sao Tome and Principe',\n",
    "    'SA': 'Saudi Arabia',\n",
    "    'SN': 'Senegal',\n",
    "    'RS': 'Serbia',\n",
    "    'SC': 'Seychelles',\n",
    "    'SL': 'Sierra Leone',\n",
    "    'SG': 'Singapore',\n",
    "    'SX': 'Sint Maarten (Dutch part)',\n",
    "    'SK': 'Slovakia',\n",
    "    'SI': 'Slovenia',\n",
    "    'SB': 'Solomon Islands',\n",
    "    'SO': 'Somalia',\n",
    "    'ZA': 'South Africa',\n",
    "    'GS': 'South Georgia and the South Sandwich Islands',\n",
    "    'SS': 'South Sudan',\n",
    "    'ES': 'Spain',\n",
    "    'LK': 'Sri Lanka',\n",
    "    'SD': 'Sudan',\n",
    "    'SR': 'Suriname',\n",
    "    'SJ': 'Svalbard and Jan Mayen',\n",
    "    'SZ': 'Swaziland',\n",
    "    'SE': 'Sweden',\n",
    "    'CH': 'Switzerland',\n",
    "    'SY': 'Syrian Arab Republic',\n",
    "    'TW': 'Taiwan, Province of China',\n",
    "    'TJ': 'Tajikistan',\n",
    "    'TZ': 'Tanzania, United Republic of',\n",
    "    'TH': 'Thailand',\n",
    "    'TL': 'Timor-Leste',\n",
    "    'TG': 'Togo',\n",
    "    'TK': 'Tokelau',\n",
    "    'TO': 'Tonga',\n",
    "    'TT': 'Trinidad and Tobago',\n",
    "    'TN': 'Tunisia',\n",
    "    'TR': 'Turkey',\n",
    "    'TM': 'Turkmenistan',\n",
    "    'TC': 'Turks and Caicos Islands',\n",
    "    'TV': 'Tuvalu',\n",
    "    'UG': 'Uganda',\n",
    "    'UA': 'Ukraine',\n",
    "    'AE': 'United Arab Emirates',\n",
    "    'GB': 'UK',\n",
    "    'US': 'United States',\n",
    "    'UM': 'United States Minor Outlying Islands',\n",
    "    'UY': 'Uruguay',\n",
    "    'UZ': 'Uzbekistan',\n",
    "    'VU': 'Vanuatu',\n",
    "    'VE': 'Venezuela, Bolivarian Republic of',\n",
    "    'VN': 'Viet Nam',\n",
    "    'VG': 'Virgin Islands, British',\n",
    "    'VI': 'Virgin Islands, U.S.',\n",
    "    'WF': 'Wallis and Futuna',\n",
    "    'EH': 'Western Sahara',\n",
    "    'YE': 'Yemen',\n",
    "    'ZM': 'Zambia',\n",
    "    'ZW': 'Zimbabwe'\n",
    "}"
   ]
  },
  {
   "cell_type": "code",
   "execution_count": 1045,
   "metadata": {},
   "outputs": [
    {
     "data": {
      "text/plain": [
       "DATAFLOW        object\n",
       "LAST UPDATE     object\n",
       "freq            object\n",
       "reporter        object\n",
       "partner         object\n",
       "product          int64\n",
       "flow             int64\n",
       "indicators      object\n",
       "TIME_PERIOD      int64\n",
       "OBS_VALUE        int64\n",
       "OBS_FLAG       float64\n",
       "dtype: object"
      ]
     },
     "execution_count": 1045,
     "metadata": {},
     "output_type": "execute_result"
    }
   ],
   "source": [
    "trade_file = pd.read_csv(\"eu-car-trade.csv\")\n",
    "data = trade_file\n",
    "#data = trade_file[(trade_file['flow'] == 2)] # exports = 2, imports = 1\n",
    "data[\"reporter\"] = data[\"reporter\"].astype(str)\n",
    "data[\"partner\"] = data[\"partner\"].astype(str)\n",
    "data.dtypes"
   ]
  },
  {
   "cell_type": "markdown",
   "metadata": {},
   "source": [
    "## 1. Exploratory Data Analysis"
   ]
  },
  {
   "cell_type": "code",
   "execution_count": 1046,
   "metadata": {},
   "outputs": [],
   "source": [
    "data_2 = data[(data['partner'] != 'GB') & (data['reporter'] != 'GB')]\n",
    "filtered_data = data_2[(data_2[\"OBS_VALUE\"] > 200_000_000) & (data_2[\"flow\"] == 2)] # flow: (2) exports, (1) imports"
   ]
  },
  {
   "cell_type": "code",
   "execution_count": 1047,
   "metadata": {},
   "outputs": [
    {
     "data": {
      "image/png": "[encoded data removed]",
      "text/plain": [
       "<Figure size 1600x600 with 2 Axes>"
      ]
     },
     "metadata": {},
     "output_type": "display_data"
    }
   ],
   "source": [
    "# Create a figure with two subplots\n",
    "fig, axs = plt.subplots(1, 2, figsize=(16, 6))\n",
    "\n",
    "# Plot the horizontal bar chart for exports\n",
    "values_out = filtered_data[\"reporter\"].value_counts()\n",
    "axs[0].barh(values_out.index, values_out)\n",
    "axs[0].invert_yaxis()\n",
    "\n",
    "# Add annotations to the bars in the first chart\n",
    "for index, value in enumerate(values_out):\n",
    "    axs[0].text(value, index, str(value), ha='left', va='center', fontsize=10)\n",
    "\n",
    "axs[0].set_xlabel('Count')\n",
    "axs[0].set_ylabel('Reporter')\n",
    "axs[0].set_title('Value Counts for Exports')\n",
    "\n",
    "# Plot the horizontal bar chart for imports\n",
    "values_in = filtered_data[\"partner\"].value_counts()\n",
    "axs[1].barh(values_in.index, values_in)\n",
    "axs[1].invert_yaxis()\n",
    "\n",
    "# Add annotations to the bars in the second chart\n",
    "for index, value in enumerate(values_in):\n",
    "    axs[1].text(value, index, str(value), ha='left', va='center', fontsize=10)\n",
    "\n",
    "axs[1].set_xlabel('Count')\n",
    "axs[1].set_ylabel('Reporter')\n",
    "axs[1].set_title('Value Counts for Imports')\n",
    "\n",
    "# Adjust layout to prevent clipping of titles\n",
    "plt.tight_layout()\n",
    "\n",
    "# Show the plot\n",
    "plt.show()"
   ]
  },
  {
   "cell_type": "code",
   "execution_count": 1048,
   "metadata": {},
   "outputs": [
    {
     "name": "stdout",
     "output_type": "stream",
     "text": [
      "Complete - Number of nodes: 53 \n",
      "Complete - Number of edges: 258 \n",
      "\n",
      "Core - Number of nodes: 42 \n",
      "Core - Number of edges: 247\n"
     ]
    }
   ],
   "source": [
    "G_dir = nx.from_pandas_edgelist(filtered_data, \"reporter\", \"partner\", edge_attr=\"OBS_VALUE\", create_using=nx.DiGraph)\n",
    "\n",
    "# Extract the k-core subgraph of the graph with k=2 edges\n",
    "G_dir_core = nx.k_core(G_dir, 2) \n",
    "\n",
    "print(\"Complete - Number of nodes:\", G_dir.number_of_nodes(), \"\\nComplete - Number of edges:\", G_dir.number_of_edges(),\"\\n\")\n",
    "print(\"Core - Number of nodes:\", G_dir_core.number_of_nodes(), \"\\nCore - Number of edges:\", G_dir_core.number_of_edges())"
   ]
  },
  {
   "cell_type": "code",
   "execution_count": 1049,
   "metadata": {},
   "outputs": [
    {
     "data": {
      "text/plain": [
       "OutEdgeView([('AT', 'BE'), ('AT', 'CN'), ('AT', 'CZ'), ('AT', 'DE'), ('AT', 'HU'), ('AT', 'IT'), ('AT', 'JP'), ('AT', 'KR'), ('AT', 'RO'), ('AT', 'SK'), ('AT', 'US'), ('BE', 'AT'), ('BE', 'CA'), ('BE', 'CH'), ('BE', 'CN'), ('BE', 'CZ'), ('BE', 'DE'), ('BE', 'DK'), ('BE', 'ES'), ('BE', 'FI'), ('BE', 'FR'), ('BE', 'HU'), ('BE', 'IE'), ('BE', 'IL'), ('BE', 'IT'), ('BE', 'JP'), ('BE', 'LU'), ('BE', 'NL'), ('BE', 'NO'), ('BE', 'PL'), ('BE', 'PT'), ('BE', 'RO'), ('BE', 'SE'), ('BE', 'TR'), ('BE', 'TW'), ('BE', 'US'), ('CZ', 'AT'), ('CZ', 'AU'), ('CZ', 'BE'), ('CZ', 'CH'), ('CZ', 'DE'), ('CZ', 'DK'), ('CZ', 'EG'), ('CZ', 'ES'), ('CZ', 'FI'), ('CZ', 'FR'), ('CZ', 'HU'), ('CZ', 'IE'), ('CZ', 'IL'), ('CZ', 'IT'), ('CZ', 'MX'), ('CZ', 'NL'), ('CZ', 'NO'), ('CZ', 'PL'), ('CZ', 'RO'), ('CZ', 'SA'), ('CZ', 'SE'), ('CZ', 'SK'), ('CZ', 'TR'), ('DE', 'AE'), ('DE', 'AT'), ('DE', 'AU'), ('DE', 'BE'), ('DE', 'BG'), ('DE', 'BR'), ('DE', 'BY'), ('DE', 'CA'), ('DE', 'CH'), ('DE', 'CN'), ('DE', 'CZ'), ('DE', 'DK'), ('DE', 'EE'), ('DE', 'EG'), ('DE', 'ES'), ('DE', 'FI'), ('DE', 'FR'), ('DE', 'GR'), ('DE', 'HK'), ('DE', 'HR'), ('DE', 'HU'), ('DE', 'IE'), ('DE', 'IL'), ('DE', 'IT'), ('DE', 'JP'), ('DE', 'KR'), ('DE', 'KW'), ('DE', 'KZ'), ('DE', 'LT'), ('DE', 'LU'), ('DE', 'LV'), ('DE', 'MA'), ('DE', 'MX'), ('DE', 'NL'), ('DE', 'NO'), ('DE', 'NZ'), ('DE', 'PL'), ('DE', 'PT'), ('DE', 'QA'), ('DE', 'RO'), ('DE', 'RU'), ('DE', 'SA'), ('DE', 'SE'), ('DE', 'SG'), ('DE', 'SI'), ('DE', 'SK'), ('DE', 'TR'), ('DE', 'TW'), ('DE', 'UA'), ('DE', 'US'), ('DE', 'ZA'), ('HU', 'AT'), ('HU', 'BE'), ('HU', 'CZ'), ('HU', 'DE'), ('HU', 'ES'), ('HU', 'FR'), ('HU', 'IT'), ('HU', 'NL'), ('HU', 'PL'), ('HU', 'RO'), ('HU', 'SK'), ('HU', 'US'), ('IT', 'AT'), ('IT', 'BE'), ('IT', 'CH'), ('IT', 'CN'), ('IT', 'DE'), ('IT', 'ES'), ('IT', 'FR'), ('IT', 'HU'), ('IT', 'JP'), ('IT', 'KR'), ('IT', 'NL'), ('IT', 'PL'), ('IT', 'US'), ('RO', 'DE'), ('RO', 'ES'), ('RO', 'FR'), ('RO', 'IT'), ('RO', 'NL'), ('RO', 'PL'), ('RO', 'TR'), ('SK', 'AT'), ('SK', 'AU'), ('SK', 'BE'), ('SK', 'CA'), ('SK', 'CH'), ('SK', 'CN'), ('SK', 'CZ'), ('SK', 'DE'), ('SK', 'DK'), ('SK', 'EG'), ('SK', 'ES'), ('SK', 'FR'), ('SK', 'HU'), ('SK', 'IT'), ('SK', 'KR'), ('SK', 'NL'), ('SK', 'PL'), ('SK', 'RU'), ('SK', 'SE'), ('SK', 'US'), ('DK', 'DE'), ('ES', 'AT'), ('ES', 'AU'), ('ES', 'BE'), ('ES', 'CH'), ('ES', 'CZ'), ('ES', 'DE'), ('ES', 'DK'), ('ES', 'FR'), ('ES', 'GR'), ('ES', 'HU'), ('ES', 'IL'), ('ES', 'IT'), ('ES', 'JP'), ('ES', 'MA'), ('ES', 'MX'), ('ES', 'NL'), ('ES', 'NO'), ('ES', 'PL'), ('ES', 'PT'), ('ES', 'RO'), ('ES', 'SE'), ('ES', 'SK'), ('ES', 'TR'), ('ES', 'US'), ('ES', 'ZA'), ('FI', 'DE'), ('FR', 'AT'), ('FR', 'BE'), ('FR', 'CH'), ('FR', 'CZ'), ('FR', 'DE'), ('FR', 'DK'), ('FR', 'DZ'), ('FR', 'EG'), ('FR', 'ES'), ('FR', 'GR'), ('FR', 'IT'), ('FR', 'JP'), ('FR', 'NL'), ('FR', 'NO'), ('FR', 'PL'), ('FR', 'PT'), ('FR', 'RO'), ('FR', 'SE'), ('FR', 'SI'), ('FR', 'SK'), ('FR', 'TR'), ('LU', 'BE'), ('LU', 'FR'), ('NL', 'BE'), ('NL', 'DE'), ('NL', 'ES'), ('NL', 'FR'), ('NL', 'IT'), ('NL', 'US'), ('PL', 'BE'), ('PL', 'BY'), ('PL', 'DE'), ('PL', 'ES'), ('PL', 'FR'), ('PL', 'HU'), ('PL', 'IT'), ('PL', 'LT'), ('PL', 'UA'), ('PT', 'DE'), ('PT', 'ES'), ('PT', 'FR'), ('PT', 'IT'), ('SE', 'BE'), ('SE', 'CN'), ('SE', 'DE'), ('SE', 'DK'), ('SE', 'EE'), ('SE', 'ES'), ('SE', 'FI'), ('SE', 'FR'), ('SE', 'IT'), ('SE', 'JP'), ('SE', 'KR'), ('SE', 'NL'), ('SE', 'NO'), ('SE', 'PL'), ('SE', 'TW'), ('SE', 'US'), ('EE', 'LT'), ('LT', 'BY'), ('SI', 'AT'), ('SI', 'CZ'), ('SI', 'DE'), ('SI', 'FR'), ('SI', 'HR'), ('SI', 'HU'), ('SI', 'IL'), ('SI', 'IT'), ('SI', 'PL')])"
      ]
     },
     "execution_count": 1049,
     "metadata": {},
     "output_type": "execute_result"
    }
   ],
   "source": [
    "G_dir.edges()"
   ]
  },
  {
   "cell_type": "markdown",
   "metadata": {},
   "source": [
    "**Properties of directed networks**"
   ]
  },
  {
   "cell_type": "code",
   "execution_count": 1050,
   "metadata": {},
   "outputs": [
    {
     "name": "stdout",
     "output_type": "stream",
     "text": [
      "Edge items: [('AT', 20), ('BE', 37), ('CN', 6), ('CZ', 31), ('DE', 67)]\n"
     ]
    }
   ],
   "source": [
    "# Calculate degree centrality\n",
    "\n",
    "# Directed edge count\n",
    "\n",
    "# G = nx.from_pandas_edgelist(filtered_data, \"reporter\", \"partner\", \"OBS_VALUE\") -> undirected\n",
    "\n",
    "degree_map = {} # create a map\n",
    "\n",
    "degree_map = collections.defaultdict(int)\n",
    "for node_a,node_b in G_dir.edges(): #loop through edges\n",
    "  degree_map[node_a] += 1\n",
    "  degree_map[node_b] += 1\n",
    "print(\"Edge items:\",list(degree_map.items())[:5])\n",
    "\n",
    "# Directed edge count\n",
    "\n"
   ]
  },
  {
   "cell_type": "code",
   "execution_count": 1051,
   "metadata": {},
   "outputs": [
    {
     "name": "stdout",
     "output_type": "stream",
     "text": [
      "Number of edges in graph: 258\n",
      "Length of edge_weights: 258\n",
      "\n",
      "Indegree map items: [('AT', 9), ('BE', 12), ('CN', 6), ('CZ', 8), ('DE', 16)]\n",
      "In-degree edge weights (country): {'AT': 7647415625, 'BE': 15740622857, 'CN': 24299112268, 'CZ': 4160911624, 'DE': 48388064580, 'HU': 3415066827, 'IT': 19584142794, 'JP': 5618503224, 'KR': 8172332965, 'RO': 2326329980, 'SK': 2595123738, 'US': 36378286539, 'CA': 2913090212, 'CH': 6770033668, 'DK': 4771500815, 'ES': 11246713743, 'FI': 2123419737, 'FR': 28267376475, 'IE': 1550590023, 'IL': 1863825366, 'LU': 1723860660, 'NL': 12509737626, 'NO': 5633867323, 'PL': 9770946982, 'PT': 3019562892, 'SE': 7484900193, 'TR': 5115451887, 'TW': 2129886585, 'AU': 2585830889, 'EG': 1273594275, 'MX': 1113585115, 'SA': 886933814, 'AE': 1186938168, 'BG': 426481537, 'BR': 470310976, 'BY': 1424650412, 'EE': 704712248, 'GR': 832009824, 'HK': 435630561, 'HR': 643956351, 'KW': 257487788, 'KZ': 353630449, 'LT': 899911634, 'LV': 282934229, 'MA': 689749848, 'NZ': 224786475, 'QA': 215097837, 'RU': 1201208457, 'SG': 266194581, 'SI': 714994063, 'UA': 808799135, 'ZA': 885785126, 'DZ': 497720910}\n",
      "In-degree edge weights (single): {('BE', 'AT'): 433252066, ('CN', 'AT'): 650758147, ('CZ', 'AT'): 454697203, ('DE', 'AT'): 1299332737, ('HU', 'AT'): 354137258, ('IT', 'AT'): 203708239, ('JP', 'AT'): 289386471, ('KR', 'AT'): 552028079, ('RO', 'AT'): 277991546, ('SK', 'AT'): 230384305, ('US', 'AT'): 749631503, ('AT', 'BE'): 494008971, ('CA', 'BE'): 233741443, ('CH', 'BE'): 399426322, ('CN', 'BE'): 232218847, ('CZ', 'BE'): 270216610, ('DE', 'BE'): 6860632399, ('DK', 'BE'): 568586895, ('ES', 'BE'): 995642562, ('FI', 'BE'): 336094368, ('FR', 'BE'): 3136891081, ('HU', 'BE'): 269990612, ('IE', 'BE'): 460690013, ('IL', 'BE'): 209445642, ('IT', 'BE'): 936039458, ('JP', 'BE'): 270152108, ('LU', 'BE'): 1131028280, ('NL', 'BE'): 2521253123, ('NO', 'BE'): 1571607159, ('PL', 'BE'): 1380366884, ('PT', 'BE'): 415529711, ('RO', 'BE'): 241730289, ('SE', 'BE'): 2870840758, ('TR', 'BE'): 208784637, ('TW', 'BE'): 345992833, ('US', 'BE'): 1949849666, ('AT', 'CZ'): 733466230, ('AU', 'CZ'): 208434694, ('BE', 'CZ'): 1077892300, ('CH', 'CZ'): 693221017, ('DE', 'CZ'): 5499882423, ('DK', 'CZ'): 310830973, ('EG', 'CZ'): 415052123, ('ES', 'CZ'): 1184162237, ('FI', 'CZ'): 202853495, ('FR', 'CZ'): 2024582625, ('HU', 'CZ'): 515382708, ('IE', 'CZ'): 276460065, ('IL', 'CZ'): 512582395, ('IT', 'CZ'): 1364092565, ('MX', 'CZ'): 203859500, ('NL', 'CZ'): 601193192, ('NO', 'CZ'): 460020258, ('PL', 'CZ'): 1353953261, ('RO', 'CZ'): 289839664, ('SA', 'CZ'): 249738424, ('SE', 'CZ'): 590665152, ('SK', 'CZ'): 856909461, ('TR', 'CZ'): 520502101, ('AE', 'DE'): 1186938168, ('AT', 'DE'): 4264805586, ('AU', 'DE'): 1906437787, ('BE', 'DE'): 5684178839, ('BG', 'DE'): 426481537, ('BR', 'DE'): 470310976, ('BY', 'DE'): 613285475, ('CA', 'DE'): 2448300171, ('CH', 'DE'): 4146225598, ('CN', 'DE'): 19477511755, ('CZ', 'DE'): 1772163169, ('DK', 'DE'): 2157070669, ('EE', 'DE'): 294214401, ('EG', 'DE'): 395762707, ('ES', 'DE'): 4294772218, ('FI', 'DE'): 917172724, ('FR', 'DE'): 8386653335, ('GR', 'DE'): 409051063, ('HK', 'DE'): 435630561, ('HR', 'DE'): 399049234, ('HU', 'DE'): 1111097184, ('IE', 'DE'): 813439945, ('IL', 'DE'): 526701607, ('IT', 'DE'): 7927091655, ('JP', 'DE'): 3513800183, ('KR', 'DE'): 6966922452, ('KW', 'DE'): 257487788, ('KZ', 'DE'): 353630449, ('LT', 'DE'): 402662645, ('LU', 'DE'): 592832380, ('LV', 'DE'): 282934229, ('MA', 'DE'): 366493200, ('MX', 'DE'): 611264151, ('NL', 'DE'): 6071879923, ('NO', 'DE'): 2849591376, ('NZ', 'DE'): 224786475, ('PL', 'DE'): 3506421186, ('PT', 'DE'): 1276212749, ('QA', 'DE'): 215097837, ('RO', 'DE'): 892387474, ('RU', 'DE'): 548398402, ('SA', 'DE'): 637195390, ('SE', 'DE'): 2957410564, ('SG', 'DE'): 266194581, ('SI', 'DE'): 493948259, ('SK', 'DE'): 794547788, ('TR', 'DE'): 2391178015, ('TW', 'DE'): 1562863906, ('UA', 'DE'): 328181136, ('US', 'DE'): 23885407106, ('ZA', 'DE'): 592845706, ('AT', 'HU'): 356232757, ('BE', 'HU'): 252636353, ('CZ', 'HU'): 212582554, ('DE', 'HU'): 2760469979, ('ES', 'HU'): 361219803, ('FR', 'HU'): 616458020, ('IT', 'HU'): 636956010, ('NL', 'HU'): 383251481, ('PL', 'HU'): 203351192, ('RO', 'HU'): 204401508, ('SK', 'HU'): 219575384, ('US', 'HU'): 349399175, ('AT', 'IT'): 255102909, ('BE', 'IT'): 550831967, ('CH', 'IT'): 461057363, ('CN', 'IT'): 961056632, ('DE', 'IT'): 2838587917, ('ES', 'IT'): 671170379, ('FR', 'IT'): 1516524523, ('HU', 'IT'): 203676297, ('JP', 'IT'): 721188792, ('KR', 'IT'): 216902932, ('NL', 'IT'): 203893360, ('PL', 'IT'): 266340330, ('US', 'IT'): 3320825151, ('DE', 'RO'): 808276467, ('ES', 'RO'): 339292731, ('FR', 'RO'): 1008985331, ('IT', 'RO'): 827419538, ('NL', 'RO'): 790973739, ('PL', 'RO'): 234922522, ('TR', 'RO'): 344361927, ('AT', 'SK'): 432212434, ('AU', 'SK'): 239654623, ('BE', 'SK'): 379295466, ('CA', 'SK'): 231048598, ('CH', 'SK'): 200583258, ('CN', 'SK'): 2087083125, ('CZ', 'SK'): 383675193, ('DE', 'SK'): 6461932552, ('DK', 'SK'): 250423956, ('EG', 'SK'): 234511335, ('ES', 'SK'): 891727018, ('FR', 'SK'): 2904473679, ('HU', 'SK'): 292678623, ('IT', 'SK'): 1031413951, ('KR', 'SK'): 213780638, ('NL', 'SK'): 394404072, ('PL', 'SK'): 668597863, ('RU', 'SK'): 652810055, ('SE', 'SK'): 444056747, ('US', 'SK'): 2157210083, ('DE', 'DK'): 894754916, ('AT', 'ES'): 520153322, ('AU', 'ES'): 231303785, ('BE', 'ES'): 1627957252, ('CH', 'ES'): 534314611, ('CZ', 'ES'): 422467291, ('DE', 'ES'): 7235483170, ('DK', 'ES'): 384546624, ('FR', 'ES'): 6144186207, ('GR', 'ES'): 213275178, ('HU', 'ES'): 267556389, ('IL', 'ES'): 408246622, ('IT', 'ES'): 2957330656, ('JP', 'ES'): 326732895, ('MA', 'ES'): 323256648, ('MX', 'ES'): 298461464, ('NL', 'ES'): 461364365, ('NO', 'ES'): 207469221, ('PL', 'ES'): 525023905, ('PT', 'ES'): 821544961, ('RO', 'ES'): 217174944, ('SE', 'ES'): 363299799, ('SK', 'ES'): 213527315, ('TR', 'ES'): 1344481905, ('US', 'ES'): 213267609, ('ZA', 'ES'): 292939420, ('DE', 'FI'): 1805303286, ('AT', 'FR'): 219335183, ('BE', 'FR'): 3236951632, ('CH', 'FR'): 335205499, ('CZ', 'FR'): 375231418, ('DE', 'FR'): 4614659542, ('DK', 'FR'): 320764961, ('DZ', 'FR'): 497720910, ('EG', 'FR'): 228268110, ('ES', 'FR'): 1407428128, ('GR', 'FR'): 209683583, ('IT', 'FR'): 1536867153, ('JP', 'FR'): 225536346, ('NL', 'FR'): 819329561, ('NO', 'FR'): 214530713, ('PL', 'FR'): 740374132, ('PT', 'FR'): 506275471, ('RO', 'FR'): 202804555, ('SE', 'FR'): 258627173, ('SI', 'FR'): 221045804, ('SK', 'FR'): 280179485, ('TR', 'FR'): 306143302, ('BE', 'LU'): 214000625, ('FR', 'LU'): 209789544, ('BE', 'NL'): 1818455737, ('DE', 'NL'): 1851149726, ('ES', 'NL'): 256241453, ('FR', 'NL'): 502043974, ('IT', 'NL'): 315868954, ('US', 'NL'): 527652903, ('BE', 'PL'): 200034757, ('BY', 'PL'): 227429556, ('DE', 'PL'): 1596690883, ('ES', 'PL'): 246405744, ('FR', 'PL'): 406927791, ('HU', 'PL'): 200408374, ('IT', 'PL'): 769612620, ('LT', 'PL'): 231494673, ('UA', 'PL'): 480617999, ('DE', 'PT'): 1040157772, ('ES', 'PT'): 394875789, ('FR', 'PT'): 315528140, ('IT', 'PT'): 486807401, ('BE', 'SE'): 265135863, ('CN', 'SE'): 890483762, ('DE', 'SE'): 973444088, ('DK', 'SE'): 779276737, ('EE', 'SE'): 410497847, ('ES', 'SE'): 203775681, ('FI', 'SE'): 667299150, ('FR', 'SE'): 348208477, ('IT', 'SE'): 273103455, ('JP', 'SE'): 271706429, ('KR', 'SE'): 222698864, ('NL', 'SE'): 262194810, ('NO', 'SE'): 330648596, ('PL', 'SE'): 237567656, ('TW', 'SE'): 221029846, ('US', 'SE'): 3225043343, ('LT', 'EE'): 265754316, ('BY', 'LT'): 583935381, ('AT', 'SI'): 372098233, ('CZ', 'SI'): 269878186, ('DE', 'SI'): 1847306723, ('FR', 'SI'): 746123748, ('HR', 'SI'): 244907117, ('HU', 'SI'): 200139382, ('IL', 'SI'): 206849100, ('IT', 'SI'): 317831139, ('PL', 'SI'): 654028051}\n",
      "\n",
      "Outdegree map items: [('AT', 11), ('BE', 25), ('CN', 0), ('CZ', 23), ('DE', 51)]\n",
      "Out-degree edge weights (country): {'AT': 5495307554, 'BE': 28310760671, 'CN': 0, 'CZ': 20145576863, 'DE': 133306921714, 'HU': 6556534216, 'IT': 12187158552, 'JP': 0, 'KR': 0, 'RO': 4354232255, 'SK': 20551573269, 'US': 0, 'CA': 0, 'CH': 0, 'DK': 894754916, 'ES': 26555365558, 'FI': 1805303286, 'FR': 16756962661, 'IE': 0, 'IL': 0, 'LU': 423790169, 'NL': 5271412747, 'NO': 0, 'PL': 4359622397, 'PT': 2237369102, 'SE': 9582114604, 'TR': 0, 'TW': 0, 'AU': 0, 'EG': 0, 'MX': 0, 'SA': 0, 'AE': 0, 'BG': 0, 'BR': 0, 'BY': 0, 'EE': 265754316, 'GR': 0, 'HK': 0, 'HR': 0, 'KW': 0, 'KZ': 0, 'LT': 583935381, 'LV': 0, 'MA': 0, 'NZ': 0, 'QA': 0, 'RU': 0, 'SG': 0, 'SI': 4859161679, 'UA': 0, 'ZA': 0, 'DZ': 0}\n",
      "Out-degree edge weights (single): {('AT', 'BE'): 433252066, ('AT', 'CN'): 650758147, ('AT', 'CZ'): 454697203, ('AT', 'DE'): 1299332737, ('AT', 'HU'): 354137258, ('AT', 'IT'): 203708239, ('AT', 'JP'): 289386471, ('AT', 'KR'): 552028079, ('AT', 'RO'): 277991546, ('AT', 'SK'): 230384305, ('AT', 'US'): 749631503, ('BE', 'AT'): 494008971, ('BE', 'CA'): 233741443, ('BE', 'CH'): 399426322, ('BE', 'CN'): 232218847, ('BE', 'CZ'): 270216610, ('BE', 'DE'): 6860632399, ('BE', 'DK'): 568586895, ('BE', 'ES'): 995642562, ('BE', 'FI'): 336094368, ('BE', 'FR'): 3136891081, ('BE', 'HU'): 269990612, ('BE', 'IE'): 460690013, ('BE', 'IL'): 209445642, ('BE', 'IT'): 936039458, ('BE', 'JP'): 270152108, ('BE', 'LU'): 1131028280, ('BE', 'NL'): 2521253123, ('BE', 'NO'): 1571607159, ('BE', 'PL'): 1380366884, ('BE', 'PT'): 415529711, ('BE', 'RO'): 241730289, ('BE', 'SE'): 2870840758, ('BE', 'TR'): 208784637, ('BE', 'TW'): 345992833, ('BE', 'US'): 1949849666, ('CZ', 'AT'): 733466230, ('CZ', 'AU'): 208434694, ('CZ', 'BE'): 1077892300, ('CZ', 'CH'): 693221017, ('CZ', 'DE'): 5499882423, ('CZ', 'DK'): 310830973, ('CZ', 'EG'): 415052123, ('CZ', 'ES'): 1184162237, ('CZ', 'FI'): 202853495, ('CZ', 'FR'): 2024582625, ('CZ', 'HU'): 515382708, ('CZ', 'IE'): 276460065, ('CZ', 'IL'): 512582395, ('CZ', 'IT'): 1364092565, ('CZ', 'MX'): 203859500, ('CZ', 'NL'): 601193192, ('CZ', 'NO'): 460020258, ('CZ', 'PL'): 1353953261, ('CZ', 'RO'): 289839664, ('CZ', 'SA'): 249738424, ('CZ', 'SE'): 590665152, ('CZ', 'SK'): 856909461, ('CZ', 'TR'): 520502101, ('DE', 'AE'): 1186938168, ('DE', 'AT'): 4264805586, ('DE', 'AU'): 1906437787, ('DE', 'BE'): 5684178839, ('DE', 'BG'): 426481537, ('DE', 'BR'): 470310976, ('DE', 'BY'): 613285475, ('DE', 'CA'): 2448300171, ('DE', 'CH'): 4146225598, ('DE', 'CN'): 19477511755, ('DE', 'CZ'): 1772163169, ('DE', 'DK'): 2157070669, ('DE', 'EE'): 294214401, ('DE', 'EG'): 395762707, ('DE', 'ES'): 4294772218, ('DE', 'FI'): 917172724, ('DE', 'FR'): 8386653335, ('DE', 'GR'): 409051063, ('DE', 'HK'): 435630561, ('DE', 'HR'): 399049234, ('DE', 'HU'): 1111097184, ('DE', 'IE'): 813439945, ('DE', 'IL'): 526701607, ('DE', 'IT'): 7927091655, ('DE', 'JP'): 3513800183, ('DE', 'KR'): 6966922452, ('DE', 'KW'): 257487788, ('DE', 'KZ'): 353630449, ('DE', 'LT'): 402662645, ('DE', 'LU'): 592832380, ('DE', 'LV'): 282934229, ('DE', 'MA'): 366493200, ('DE', 'MX'): 611264151, ('DE', 'NL'): 6071879923, ('DE', 'NO'): 2849591376, ('DE', 'NZ'): 224786475, ('DE', 'PL'): 3506421186, ('DE', 'PT'): 1276212749, ('DE', 'QA'): 215097837, ('DE', 'RO'): 892387474, ('DE', 'RU'): 548398402, ('DE', 'SA'): 637195390, ('DE', 'SE'): 2957410564, ('DE', 'SG'): 266194581, ('DE', 'SI'): 493948259, ('DE', 'SK'): 794547788, ('DE', 'TR'): 2391178015, ('DE', 'TW'): 1562863906, ('DE', 'UA'): 328181136, ('DE', 'US'): 23885407106, ('DE', 'ZA'): 592845706, ('HU', 'AT'): 356232757, ('HU', 'BE'): 252636353, ('HU', 'CZ'): 212582554, ('HU', 'DE'): 2760469979, ('HU', 'ES'): 361219803, ('HU', 'FR'): 616458020, ('HU', 'IT'): 636956010, ('HU', 'NL'): 383251481, ('HU', 'PL'): 203351192, ('HU', 'RO'): 204401508, ('HU', 'SK'): 219575384, ('HU', 'US'): 349399175, ('IT', 'AT'): 255102909, ('IT', 'BE'): 550831967, ('IT', 'CH'): 461057363, ('IT', 'CN'): 961056632, ('IT', 'DE'): 2838587917, ('IT', 'ES'): 671170379, ('IT', 'FR'): 1516524523, ('IT', 'HU'): 203676297, ('IT', 'JP'): 721188792, ('IT', 'KR'): 216902932, ('IT', 'NL'): 203893360, ('IT', 'PL'): 266340330, ('IT', 'US'): 3320825151, ('RO', 'DE'): 808276467, ('RO', 'ES'): 339292731, ('RO', 'FR'): 1008985331, ('RO', 'IT'): 827419538, ('RO', 'NL'): 790973739, ('RO', 'PL'): 234922522, ('RO', 'TR'): 344361927, ('SK', 'AT'): 432212434, ('SK', 'AU'): 239654623, ('SK', 'BE'): 379295466, ('SK', 'CA'): 231048598, ('SK', 'CH'): 200583258, ('SK', 'CN'): 2087083125, ('SK', 'CZ'): 383675193, ('SK', 'DE'): 6461932552, ('SK', 'DK'): 250423956, ('SK', 'EG'): 234511335, ('SK', 'ES'): 891727018, ('SK', 'FR'): 2904473679, ('SK', 'HU'): 292678623, ('SK', 'IT'): 1031413951, ('SK', 'KR'): 213780638, ('SK', 'NL'): 394404072, ('SK', 'PL'): 668597863, ('SK', 'RU'): 652810055, ('SK', 'SE'): 444056747, ('SK', 'US'): 2157210083, ('DK', 'DE'): 894754916, ('ES', 'AT'): 520153322, ('ES', 'AU'): 231303785, ('ES', 'BE'): 1627957252, ('ES', 'CH'): 534314611, ('ES', 'CZ'): 422467291, ('ES', 'DE'): 7235483170, ('ES', 'DK'): 384546624, ('ES', 'FR'): 6144186207, ('ES', 'GR'): 213275178, ('ES', 'HU'): 267556389, ('ES', 'IL'): 408246622, ('ES', 'IT'): 2957330656, ('ES', 'JP'): 326732895, ('ES', 'MA'): 323256648, ('ES', 'MX'): 298461464, ('ES', 'NL'): 461364365, ('ES', 'NO'): 207469221, ('ES', 'PL'): 525023905, ('ES', 'PT'): 821544961, ('ES', 'RO'): 217174944, ('ES', 'SE'): 363299799, ('ES', 'SK'): 213527315, ('ES', 'TR'): 1344481905, ('ES', 'US'): 213267609, ('ES', 'ZA'): 292939420, ('FI', 'DE'): 1805303286, ('FR', 'AT'): 219335183, ('FR', 'BE'): 3236951632, ('FR', 'CH'): 335205499, ('FR', 'CZ'): 375231418, ('FR', 'DE'): 4614659542, ('FR', 'DK'): 320764961, ('FR', 'DZ'): 497720910, ('FR', 'EG'): 228268110, ('FR', 'ES'): 1407428128, ('FR', 'GR'): 209683583, ('FR', 'IT'): 1536867153, ('FR', 'JP'): 225536346, ('FR', 'NL'): 819329561, ('FR', 'NO'): 214530713, ('FR', 'PL'): 740374132, ('FR', 'PT'): 506275471, ('FR', 'RO'): 202804555, ('FR', 'SE'): 258627173, ('FR', 'SI'): 221045804, ('FR', 'SK'): 280179485, ('FR', 'TR'): 306143302, ('LU', 'BE'): 214000625, ('LU', 'FR'): 209789544, ('NL', 'BE'): 1818455737, ('NL', 'DE'): 1851149726, ('NL', 'ES'): 256241453, ('NL', 'FR'): 502043974, ('NL', 'IT'): 315868954, ('NL', 'US'): 527652903, ('PL', 'BE'): 200034757, ('PL', 'BY'): 227429556, ('PL', 'DE'): 1596690883, ('PL', 'ES'): 246405744, ('PL', 'FR'): 406927791, ('PL', 'HU'): 200408374, ('PL', 'IT'): 769612620, ('PL', 'LT'): 231494673, ('PL', 'UA'): 480617999, ('PT', 'DE'): 1040157772, ('PT', 'ES'): 394875789, ('PT', 'FR'): 315528140, ('PT', 'IT'): 486807401, ('SE', 'BE'): 265135863, ('SE', 'CN'): 890483762, ('SE', 'DE'): 973444088, ('SE', 'DK'): 779276737, ('SE', 'EE'): 410497847, ('SE', 'ES'): 203775681, ('SE', 'FI'): 667299150, ('SE', 'FR'): 348208477, ('SE', 'IT'): 273103455, ('SE', 'JP'): 271706429, ('SE', 'KR'): 222698864, ('SE', 'NL'): 262194810, ('SE', 'NO'): 330648596, ('SE', 'PL'): 237567656, ('SE', 'TW'): 221029846, ('SE', 'US'): 3225043343, ('EE', 'LT'): 265754316, ('LT', 'BY'): 583935381, ('SI', 'AT'): 372098233, ('SI', 'CZ'): 269878186, ('SI', 'DE'): 1847306723, ('SI', 'FR'): 746123748, ('SI', 'HR'): 244907117, ('SI', 'HU'): 200139382, ('SI', 'IL'): 206849100, ('SI', 'IT'): 317831139, ('SI', 'PL'): 654028051}\n"
     ]
    }
   ],
   "source": [
    "# Dictionary to store edge weights\n",
    "\n",
    "edge_weights = [G_dir.edges[edge][\"OBS_VALUE\"] for edge in G_dir.edges]\n",
    "edge_weights_out = {}\n",
    "edge_weights_in = {}\n",
    "sum_edge_weights_out = {node: 0 for node in G_dir.nodes()} \n",
    "sum_edge_weights_in = {node: 0 for node in G_dir.nodes()} \n",
    "\n",
    "# Remove self-loops\n",
    "G_dir.remove_edges_from(nx.selfloop_edges(G_dir))\n",
    "\n",
    "# Check the number of graph edges matches with the number of edge weights\n",
    "print(\"Number of edges in graph:\", len(G_dir.edges))\n",
    "print(\"Length of edge_weights:\", len(edge_weights))\n",
    "print()\n",
    "\n",
    "# Directed edge count\n",
    "\n",
    "in_degree_map = {node: 0 for node in G_dir.nodes()}\n",
    "out_degree_map = {node: 0 for node in G_dir.nodes()}\n",
    "\n",
    "for source, target, weight in G_dir.edges(data='OBS_VALUE', default=0):  # Loop through edges with weights\n",
    "    out_degree_map[source] += 1  # Out-degree from the reporter (source)\n",
    "    in_degree_map[target] += 1   # In-degree to the partner (target)\n",
    "    sum_edge_weights_out[source] += weight  # Sum edge weights per country (source)\n",
    "    sum_edge_weights_in[target] += weight  # Sum edge weights per country (target)\n",
    "    edge_weights_out[(source, target)] = weight  # Edge weight in the dictionary from the reporter (source)\n",
    "    edge_weights_in[(target, source)] = weight   # Edge weight to the partner (target)\n",
    "\n",
    "# print(in_degree_map)\n",
    "# print(out_degree_map)\n",
    "\n",
    "print(\"Indegree map items:\", list(in_degree_map.items())[:5])\n",
    "print(\"In-degree edge weights (country):\", sum_edge_weights_in)\n",
    "print(\"In-degree edge weights (single):\", edge_weights_in)\n",
    "\n",
    "print()\n",
    "\n",
    "print(\"Outdegree map items:\", list(out_degree_map.items())[:5])\n",
    "print(\"Out-degree edge weights (country):\", sum_edge_weights_out)\n",
    "print(\"Out-degree edge weights (single):\", edge_weights_out)"
   ]
  },
  {
   "cell_type": "code",
   "execution_count": 1052,
   "metadata": {},
   "outputs": [
    {
     "name": "stdout",
     "output_type": "stream",
     "text": [
      "Total No. of Links\n",
      "= Sum of In-Degrees: 258\n",
      "= Sum of Out-Degrees: 258\n"
     ]
    }
   ],
   "source": [
    "# Check total number of links: sum(in_degree) = sum (out_degree)\n",
    "total_degree_map = {node: in_degree_map[node] + out_degree_map[node] for node in G_dir.nodes()}\n",
    "\n",
    "# Initialize total in-degree and out-degree sums\n",
    "total_in_degree_sum = 0\n",
    "total_out_degree_sum = 0\n",
    "\n",
    "# Sum of in-degrees and out-degrees for each node\n",
    "for node in G_dir.nodes():\n",
    "    total_in_degree_sum += in_degree_map[node]\n",
    "    total_out_degree_sum += out_degree_map[node]\n",
    "\n",
    "print(\"Total No. of Links\")\n",
    "print(\"= Sum of In-Degrees:\", total_in_degree_sum)\n",
    "print(\"= Sum of Out-Degrees:\", total_out_degree_sum)"
   ]
  },
  {
   "cell_type": "code",
   "execution_count": 1053,
   "metadata": {},
   "outputs": [
    {
     "name": "stdout",
     "output_type": "stream",
     "text": [
      "Sum of degrees: 516\n",
      "No. of nodes: 53\n",
      "Average Degree = Sum of degrees/ No. of nodes = 9.735849056603774\n"
     ]
    }
   ],
   "source": [
    "# Average degree of network\n",
    "\n",
    "# Calculate the total sum of degrees\n",
    "total_degree_sum = sum(degree_map.values())\n",
    "print(\"Sum of degrees:\", total_degree_sum)\n",
    "\n",
    "# Calculate the total number of nodes\n",
    "total_nodes = len(G_dir.nodes())\n",
    "print(\"No. of nodes:\",total_nodes)\n",
    "\n",
    "# Calculate the average degree\n",
    "average_degree = total_degree_sum / total_nodes\n",
    "\n",
    "print(\"Average Degree = Sum of degrees/ No. of nodes =\", average_degree)"
   ]
  },
  {
   "cell_type": "markdown",
   "metadata": {},
   "source": [
    "**Adjacency matrix**\n",
    "\n",
    "Useful to construct the directed graphs and to process data with other programmes."
   ]
  },
  {
   "cell_type": "code",
   "execution_count": 1054,
   "metadata": {},
   "outputs": [],
   "source": [
    "# Adjacency matrix\n",
    "\n",
    "# Get the country names\n",
    "country_names = list(G_dir.nodes())\n",
    "\n",
    "# Adjacency matrix\n",
    "adjacency_matrix = nx.adjacency_matrix(G_dir, nodelist=country_names)\n",
    "\n",
    "# Convert the adjacency matrix to a dense matrix\n",
    "dense_matrix = adjacency_matrix.todense()\n",
    "\n",
    "# Print the dense matrix with country names\n",
    "# print(\"Adjacency Matrix:\")\n",
    "# print(pd.DataFrame(dense_matrix, index=country_names, columns=country_names))"
   ]
  },
  {
   "cell_type": "code",
   "execution_count": 1055,
   "metadata": {},
   "outputs": [
    {
     "name": "stdout",
     "output_type": "stream",
     "text": [
      "Adjacency matrix with edge weights:\n"
     ]
    },
    {
     "data": {
      "text/html": [
       "<div>\n",
       "<style scoped>\n",
       "    .dataframe tbody tr th:only-of-type {\n",
       "        vertical-align: middle;\n",
       "    }\n",
       "\n",
       "    .dataframe tbody tr th {\n",
       "        vertical-align: top;\n",
       "    }\n",
       "\n",
       "    .dataframe thead th {\n",
       "        text-align: right;\n",
       "    }\n",
       "</style>\n",
       "<table border=\"1\" class=\"dataframe\">\n",
       "  <thead>\n",
       "    <tr style=\"text-align: right;\">\n",
       "      <th></th>\n",
       "      <th>AT</th>\n",
       "      <th>BE</th>\n",
       "      <th>CN</th>\n",
       "      <th>CZ</th>\n",
       "      <th>DE</th>\n",
       "      <th>HU</th>\n",
       "      <th>IT</th>\n",
       "      <th>JP</th>\n",
       "      <th>KR</th>\n",
       "      <th>RO</th>\n",
       "      <th>...</th>\n",
       "      <th>LV</th>\n",
       "      <th>MA</th>\n",
       "      <th>NZ</th>\n",
       "      <th>QA</th>\n",
       "      <th>RU</th>\n",
       "      <th>SG</th>\n",
       "      <th>SI</th>\n",
       "      <th>UA</th>\n",
       "      <th>ZA</th>\n",
       "      <th>DZ</th>\n",
       "    </tr>\n",
       "  </thead>\n",
       "  <tbody>\n",
       "    <tr>\n",
       "      <th>AT</th>\n",
       "      <td>0</td>\n",
       "      <td>433252066</td>\n",
       "      <td>650758147</td>\n",
       "      <td>454697203</td>\n",
       "      <td>1299332737</td>\n",
       "      <td>354137258</td>\n",
       "      <td>203708239</td>\n",
       "      <td>289386471</td>\n",
       "      <td>552028079</td>\n",
       "      <td>277991546</td>\n",
       "      <td>...</td>\n",
       "      <td>0</td>\n",
       "      <td>0</td>\n",
       "      <td>0</td>\n",
       "      <td>0</td>\n",
       "      <td>0</td>\n",
       "      <td>0</td>\n",
       "      <td>0</td>\n",
       "      <td>0</td>\n",
       "      <td>0</td>\n",
       "      <td>0</td>\n",
       "    </tr>\n",
       "    <tr>\n",
       "      <th>BE</th>\n",
       "      <td>494008971</td>\n",
       "      <td>0</td>\n",
       "      <td>232218847</td>\n",
       "      <td>270216610</td>\n",
       "      <td>6860632399</td>\n",
       "      <td>269990612</td>\n",
       "      <td>936039458</td>\n",
       "      <td>270152108</td>\n",
       "      <td>0</td>\n",
       "      <td>241730289</td>\n",
       "      <td>...</td>\n",
       "      <td>0</td>\n",
       "      <td>0</td>\n",
       "      <td>0</td>\n",
       "      <td>0</td>\n",
       "      <td>0</td>\n",
       "      <td>0</td>\n",
       "      <td>0</td>\n",
       "      <td>0</td>\n",
       "      <td>0</td>\n",
       "      <td>0</td>\n",
       "    </tr>\n",
       "    <tr>\n",
       "      <th>CN</th>\n",
       "      <td>0</td>\n",
       "      <td>0</td>\n",
       "      <td>0</td>\n",
       "      <td>0</td>\n",
       "      <td>0</td>\n",
       "      <td>0</td>\n",
       "      <td>0</td>\n",
       "      <td>0</td>\n",
       "      <td>0</td>\n",
       "      <td>0</td>\n",
       "      <td>...</td>\n",
       "      <td>0</td>\n",
       "      <td>0</td>\n",
       "      <td>0</td>\n",
       "      <td>0</td>\n",
       "      <td>0</td>\n",
       "      <td>0</td>\n",
       "      <td>0</td>\n",
       "      <td>0</td>\n",
       "      <td>0</td>\n",
       "      <td>0</td>\n",
       "    </tr>\n",
       "    <tr>\n",
       "      <th>CZ</th>\n",
       "      <td>733466230</td>\n",
       "      <td>1077892300</td>\n",
       "      <td>0</td>\n",
       "      <td>0</td>\n",
       "      <td>5499882423</td>\n",
       "      <td>515382708</td>\n",
       "      <td>1364092565</td>\n",
       "      <td>0</td>\n",
       "      <td>0</td>\n",
       "      <td>289839664</td>\n",
       "      <td>...</td>\n",
       "      <td>0</td>\n",
       "      <td>0</td>\n",
       "      <td>0</td>\n",
       "      <td>0</td>\n",
       "      <td>0</td>\n",
       "      <td>0</td>\n",
       "      <td>0</td>\n",
       "      <td>0</td>\n",
       "      <td>0</td>\n",
       "      <td>0</td>\n",
       "    </tr>\n",
       "    <tr>\n",
       "      <th>DE</th>\n",
       "      <td>4264805586</td>\n",
       "      <td>5684178839</td>\n",
       "      <td>19477511755</td>\n",
       "      <td>1772163169</td>\n",
       "      <td>0</td>\n",
       "      <td>1111097184</td>\n",
       "      <td>7927091655</td>\n",
       "      <td>3513800183</td>\n",
       "      <td>6966922452</td>\n",
       "      <td>892387474</td>\n",
       "      <td>...</td>\n",
       "      <td>282934229</td>\n",
       "      <td>366493200</td>\n",
       "      <td>224786475</td>\n",
       "      <td>215097837</td>\n",
       "      <td>548398402</td>\n",
       "      <td>266194581</td>\n",
       "      <td>493948259</td>\n",
       "      <td>328181136</td>\n",
       "      <td>592845706</td>\n",
       "      <td>0</td>\n",
       "    </tr>\n",
       "  </tbody>\n",
       "</table>\n",
       "<p>5 rows × 53 columns</p>\n",
       "</div>"
      ],
      "text/plain": [
       "            AT          BE           CN          CZ          DE          HU  \\\n",
       "AT           0   433252066    650758147   454697203  1299332737   354137258   \n",
       "BE   494008971           0    232218847   270216610  6860632399   269990612   \n",
       "CN           0           0            0           0           0           0   \n",
       "CZ   733466230  1077892300            0           0  5499882423   515382708   \n",
       "DE  4264805586  5684178839  19477511755  1772163169           0  1111097184   \n",
       "\n",
       "            IT          JP          KR         RO  ...         LV         MA  \\\n",
       "AT   203708239   289386471   552028079  277991546  ...          0          0   \n",
       "BE   936039458   270152108           0  241730289  ...          0          0   \n",
       "CN           0           0           0          0  ...          0          0   \n",
       "CZ  1364092565           0           0  289839664  ...          0          0   \n",
       "DE  7927091655  3513800183  6966922452  892387474  ...  282934229  366493200   \n",
       "\n",
       "           NZ         QA         RU         SG         SI         UA  \\\n",
       "AT          0          0          0          0          0          0   \n",
       "BE          0          0          0          0          0          0   \n",
       "CN          0          0          0          0          0          0   \n",
       "CZ          0          0          0          0          0          0   \n",
       "DE  224786475  215097837  548398402  266194581  493948259  328181136   \n",
       "\n",
       "           ZA  DZ  \n",
       "AT          0   0  \n",
       "BE          0   0  \n",
       "CN          0   0  \n",
       "CZ          0   0  \n",
       "DE  592845706   0  \n",
       "\n",
       "[5 rows x 53 columns]"
      ]
     },
     "execution_count": 1055,
     "metadata": {},
     "output_type": "execute_result"
    }
   ],
   "source": [
    "# Initialize an empty DataFrame to store the adjacency matrix with edge values\n",
    "adjacency_matrix_df = pd.DataFrame(index=country_names, columns=country_names)\n",
    "\n",
    "# Populate the DataFrame with edge values\n",
    "for edge in G_dir.edges(data=True):\n",
    "    source, target, value = edge\n",
    "    adjacency_matrix_df.at[source, target] = value['OBS_VALUE']\n",
    "\n",
    "# Fill NaN values with 0 (for non-existing edges)\n",
    "adjacency_matrix_df = adjacency_matrix_df.fillna(0)\n",
    "\n",
    "# Print the adjacency matrix DataFrame with edge values\n",
    "print(\"Adjacency matrix with edge weights:\")\n",
    "adjacency_matrix_df.head()\n"
   ]
  },
  {
   "cell_type": "markdown",
   "metadata": {},
   "source": [
    "## 2. Degree distributions"
   ]
  },
  {
   "cell_type": "markdown",
   "metadata": {},
   "source": [
    "### Complete Network \n",
    "\n",
    "Shows the degree distribution in the years affected by Covid-19."
   ]
  },
  {
   "cell_type": "code",
   "execution_count": 1056,
   "metadata": {},
   "outputs": [
    {
     "data": {
      "image/png": "[encoded data removed]",
      "text/plain": [
       "<Figure size 1200x400 with 2 Axes>"
      ]
     },
     "metadata": {},
     "output_type": "display_data"
    }
   ],
   "source": [
    "# Extract the in-degree and out-degree sequences\n",
    "in_degree_sequence = list(in_degree_map.values())\n",
    "out_degree_sequence = list(out_degree_map.values())\n",
    "\n",
    "# Plot histograms for in-degree and out-degree distributions\n",
    "fig, axs = plt.subplots(1, 2, figsize=(12, 4))\n",
    "\n",
    "# Plot histogram for in-degree with distribution curve\n",
    "axs[0].hist(in_degree_sequence, bins='auto', density=True, alpha=0.7, color='blue')\n",
    "axs[0].set_title('In-Degree Distribution')\n",
    "axs[0].set_xlabel('In-Degree')\n",
    "axs[0].set_ylabel('Probability Density')\n",
    "\n",
    "# Fit normal distribution to the in-degree data\n",
    "mu, std = norm.fit(in_degree_sequence)\n",
    "xmin, xmax = plt.xlim()\n",
    "x = np.linspace(0, max(in_degree_sequence) + 1, 100)\n",
    "p = norm.pdf(x, mu, std)\n",
    "axs[0].plot(x, p, 'k', linewidth=2, label='Normal Fit', color='orange')\n",
    "legend1 = axs[0].legend()\n",
    "\n",
    "# Plot histogram for out-degree with distribution curve\n",
    "axs[1].hist(out_degree_sequence, bins='auto', density=True, alpha=0.7, color='green')\n",
    "axs[1].set_title('Out-Degree Distribution')\n",
    "axs[1].set_xlabel('Out-Degree')\n",
    "axs[1].set_ylabel('Probability Density')\n",
    "\n",
    "# Fit normal distribution to the out-degree data\n",
    "mu, std = norm.fit(out_degree_sequence)\n",
    "xmin, xmax = plt.xlim()\n",
    "x = np.linspace(0, max(out_degree_sequence) + 1, 100)\n",
    "p = norm.pdf(x, mu, std)\n",
    "axs[1].plot(x, p, 'k', linewidth=2, label='Normal Fit', color='orange')\n",
    "legend2 = axs[1].legend()"
   ]
  },
  {
   "cell_type": "markdown",
   "metadata": {},
   "source": [
    "### Degree Distribution Seperated by Year"
   ]
  },
  {
   "cell_type": "code",
   "execution_count": 1057,
   "metadata": {},
   "outputs": [
    {
     "data": {
      "image/png": "[encoded data removed]",
      "text/plain": [
       "<Figure size 1200x400 with 2 Axes>"
      ]
     },
     "metadata": {},
     "output_type": "display_data"
    },
    {
     "data": {
      "image/png": "[encoded data removed]",
      "text/plain": [
       "<Figure size 1200x400 with 2 Axes>"
      ]
     },
     "metadata": {},
     "output_type": "display_data"
    },
    {
     "data": {
      "image/png": "[encoded data removed]",
      "text/plain": [
       "<Figure size 1200x400 with 2 Axes>"
      ]
     },
     "metadata": {},
     "output_type": "display_data"
    },
    {
     "data": {
      "image/png": "[encoded data removed]",
      "text/plain": [
       "<Figure size 1200x400 with 2 Axes>"
      ]
     },
     "metadata": {},
     "output_type": "display_data"
    }
   ],
   "source": [
    "# List of unique years in the dataset\n",
    "unique_years= sorted(filtered_data['TIME_PERIOD'].unique())\n",
    "\n",
    "for year in unique_years:\n",
    "    # Filter data for the current year\n",
    "    filtered_data_year = filtered_data[filtered_data['TIME_PERIOD'] == year]\n",
    "\n",
    "    # Create a directed graph from the filtered data\n",
    "    graph_year = nx.from_pandas_edgelist(filtered_data_year, 'reporter', 'partner', 'OBS_VALUE', create_using=nx.DiGraph)\n",
    "\n",
    "    # Reset indegree and outdegree maps for the current year\n",
    "    in_degree_map_year = {node: 0 for node in graph_year.nodes()}\n",
    "    out_degree_map_year = {node: 0 for node in graph_year.nodes()}\n",
    "\n",
    "    # Calculate indegree and outdegree values\n",
    "    for source, target in graph_year.edges(): # loop through edges\n",
    "        if source in out_degree_map_year:\n",
    "            out_degree_map_year[source] += 1  # out-degree from the reporter (source)\n",
    "        else:\n",
    "            out_degree_map_year[source] = 1   # initialize out-degree for the new source node\n",
    "\n",
    "        if target in in_degree_map_year:\n",
    "            in_degree_map_year[target] += 1   # in-degree to the partner (target)\n",
    "        else:\n",
    "            in_degree_map_year[target] = 1    # initialize in-degree for the new target node\n",
    "\n",
    "    # Apply in-degree and out-degree sequence for the current year\n",
    "    in_degree_sequence_year = list(in_degree_map_year.values())\n",
    "    out_degree_sequence_year = list(out_degree_map_year.values())\n",
    "\n",
    "    # Plot histograms for in-degree and out-degree distributions\n",
    "    fig, axs = plt.subplots(1, 2, figsize=(12, 4))\n",
    "    \n",
    "    axs[0].hist(in_degree_sequence_year, bins='auto', density=False, alpha=0.7, color='blue') \n",
    "    axs[0].set_title(f'In-Degree Distribution - Year {year}')\n",
    "    axs[0].set_xlabel('In-Degree')\n",
    "    axs[0].set_ylabel('Number of Nodes') # density=True -> 'Probability Density'\n",
    "\n",
    "    axs[1].hist(out_degree_sequence_year, bins='auto', density=False, alpha=0.7, color='green')\n",
    "    axs[1].set_title(f'Out-Degree Distribution - Year {year}')\n",
    "    axs[1].set_xlabel('Out-Degree')\n",
    "    axs[1].set_ylabel('Number of Nodes')\n",
    "    \n",
    "    plt.tight_layout()\n",
    "    plt.show()\n",
    "\n",
    "# print(exports_bar_df)\n"
   ]
  },
  {
   "cell_type": "markdown",
   "metadata": {},
   "source": [
    "**The network has a right-skewed distrubution in all years.** This right-tailed distribution is characterized by a longer right tail compared to the left side. \n",
    "\n",
    "**Right-Skewed In-Degree Distribution:**\n",
    "\n",
    "Nodes with higher in-degrees are less common, but there are a few nodes with significantly higher in-degrees than the majority.\n",
    "In the context of car imports, this suggests that most countries have relatively low numbers of other countries exporting cars to them. However, there are a few countries that receive cars from a significantly larger number of partners.\n",
    "\n",
    "**Right-Skewed Out-Degree Distribution:**\n",
    "\n",
    "Nodes with higher out-degrees are less common, but there are a few nodes with significantly higher out-degrees than the majority.\n",
    "In the context of car exports, this suggests that most countries export cars to a relatively low number of other countries. However, there are a few countries that export cars to a significantly larger number of partners.\n",
    "\n",
    "These properties can have various interpretations:\n",
    "<br>\n",
    "**Hubs or Dominant Players:** The few nodes with high in-degrees (importers) or out-degrees (exporters) can be considered as \"hubs\" or dominant players in the network. These countries may have strong economic ties or a significant market share in the car trade.\n",
    "<br>\n",
    "**Trade Imbalances:** In the case of a skewed distribution, there may be a significant imbalance in the car trade. Some countries may be major importers, receiving cars from various sources, while others may be major exporters, sending cars to numerous destinations.\n",
    "<br>\n",
    "**Specialization:** Countries with high out-degrees might be specializing in car manufacturing and exporting, while those with high in-degrees might be more focused on importing cars. The skewed distribution could reflect specialization in certain industries or economic activities.\n",
    "<br>\n",
    "**Network Structure:** The right-skewed distribution suggests that the network has a hierarchical or scale-free structure, where a small number of nodes (countries) play a central role, and the majority have lower connectivity."
   ]
  },
  {
   "cell_type": "markdown",
   "metadata": {},
   "source": [
    "**Further insights on the degree distributions per year**"
   ]
  },
  {
   "cell_type": "code",
   "execution_count": 1058,
   "metadata": {},
   "outputs": [
    {
     "data": {
      "application/vnd.plotly.v1+json": {
       "config": {
        "plotlyServerURL": "https://plot.ly"
       },
       "data": [
        {
         "hovertemplate": "<b>%{hovertext}</b><br><br>Degree type=in-degree<br>Country=%{x}<br>Nodes=%{y}<extra></extra>",
         "hovertext": [
          "Germany",
          "Belgium",
          "Spain",
          "France",
          "Czech Rep.",
          "Sweden",
          "Slovakia",
          "Italy",
          "Hungary",
          "Austria",
          "Slovenia",
          "Poland",
          "Romania",
          "Netherlands",
          "Portugal"
         ],
         "legendgroup": "in-degree",
         "marker": {
          "color": "#636efa",
          "symbol": "circle"
         },
         "mode": "markers",
         "name": "in-degree",
         "orientation": "v",
         "showlegend": true,
         "type": "scatter",
         "x": [
          "Germany",
          "Belgium",
          "Spain",
          "France",
          "Czech Rep.",
          "Sweden",
          "Slovakia",
          "Italy",
          "Hungary",
          "Austria",
          "Slovenia",
          "Poland",
          "Romania",
          "Netherlands",
          "Portugal"
         ],
         "xaxis": "x",
         "y": [
          16,
          11,
          12,
          13,
          7,
          6,
          5,
          14,
          8,
          8,
          2,
          10,
          4,
          9,
          4
         ],
         "yaxis": "y"
        },
        {
         "hovertemplate": "<b>%{hovertext}</b><br><br>Degree type=out-degree<br>Country=%{x}<br>Nodes=%{y}<extra></extra>",
         "hovertext": [
          "Germany",
          "Belgium",
          "Spain",
          "France",
          "Czech Rep.",
          "Sweden",
          "Slovakia",
          "Italy",
          "Hungary",
          "Austria",
          "Slovenia",
          "Poland",
          "Romania",
          "Netherlands",
          "Portugal"
         ],
         "legendgroup": "out-degree",
         "marker": {
          "color": "#EF553B",
          "symbol": "circle"
         },
         "mode": "markers",
         "name": "out-degree",
         "orientation": "v",
         "showlegend": true,
         "type": "scatter",
         "x": [
          "Germany",
          "Belgium",
          "Spain",
          "France",
          "Czech Rep.",
          "Sweden",
          "Slovakia",
          "Italy",
          "Hungary",
          "Austria",
          "Slovenia",
          "Poland",
          "Romania",
          "Netherlands",
          "Portugal"
         ],
         "xaxis": "x",
         "y": [
          45,
          21,
          18,
          16,
          16,
          15,
          14,
          11,
          10,
          9,
          7,
          7,
          6,
          5,
          4
         ],
         "yaxis": "y"
        }
       ],
       "layout": {
        "legend": {
         "title": {
          "text": "Degree"
         },
         "tracegroupgap": 0
        },
        "plot_bgcolor": "beige",
        "template": {
         "data": {
          "bar": [
           {
            "error_x": {
             "color": "#2a3f5f"
            },
            "error_y": {
             "color": "#2a3f5f"
            },
            "marker": {
             "line": {
              "color": "#E5ECF6",
              "width": 0.5
             },
             "pattern": {
              "fillmode": "overlay",
              "size": 10,
              "solidity": 0.2
             }
            },
            "type": "bar"
           }
          ],
          "barpolar": [
           {
            "marker": {
             "line": {
              "color": "#E5ECF6",
              "width": 0.5
             },
             "pattern": {
              "fillmode": "overlay",
              "size": 10,
              "solidity": 0.2
             }
            },
            "type": "barpolar"
           }
          ],
          "carpet": [
           {
            "aaxis": {
             "endlinecolor": "#2a3f5f",
             "gridcolor": "white",
             "linecolor": "white",
             "minorgridcolor": "white",
             "startlinecolor": "#2a3f5f"
            },
            "baxis": {
             "endlinecolor": "#2a3f5f",
             "gridcolor": "white",
             "linecolor": "white",
             "minorgridcolor": "white",
             "startlinecolor": "#2a3f5f"
            },
            "type": "carpet"
           }
          ],
          "choropleth": [
           {
            "colorbar": {
             "outlinewidth": 0,
             "ticks": ""
            },
            "type": "choropleth"
           }
          ],
          "contour": [
           {
            "colorbar": {
             "outlinewidth": 0,
             "ticks": ""
            },
            "colorscale": [
             [
              0,
              "#0d0887"
             ],
             [
              0.1111111111111111,
              "#46039f"
             ],
             [
              0.2222222222222222,
              "#7201a8"
             ],
             [
              0.3333333333333333,
              "#9c179e"
             ],
             [
              0.4444444444444444,
              "#bd3786"
             ],
             [
              0.5555555555555556,
              "#d8576b"
             ],
             [
              0.6666666666666666,
              "#ed7953"
             ],
             [
              0.7777777777777778,
              "#fb9f3a"
             ],
             [
              0.8888888888888888,
              "#fdca26"
             ],
             [
              1,
              "#f0f921"
             ]
            ],
            "type": "contour"
           }
          ],
          "contourcarpet": [
           {
            "colorbar": {
             "outlinewidth": 0,
             "ticks": ""
            },
            "type": "contourcarpet"
           }
          ],
          "heatmap": [
           {
            "colorbar": {
             "outlinewidth": 0,
             "ticks": ""
            },
            "colorscale": [
             [
              0,
              "#0d0887"
             ],
             [
              0.1111111111111111,
              "#46039f"
             ],
             [
              0.2222222222222222,
              "#7201a8"
             ],
             [
              0.3333333333333333,
              "#9c179e"
             ],
             [
              0.4444444444444444,
              "#bd3786"
             ],
             [
              0.5555555555555556,
              "#d8576b"
             ],
             [
              0.6666666666666666,
              "#ed7953"
             ],
             [
              0.7777777777777778,
              "#fb9f3a"
             ],
             [
              0.8888888888888888,
              "#fdca26"
             ],
             [
              1,
              "#f0f921"
             ]
            ],
            "type": "heatmap"
           }
          ],
          "heatmapgl": [
           {
            "colorbar": {
             "outlinewidth": 0,
             "ticks": ""
            },
            "colorscale": [
             [
              0,
              "#0d0887"
             ],
             [
              0.1111111111111111,
              "#46039f"
             ],
             [
              0.2222222222222222,
              "#7201a8"
             ],
             [
              0.3333333333333333,
              "#9c179e"
             ],
             [
              0.4444444444444444,
              "#bd3786"
             ],
             [
              0.5555555555555556,
              "#d8576b"
             ],
             [
              0.6666666666666666,
              "#ed7953"
             ],
             [
              0.7777777777777778,
              "#fb9f3a"
             ],
             [
              0.8888888888888888,
              "#fdca26"
             ],
             [
              1,
              "#f0f921"
             ]
            ],
            "type": "heatmapgl"
           }
          ],
          "histogram": [
           {
            "marker": {
             "pattern": {
              "fillmode": "overlay",
              "size": 10,
              "solidity": 0.2
             }
            },
            "type": "histogram"
           }
          ],
          "histogram2d": [
           {
            "colorbar": {
             "outlinewidth": 0,
             "ticks": ""
            },
            "colorscale": [
             [
              0,
              "#0d0887"
             ],
             [
              0.1111111111111111,
              "#46039f"
             ],
             [
              0.2222222222222222,
              "#7201a8"
             ],
             [
              0.3333333333333333,
              "#9c179e"
             ],
             [
              0.4444444444444444,
              "#bd3786"
             ],
             [
              0.5555555555555556,
              "#d8576b"
             ],
             [
              0.6666666666666666,
              "#ed7953"
             ],
             [
              0.7777777777777778,
              "#fb9f3a"
             ],
             [
              0.8888888888888888,
              "#fdca26"
             ],
             [
              1,
              "#f0f921"
             ]
            ],
            "type": "histogram2d"
           }
          ],
          "histogram2dcontour": [
           {
            "colorbar": {
             "outlinewidth": 0,
             "ticks": ""
            },
            "colorscale": [
             [
              0,
              "#0d0887"
             ],
             [
              0.1111111111111111,
              "#46039f"
             ],
             [
              0.2222222222222222,
              "#7201a8"
             ],
             [
              0.3333333333333333,
              "#9c179e"
             ],
             [
              0.4444444444444444,
              "#bd3786"
             ],
             [
              0.5555555555555556,
              "#d8576b"
             ],
             [
              0.6666666666666666,
              "#ed7953"
             ],
             [
              0.7777777777777778,
              "#fb9f3a"
             ],
             [
              0.8888888888888888,
              "#fdca26"
             ],
             [
              1,
              "#f0f921"
             ]
            ],
            "type": "histogram2dcontour"
           }
          ],
          "mesh3d": [
           {
            "colorbar": {
             "outlinewidth": 0,
             "ticks": ""
            },
            "type": "mesh3d"
           }
          ],
          "parcoords": [
           {
            "line": {
             "colorbar": {
              "outlinewidth": 0,
              "ticks": ""
             }
            },
            "type": "parcoords"
           }
          ],
          "pie": [
           {
            "automargin": true,
            "type": "pie"
           }
          ],
          "scatter": [
           {
            "fillpattern": {
             "fillmode": "overlay",
             "size": 10,
             "solidity": 0.2
            },
            "type": "scatter"
           }
          ],
          "scatter3d": [
           {
            "line": {
             "colorbar": {
              "outlinewidth": 0,
              "ticks": ""
             }
            },
            "marker": {
             "colorbar": {
              "outlinewidth": 0,
              "ticks": ""
             }
            },
            "type": "scatter3d"
           }
          ],
          "scattercarpet": [
           {
            "marker": {
             "colorbar": {
              "outlinewidth": 0,
              "ticks": ""
             }
            },
            "type": "scattercarpet"
           }
          ],
          "scattergeo": [
           {
            "marker": {
             "colorbar": {
              "outlinewidth": 0,
              "ticks": ""
             }
            },
            "type": "scattergeo"
           }
          ],
          "scattergl": [
           {
            "marker": {
             "colorbar": {
              "outlinewidth": 0,
              "ticks": ""
             }
            },
            "type": "scattergl"
           }
          ],
          "scattermapbox": [
           {
            "marker": {
             "colorbar": {
              "outlinewidth": 0,
              "ticks": ""
             }
            },
            "type": "scattermapbox"
           }
          ],
          "scatterpolar": [
           {
            "marker": {
             "colorbar": {
              "outlinewidth": 0,
              "ticks": ""
             }
            },
            "type": "scatterpolar"
           }
          ],
          "scatterpolargl": [
           {
            "marker": {
             "colorbar": {
              "outlinewidth": 0,
              "ticks": ""
             }
            },
            "type": "scatterpolargl"
           }
          ],
          "scatterternary": [
           {
            "marker": {
             "colorbar": {
              "outlinewidth": 0,
              "ticks": ""
             }
            },
            "type": "scatterternary"
           }
          ],
          "surface": [
           {
            "colorbar": {
             "outlinewidth": 0,
             "ticks": ""
            },
            "colorscale": [
             [
              0,
              "#0d0887"
             ],
             [
              0.1111111111111111,
              "#46039f"
             ],
             [
              0.2222222222222222,
              "#7201a8"
             ],
             [
              0.3333333333333333,
              "#9c179e"
             ],
             [
              0.4444444444444444,
              "#bd3786"
             ],
             [
              0.5555555555555556,
              "#d8576b"
             ],
             [
              0.6666666666666666,
              "#ed7953"
             ],
             [
              0.7777777777777778,
              "#fb9f3a"
             ],
             [
              0.8888888888888888,
              "#fdca26"
             ],
             [
              1,
              "#f0f921"
             ]
            ],
            "type": "surface"
           }
          ],
          "table": [
           {
            "cells": {
             "fill": {
              "color": "#EBF0F8"
             },
             "line": {
              "color": "white"
             }
            },
            "header": {
             "fill": {
              "color": "#C8D4E3"
             },
             "line": {
              "color": "white"
             }
            },
            "type": "table"
           }
          ]
         },
         "layout": {
          "annotationdefaults": {
           "arrowcolor": "#2a3f5f",
           "arrowhead": 0,
           "arrowwidth": 1
          },
          "autotypenumbers": "strict",
          "coloraxis": {
           "colorbar": {
            "outlinewidth": 0,
            "ticks": ""
           }
          },
          "colorscale": {
           "diverging": [
            [
             0,
             "#8e0152"
            ],
            [
             0.1,
             "#c51b7d"
            ],
            [
             0.2,
             "#de77ae"
            ],
            [
             0.3,
             "#f1b6da"
            ],
            [
             0.4,
             "#fde0ef"
            ],
            [
             0.5,
             "#f7f7f7"
            ],
            [
             0.6,
             "#e6f5d0"
            ],
            [
             0.7,
             "#b8e186"
            ],
            [
             0.8,
             "#7fbc41"
            ],
            [
             0.9,
             "#4d9221"
            ],
            [
             1,
             "#276419"
            ]
           ],
           "sequential": [
            [
             0,
             "#0d0887"
            ],
            [
             0.1111111111111111,
             "#46039f"
            ],
            [
             0.2222222222222222,
             "#7201a8"
            ],
            [
             0.3333333333333333,
             "#9c179e"
            ],
            [
             0.4444444444444444,
             "#bd3786"
            ],
            [
             0.5555555555555556,
             "#d8576b"
            ],
            [
             0.6666666666666666,
             "#ed7953"
            ],
            [
             0.7777777777777778,
             "#fb9f3a"
            ],
            [
             0.8888888888888888,
             "#fdca26"
            ],
            [
             1,
             "#f0f921"
            ]
           ],
           "sequentialminus": [
            [
             0,
             "#0d0887"
            ],
            [
             0.1111111111111111,
             "#46039f"
            ],
            [
             0.2222222222222222,
             "#7201a8"
            ],
            [
             0.3333333333333333,
             "#9c179e"
            ],
            [
             0.4444444444444444,
             "#bd3786"
            ],
            [
             0.5555555555555556,
             "#d8576b"
            ],
            [
             0.6666666666666666,
             "#ed7953"
            ],
            [
             0.7777777777777778,
             "#fb9f3a"
            ],
            [
             0.8888888888888888,
             "#fdca26"
            ],
            [
             1,
             "#f0f921"
            ]
           ]
          },
          "colorway": [
           "#636efa",
           "#EF553B",
           "#00cc96",
           "#ab63fa",
           "#FFA15A",
           "#19d3f3",
           "#FF6692",
           "#B6E880",
           "#FF97FF",
           "#FECB52"
          ],
          "font": {
           "color": "#2a3f5f"
          },
          "geo": {
           "bgcolor": "white",
           "lakecolor": "white",
           "landcolor": "#E5ECF6",
           "showlakes": true,
           "showland": true,
           "subunitcolor": "white"
          },
          "hoverlabel": {
           "align": "left"
          },
          "hovermode": "closest",
          "mapbox": {
           "style": "light"
          },
          "paper_bgcolor": "white",
          "plot_bgcolor": "#E5ECF6",
          "polar": {
           "angularaxis": {
            "gridcolor": "white",
            "linecolor": "white",
            "ticks": ""
           },
           "bgcolor": "#E5ECF6",
           "radialaxis": {
            "gridcolor": "white",
            "linecolor": "white",
            "ticks": ""
           }
          },
          "scene": {
           "xaxis": {
            "backgroundcolor": "#E5ECF6",
            "gridcolor": "white",
            "gridwidth": 2,
            "linecolor": "white",
            "showbackground": true,
            "ticks": "",
            "zerolinecolor": "white"
           },
           "yaxis": {
            "backgroundcolor": "#E5ECF6",
            "gridcolor": "white",
            "gridwidth": 2,
            "linecolor": "white",
            "showbackground": true,
            "ticks": "",
            "zerolinecolor": "white"
           },
           "zaxis": {
            "backgroundcolor": "#E5ECF6",
            "gridcolor": "white",
            "gridwidth": 2,
            "linecolor": "white",
            "showbackground": true,
            "ticks": "",
            "zerolinecolor": "white"
           }
          },
          "shapedefaults": {
           "line": {
            "color": "#2a3f5f"
           }
          },
          "ternary": {
           "aaxis": {
            "gridcolor": "white",
            "linecolor": "white",
            "ticks": ""
           },
           "baxis": {
            "gridcolor": "white",
            "linecolor": "white",
            "ticks": ""
           },
           "bgcolor": "#E5ECF6",
           "caxis": {
            "gridcolor": "white",
            "linecolor": "white",
            "ticks": ""
           }
          },
          "title": {
           "x": 0.05
          },
          "xaxis": {
           "automargin": true,
           "gridcolor": "white",
           "linecolor": "white",
           "ticks": "",
           "title": {
            "standoff": 15
           },
           "zerolinecolor": "white",
           "zerolinewidth": 2
          },
          "yaxis": {
           "automargin": true,
           "gridcolor": "white",
           "linecolor": "white",
           "ticks": "",
           "title": {
            "standoff": 15
           },
           "zerolinecolor": "white",
           "zerolinewidth": 2
          }
         }
        },
        "title": {
         "text": "Infos on degree distribution - Year 2019"
        },
        "xaxis": {
         "anchor": "y",
         "domain": [
          0,
          1
         ],
         "title": {
          "text": "Country"
         }
        },
        "yaxis": {
         "anchor": "x",
         "domain": [
          0,
          1
         ],
         "title": {
          "text": "Nodes"
         }
        }
       }
      }
     },
     "metadata": {},
     "output_type": "display_data"
    },
    {
     "data": {
      "application/vnd.plotly.v1+json": {
       "config": {
        "plotlyServerURL": "https://plot.ly"
       },
       "data": [
        {
         "hovertemplate": "<b>%{hovertext}</b><br><br>Degree type=in-degree<br>Country=%{x}<br>Nodes=%{y}<extra></extra>",
         "hovertext": [
          "Germany",
          "Spain",
          "Czech Rep.",
          "Belgium",
          "Slovakia",
          "France",
          "Sweden",
          "Italy",
          "Hungary",
          "Austria",
          "Romania",
          "Poland",
          "Netherlands",
          "Portugal"
         ],
         "legendgroup": "in-degree",
         "marker": {
          "color": "#636efa",
          "symbol": "circle"
         },
         "mode": "markers",
         "name": "in-degree",
         "orientation": "v",
         "showlegend": true,
         "type": "scatter",
         "x": [
          "Germany",
          "Spain",
          "Czech Rep.",
          "Belgium",
          "Slovakia",
          "France",
          "Sweden",
          "Italy",
          "Hungary",
          "Austria",
          "Romania",
          "Poland",
          "Netherlands",
          "Portugal"
         ],
         "xaxis": "x",
         "y": [
          16,
          9,
          6,
          10,
          3,
          14,
          6,
          13,
          6,
          8,
          2,
          8,
          9,
          4
         ],
         "yaxis": "y"
        },
        {
         "hovertemplate": "<b>%{hovertext}</b><br><br>Degree type=out-degree<br>Country=%{x}<br>Nodes=%{y}<extra></extra>",
         "hovertext": [
          "Germany",
          "Spain",
          "Czech Rep.",
          "Belgium",
          "Slovakia",
          "France",
          "Sweden",
          "Italy",
          "Hungary",
          "Austria",
          "Romania",
          "Poland",
          "Netherlands",
          "Portugal"
         ],
         "legendgroup": "out-degree",
         "marker": {
          "color": "#EF553B",
          "symbol": "circle"
         },
         "mode": "markers",
         "name": "out-degree",
         "orientation": "v",
         "showlegend": true,
         "type": "scatter",
         "x": [
          "Germany",
          "Spain",
          "Czech Rep.",
          "Belgium",
          "Slovakia",
          "France",
          "Sweden",
          "Italy",
          "Hungary",
          "Austria",
          "Romania",
          "Poland",
          "Netherlands",
          "Portugal"
         ],
         "xaxis": "x",
         "y": [
          43,
          18,
          18,
          17,
          16,
          14,
          13,
          11,
          7,
          7,
          6,
          5,
          4,
          4
         ],
         "yaxis": "y"
        }
       ],
       "layout": {
        "legend": {
         "title": {
          "text": "Degree"
         },
         "tracegroupgap": 0
        },
        "plot_bgcolor": "beige",
        "template": {
         "data": {
          "bar": [
           {
            "error_x": {
             "color": "#2a3f5f"
            },
            "error_y": {
             "color": "#2a3f5f"
            },
            "marker": {
             "line": {
              "color": "#E5ECF6",
              "width": 0.5
             },
             "pattern": {
              "fillmode": "overlay",
              "size": 10,
              "solidity": 0.2
             }
            },
            "type": "bar"
           }
          ],
          "barpolar": [
           {
            "marker": {
             "line": {
              "color": "#E5ECF6",
              "width": 0.5
             },
             "pattern": {
              "fillmode": "overlay",
              "size": 10,
              "solidity": 0.2
             }
            },
            "type": "barpolar"
           }
          ],
          "carpet": [
           {
            "aaxis": {
             "endlinecolor": "#2a3f5f",
             "gridcolor": "white",
             "linecolor": "white",
             "minorgridcolor": "white",
             "startlinecolor": "#2a3f5f"
            },
            "baxis": {
             "endlinecolor": "#2a3f5f",
             "gridcolor": "white",
             "linecolor": "white",
             "minorgridcolor": "white",
             "startlinecolor": "#2a3f5f"
            },
            "type": "carpet"
           }
          ],
          "choropleth": [
           {
            "colorbar": {
             "outlinewidth": 0,
             "ticks": ""
            },
            "type": "choropleth"
           }
          ],
          "contour": [
           {
            "colorbar": {
             "outlinewidth": 0,
             "ticks": ""
            },
            "colorscale": [
             [
              0,
              "#0d0887"
             ],
             [
              0.1111111111111111,
              "#46039f"
             ],
             [
              0.2222222222222222,
              "#7201a8"
             ],
             [
              0.3333333333333333,
              "#9c179e"
             ],
             [
              0.4444444444444444,
              "#bd3786"
             ],
             [
              0.5555555555555556,
              "#d8576b"
             ],
             [
              0.6666666666666666,
              "#ed7953"
             ],
             [
              0.7777777777777778,
              "#fb9f3a"
             ],
             [
              0.8888888888888888,
              "#fdca26"
             ],
             [
              1,
              "#f0f921"
             ]
            ],
            "type": "contour"
           }
          ],
          "contourcarpet": [
           {
            "colorbar": {
             "outlinewidth": 0,
             "ticks": ""
            },
            "type": "contourcarpet"
           }
          ],
          "heatmap": [
           {
            "colorbar": {
             "outlinewidth": 0,
             "ticks": ""
            },
            "colorscale": [
             [
              0,
              "#0d0887"
             ],
             [
              0.1111111111111111,
              "#46039f"
             ],
             [
              0.2222222222222222,
              "#7201a8"
             ],
             [
              0.3333333333333333,
              "#9c179e"
             ],
             [
              0.4444444444444444,
              "#bd3786"
             ],
             [
              0.5555555555555556,
              "#d8576b"
             ],
             [
              0.6666666666666666,
              "#ed7953"
             ],
             [
              0.7777777777777778,
              "#fb9f3a"
             ],
             [
              0.8888888888888888,
              "#fdca26"
             ],
             [
              1,
              "#f0f921"
             ]
            ],
            "type": "heatmap"
           }
          ],
          "heatmapgl": [
           {
            "colorbar": {
             "outlinewidth": 0,
             "ticks": ""
            },
            "colorscale": [
             [
              0,
              "#0d0887"
             ],
             [
              0.1111111111111111,
              "#46039f"
             ],
             [
              0.2222222222222222,
              "#7201a8"
             ],
             [
              0.3333333333333333,
              "#9c179e"
             ],
             [
              0.4444444444444444,
              "#bd3786"
             ],
             [
              0.5555555555555556,
              "#d8576b"
             ],
             [
              0.6666666666666666,
              "#ed7953"
             ],
             [
              0.7777777777777778,
              "#fb9f3a"
             ],
             [
              0.8888888888888888,
              "#fdca26"
             ],
             [
              1,
              "#f0f921"
             ]
            ],
            "type": "heatmapgl"
           }
          ],
          "histogram": [
           {
            "marker": {
             "pattern": {
              "fillmode": "overlay",
              "size": 10,
              "solidity": 0.2
             }
            },
            "type": "histogram"
           }
          ],
          "histogram2d": [
           {
            "colorbar": {
             "outlinewidth": 0,
             "ticks": ""
            },
            "colorscale": [
             [
              0,
              "#0d0887"
             ],
             [
              0.1111111111111111,
              "#46039f"
             ],
             [
              0.2222222222222222,
              "#7201a8"
             ],
             [
              0.3333333333333333,
              "#9c179e"
             ],
             [
              0.4444444444444444,
              "#bd3786"
             ],
             [
              0.5555555555555556,
              "#d8576b"
             ],
             [
              0.6666666666666666,
              "#ed7953"
             ],
             [
              0.7777777777777778,
              "#fb9f3a"
             ],
             [
              0.8888888888888888,
              "#fdca26"
             ],
             [
              1,
              "#f0f921"
             ]
            ],
            "type": "histogram2d"
           }
          ],
          "histogram2dcontour": [
           {
            "colorbar": {
             "outlinewidth": 0,
             "ticks": ""
            },
            "colorscale": [
             [
              0,
              "#0d0887"
             ],
             [
              0.1111111111111111,
              "#46039f"
             ],
             [
              0.2222222222222222,
              "#7201a8"
             ],
             [
              0.3333333333333333,
              "#9c179e"
             ],
             [
              0.4444444444444444,
              "#bd3786"
             ],
             [
              0.5555555555555556,
              "#d8576b"
             ],
             [
              0.6666666666666666,
              "#ed7953"
             ],
             [
              0.7777777777777778,
              "#fb9f3a"
             ],
             [
              0.8888888888888888,
              "#fdca26"
             ],
             [
              1,
              "#f0f921"
             ]
            ],
            "type": "histogram2dcontour"
           }
          ],
          "mesh3d": [
           {
            "colorbar": {
             "outlinewidth": 0,
             "ticks": ""
            },
            "type": "mesh3d"
           }
          ],
          "parcoords": [
           {
            "line": {
             "colorbar": {
              "outlinewidth": 0,
              "ticks": ""
             }
            },
            "type": "parcoords"
           }
          ],
          "pie": [
           {
            "automargin": true,
            "type": "pie"
           }
          ],
          "scatter": [
           {
            "fillpattern": {
             "fillmode": "overlay",
             "size": 10,
             "solidity": 0.2
            },
            "type": "scatter"
           }
          ],
          "scatter3d": [
           {
            "line": {
             "colorbar": {
              "outlinewidth": 0,
              "ticks": ""
             }
            },
            "marker": {
             "colorbar": {
              "outlinewidth": 0,
              "ticks": ""
             }
            },
            "type": "scatter3d"
           }
          ],
          "scattercarpet": [
           {
            "marker": {
             "colorbar": {
              "outlinewidth": 0,
              "ticks": ""
             }
            },
            "type": "scattercarpet"
           }
          ],
          "scattergeo": [
           {
            "marker": {
             "colorbar": {
              "outlinewidth": 0,
              "ticks": ""
             }
            },
            "type": "scattergeo"
           }
          ],
          "scattergl": [
           {
            "marker": {
             "colorbar": {
              "outlinewidth": 0,
              "ticks": ""
             }
            },
            "type": "scattergl"
           }
          ],
          "scattermapbox": [
           {
            "marker": {
             "colorbar": {
              "outlinewidth": 0,
              "ticks": ""
             }
            },
            "type": "scattermapbox"
           }
          ],
          "scatterpolar": [
           {
            "marker": {
             "colorbar": {
              "outlinewidth": 0,
              "ticks": ""
             }
            },
            "type": "scatterpolar"
           }
          ],
          "scatterpolargl": [
           {
            "marker": {
             "colorbar": {
              "outlinewidth": 0,
              "ticks": ""
             }
            },
            "type": "scatterpolargl"
           }
          ],
          "scatterternary": [
           {
            "marker": {
             "colorbar": {
              "outlinewidth": 0,
              "ticks": ""
             }
            },
            "type": "scatterternary"
           }
          ],
          "surface": [
           {
            "colorbar": {
             "outlinewidth": 0,
             "ticks": ""
            },
            "colorscale": [
             [
              0,
              "#0d0887"
             ],
             [
              0.1111111111111111,
              "#46039f"
             ],
             [
              0.2222222222222222,
              "#7201a8"
             ],
             [
              0.3333333333333333,
              "#9c179e"
             ],
             [
              0.4444444444444444,
              "#bd3786"
             ],
             [
              0.5555555555555556,
              "#d8576b"
             ],
             [
              0.6666666666666666,
              "#ed7953"
             ],
             [
              0.7777777777777778,
              "#fb9f3a"
             ],
             [
              0.8888888888888888,
              "#fdca26"
             ],
             [
              1,
              "#f0f921"
             ]
            ],
            "type": "surface"
           }
          ],
          "table": [
           {
            "cells": {
             "fill": {
              "color": "#EBF0F8"
             },
             "line": {
              "color": "white"
             }
            },
            "header": {
             "fill": {
              "color": "#C8D4E3"
             },
             "line": {
              "color": "white"
             }
            },
            "type": "table"
           }
          ]
         },
         "layout": {
          "annotationdefaults": {
           "arrowcolor": "#2a3f5f",
           "arrowhead": 0,
           "arrowwidth": 1
          },
          "autotypenumbers": "strict",
          "coloraxis": {
           "colorbar": {
            "outlinewidth": 0,
            "ticks": ""
           }
          },
          "colorscale": {
           "diverging": [
            [
             0,
             "#8e0152"
            ],
            [
             0.1,
             "#c51b7d"
            ],
            [
             0.2,
             "#de77ae"
            ],
            [
             0.3,
             "#f1b6da"
            ],
            [
             0.4,
             "#fde0ef"
            ],
            [
             0.5,
             "#f7f7f7"
            ],
            [
             0.6,
             "#e6f5d0"
            ],
            [
             0.7,
             "#b8e186"
            ],
            [
             0.8,
             "#7fbc41"
            ],
            [
             0.9,
             "#4d9221"
            ],
            [
             1,
             "#276419"
            ]
           ],
           "sequential": [
            [
             0,
             "#0d0887"
            ],
            [
             0.1111111111111111,
             "#46039f"
            ],
            [
             0.2222222222222222,
             "#7201a8"
            ],
            [
             0.3333333333333333,
             "#9c179e"
            ],
            [
             0.4444444444444444,
             "#bd3786"
            ],
            [
             0.5555555555555556,
             "#d8576b"
            ],
            [
             0.6666666666666666,
             "#ed7953"
            ],
            [
             0.7777777777777778,
             "#fb9f3a"
            ],
            [
             0.8888888888888888,
             "#fdca26"
            ],
            [
             1,
             "#f0f921"
            ]
           ],
           "sequentialminus": [
            [
             0,
             "#0d0887"
            ],
            [
             0.1111111111111111,
             "#46039f"
            ],
            [
             0.2222222222222222,
             "#7201a8"
            ],
            [
             0.3333333333333333,
             "#9c179e"
            ],
            [
             0.4444444444444444,
             "#bd3786"
            ],
            [
             0.5555555555555556,
             "#d8576b"
            ],
            [
             0.6666666666666666,
             "#ed7953"
            ],
            [
             0.7777777777777778,
             "#fb9f3a"
            ],
            [
             0.8888888888888888,
             "#fdca26"
            ],
            [
             1,
             "#f0f921"
            ]
           ]
          },
          "colorway": [
           "#636efa",
           "#EF553B",
           "#00cc96",
           "#ab63fa",
           "#FFA15A",
           "#19d3f3",
           "#FF6692",
           "#B6E880",
           "#FF97FF",
           "#FECB52"
          ],
          "font": {
           "color": "#2a3f5f"
          },
          "geo": {
           "bgcolor": "white",
           "lakecolor": "white",
           "landcolor": "#E5ECF6",
           "showlakes": true,
           "showland": true,
           "subunitcolor": "white"
          },
          "hoverlabel": {
           "align": "left"
          },
          "hovermode": "closest",
          "mapbox": {
           "style": "light"
          },
          "paper_bgcolor": "white",
          "plot_bgcolor": "#E5ECF6",
          "polar": {
           "angularaxis": {
            "gridcolor": "white",
            "linecolor": "white",
            "ticks": ""
           },
           "bgcolor": "#E5ECF6",
           "radialaxis": {
            "gridcolor": "white",
            "linecolor": "white",
            "ticks": ""
           }
          },
          "scene": {
           "xaxis": {
            "backgroundcolor": "#E5ECF6",
            "gridcolor": "white",
            "gridwidth": 2,
            "linecolor": "white",
            "showbackground": true,
            "ticks": "",
            "zerolinecolor": "white"
           },
           "yaxis": {
            "backgroundcolor": "#E5ECF6",
            "gridcolor": "white",
            "gridwidth": 2,
            "linecolor": "white",
            "showbackground": true,
            "ticks": "",
            "zerolinecolor": "white"
           },
           "zaxis": {
            "backgroundcolor": "#E5ECF6",
            "gridcolor": "white",
            "gridwidth": 2,
            "linecolor": "white",
            "showbackground": true,
            "ticks": "",
            "zerolinecolor": "white"
           }
          },
          "shapedefaults": {
           "line": {
            "color": "#2a3f5f"
           }
          },
          "ternary": {
           "aaxis": {
            "gridcolor": "white",
            "linecolor": "white",
            "ticks": ""
           },
           "baxis": {
            "gridcolor": "white",
            "linecolor": "white",
            "ticks": ""
           },
           "bgcolor": "#E5ECF6",
           "caxis": {
            "gridcolor": "white",
            "linecolor": "white",
            "ticks": ""
           }
          },
          "title": {
           "x": 0.05
          },
          "xaxis": {
           "automargin": true,
           "gridcolor": "white",
           "linecolor": "white",
           "ticks": "",
           "title": {
            "standoff": 15
           },
           "zerolinecolor": "white",
           "zerolinewidth": 2
          },
          "yaxis": {
           "automargin": true,
           "gridcolor": "white",
           "linecolor": "white",
           "ticks": "",
           "title": {
            "standoff": 15
           },
           "zerolinecolor": "white",
           "zerolinewidth": 2
          }
         }
        },
        "title": {
         "text": "Infos on degree distribution - Year 2020"
        },
        "xaxis": {
         "anchor": "y",
         "domain": [
          0,
          1
         ],
         "title": {
          "text": "Country"
         }
        },
        "yaxis": {
         "anchor": "x",
         "domain": [
          0,
          1
         ],
         "title": {
          "text": "Nodes"
         }
        }
       }
      }
     },
     "metadata": {},
     "output_type": "display_data"
    },
    {
     "data": {
      "application/vnd.plotly.v1+json": {
       "config": {
        "plotlyServerURL": "https://plot.ly"
       },
       "data": [
        {
         "hovertemplate": "<b>%{hovertext}</b><br><br>Degree type=in-degree<br>Country=%{x}<br>Nodes=%{y}<extra></extra>",
         "hovertext": [
          "Germany",
          "Belgium",
          "Spain",
          "Czech Rep.",
          "Slovakia",
          "France",
          "Sweden",
          "Italy",
          "Hungary",
          "Austria",
          "Romania",
          "Poland",
          "Netherlands",
          "Portugal"
         ],
         "legendgroup": "in-degree",
         "marker": {
          "color": "#636efa",
          "symbol": "circle"
         },
         "mode": "markers",
         "name": "in-degree",
         "orientation": "v",
         "showlegend": true,
         "type": "scatter",
         "x": [
          "Germany",
          "Belgium",
          "Spain",
          "Czech Rep.",
          "Slovakia",
          "France",
          "Sweden",
          "Italy",
          "Hungary",
          "Austria",
          "Romania",
          "Poland",
          "Netherlands",
          "Portugal"
         ],
         "xaxis": "x",
         "y": [
          16,
          11,
          11,
          8,
          3,
          13,
          6,
          14,
          5,
          8,
          3,
          10,
          9,
          4
         ],
         "yaxis": "y"
        },
        {
         "hovertemplate": "<b>%{hovertext}</b><br><br>Degree type=out-degree<br>Country=%{x}<br>Nodes=%{y}<extra></extra>",
         "hovertext": [
          "Germany",
          "Belgium",
          "Spain",
          "Czech Rep.",
          "Slovakia",
          "France",
          "Sweden",
          "Italy",
          "Hungary",
          "Austria",
          "Romania",
          "Poland",
          "Netherlands",
          "Portugal"
         ],
         "legendgroup": "out-degree",
         "marker": {
          "color": "#EF553B",
          "symbol": "circle"
         },
         "mode": "markers",
         "name": "out-degree",
         "orientation": "v",
         "showlegend": true,
         "type": "scatter",
         "x": [
          "Germany",
          "Belgium",
          "Spain",
          "Czech Rep.",
          "Slovakia",
          "France",
          "Sweden",
          "Italy",
          "Hungary",
          "Austria",
          "Romania",
          "Poland",
          "Netherlands",
          "Portugal"
         ],
         "xaxis": "x",
         "y": [
          47,
          19,
          19,
          19,
          16,
          15,
          14,
          12,
          9,
          9,
          7,
          5,
          4,
          4
         ],
         "yaxis": "y"
        }
       ],
       "layout": {
        "legend": {
         "title": {
          "text": "Degree"
         },
         "tracegroupgap": 0
        },
        "plot_bgcolor": "beige",
        "template": {
         "data": {
          "bar": [
           {
            "error_x": {
             "color": "#2a3f5f"
            },
            "error_y": {
             "color": "#2a3f5f"
            },
            "marker": {
             "line": {
              "color": "#E5ECF6",
              "width": 0.5
             },
             "pattern": {
              "fillmode": "overlay",
              "size": 10,
              "solidity": 0.2
             }
            },
            "type": "bar"
           }
          ],
          "barpolar": [
           {
            "marker": {
             "line": {
              "color": "#E5ECF6",
              "width": 0.5
             },
             "pattern": {
              "fillmode": "overlay",
              "size": 10,
              "solidity": 0.2
             }
            },
            "type": "barpolar"
           }
          ],
          "carpet": [
           {
            "aaxis": {
             "endlinecolor": "#2a3f5f",
             "gridcolor": "white",
             "linecolor": "white",
             "minorgridcolor": "white",
             "startlinecolor": "#2a3f5f"
            },
            "baxis": {
             "endlinecolor": "#2a3f5f",
             "gridcolor": "white",
             "linecolor": "white",
             "minorgridcolor": "white",
             "startlinecolor": "#2a3f5f"
            },
            "type": "carpet"
           }
          ],
          "choropleth": [
           {
            "colorbar": {
             "outlinewidth": 0,
             "ticks": ""
            },
            "type": "choropleth"
           }
          ],
          "contour": [
           {
            "colorbar": {
             "outlinewidth": 0,
             "ticks": ""
            },
            "colorscale": [
             [
              0,
              "#0d0887"
             ],
             [
              0.1111111111111111,
              "#46039f"
             ],
             [
              0.2222222222222222,
              "#7201a8"
             ],
             [
              0.3333333333333333,
              "#9c179e"
             ],
             [
              0.4444444444444444,
              "#bd3786"
             ],
             [
              0.5555555555555556,
              "#d8576b"
             ],
             [
              0.6666666666666666,
              "#ed7953"
             ],
             [
              0.7777777777777778,
              "#fb9f3a"
             ],
             [
              0.8888888888888888,
              "#fdca26"
             ],
             [
              1,
              "#f0f921"
             ]
            ],
            "type": "contour"
           }
          ],
          "contourcarpet": [
           {
            "colorbar": {
             "outlinewidth": 0,
             "ticks": ""
            },
            "type": "contourcarpet"
           }
          ],
          "heatmap": [
           {
            "colorbar": {
             "outlinewidth": 0,
             "ticks": ""
            },
            "colorscale": [
             [
              0,
              "#0d0887"
             ],
             [
              0.1111111111111111,
              "#46039f"
             ],
             [
              0.2222222222222222,
              "#7201a8"
             ],
             [
              0.3333333333333333,
              "#9c179e"
             ],
             [
              0.4444444444444444,
              "#bd3786"
             ],
             [
              0.5555555555555556,
              "#d8576b"
             ],
             [
              0.6666666666666666,
              "#ed7953"
             ],
             [
              0.7777777777777778,
              "#fb9f3a"
             ],
             [
              0.8888888888888888,
              "#fdca26"
             ],
             [
              1,
              "#f0f921"
             ]
            ],
            "type": "heatmap"
           }
          ],
          "heatmapgl": [
           {
            "colorbar": {
             "outlinewidth": 0,
             "ticks": ""
            },
            "colorscale": [
             [
              0,
              "#0d0887"
             ],
             [
              0.1111111111111111,
              "#46039f"
             ],
             [
              0.2222222222222222,
              "#7201a8"
             ],
             [
              0.3333333333333333,
              "#9c179e"
             ],
             [
              0.4444444444444444,
              "#bd3786"
             ],
             [
              0.5555555555555556,
              "#d8576b"
             ],
             [
              0.6666666666666666,
              "#ed7953"
             ],
             [
              0.7777777777777778,
              "#fb9f3a"
             ],
             [
              0.8888888888888888,
              "#fdca26"
             ],
             [
              1,
              "#f0f921"
             ]
            ],
            "type": "heatmapgl"
           }
          ],
          "histogram": [
           {
            "marker": {
             "pattern": {
              "fillmode": "overlay",
              "size": 10,
              "solidity": 0.2
             }
            },
            "type": "histogram"
           }
          ],
          "histogram2d": [
           {
            "colorbar": {
             "outlinewidth": 0,
             "ticks": ""
            },
            "colorscale": [
             [
              0,
              "#0d0887"
             ],
             [
              0.1111111111111111,
              "#46039f"
             ],
             [
              0.2222222222222222,
              "#7201a8"
             ],
             [
              0.3333333333333333,
              "#9c179e"
             ],
             [
              0.4444444444444444,
              "#bd3786"
             ],
             [
              0.5555555555555556,
              "#d8576b"
             ],
             [
              0.6666666666666666,
              "#ed7953"
             ],
             [
              0.7777777777777778,
              "#fb9f3a"
             ],
             [
              0.8888888888888888,
              "#fdca26"
             ],
             [
              1,
              "#f0f921"
             ]
            ],
            "type": "histogram2d"
           }
          ],
          "histogram2dcontour": [
           {
            "colorbar": {
             "outlinewidth": 0,
             "ticks": ""
            },
            "colorscale": [
             [
              0,
              "#0d0887"
             ],
             [
              0.1111111111111111,
              "#46039f"
             ],
             [
              0.2222222222222222,
              "#7201a8"
             ],
             [
              0.3333333333333333,
              "#9c179e"
             ],
             [
              0.4444444444444444,
              "#bd3786"
             ],
             [
              0.5555555555555556,
              "#d8576b"
             ],
             [
              0.6666666666666666,
              "#ed7953"
             ],
             [
              0.7777777777777778,
              "#fb9f3a"
             ],
             [
              0.8888888888888888,
              "#fdca26"
             ],
             [
              1,
              "#f0f921"
             ]
            ],
            "type": "histogram2dcontour"
           }
          ],
          "mesh3d": [
           {
            "colorbar": {
             "outlinewidth": 0,
             "ticks": ""
            },
            "type": "mesh3d"
           }
          ],
          "parcoords": [
           {
            "line": {
             "colorbar": {
              "outlinewidth": 0,
              "ticks": ""
             }
            },
            "type": "parcoords"
           }
          ],
          "pie": [
           {
            "automargin": true,
            "type": "pie"
           }
          ],
          "scatter": [
           {
            "fillpattern": {
             "fillmode": "overlay",
             "size": 10,
             "solidity": 0.2
            },
            "type": "scatter"
           }
          ],
          "scatter3d": [
           {
            "line": {
             "colorbar": {
              "outlinewidth": 0,
              "ticks": ""
             }
            },
            "marker": {
             "colorbar": {
              "outlinewidth": 0,
              "ticks": ""
             }
            },
            "type": "scatter3d"
           }
          ],
          "scattercarpet": [
           {
            "marker": {
             "colorbar": {
              "outlinewidth": 0,
              "ticks": ""
             }
            },
            "type": "scattercarpet"
           }
          ],
          "scattergeo": [
           {
            "marker": {
             "colorbar": {
              "outlinewidth": 0,
              "ticks": ""
             }
            },
            "type": "scattergeo"
           }
          ],
          "scattergl": [
           {
            "marker": {
             "colorbar": {
              "outlinewidth": 0,
              "ticks": ""
             }
            },
            "type": "scattergl"
           }
          ],
          "scattermapbox": [
           {
            "marker": {
             "colorbar": {
              "outlinewidth": 0,
              "ticks": ""
             }
            },
            "type": "scattermapbox"
           }
          ],
          "scatterpolar": [
           {
            "marker": {
             "colorbar": {
              "outlinewidth": 0,
              "ticks": ""
             }
            },
            "type": "scatterpolar"
           }
          ],
          "scatterpolargl": [
           {
            "marker": {
             "colorbar": {
              "outlinewidth": 0,
              "ticks": ""
             }
            },
            "type": "scatterpolargl"
           }
          ],
          "scatterternary": [
           {
            "marker": {
             "colorbar": {
              "outlinewidth": 0,
              "ticks": ""
             }
            },
            "type": "scatterternary"
           }
          ],
          "surface": [
           {
            "colorbar": {
             "outlinewidth": 0,
             "ticks": ""
            },
            "colorscale": [
             [
              0,
              "#0d0887"
             ],
             [
              0.1111111111111111,
              "#46039f"
             ],
             [
              0.2222222222222222,
              "#7201a8"
             ],
             [
              0.3333333333333333,
              "#9c179e"
             ],
             [
              0.4444444444444444,
              "#bd3786"
             ],
             [
              0.5555555555555556,
              "#d8576b"
             ],
             [
              0.6666666666666666,
              "#ed7953"
             ],
             [
              0.7777777777777778,
              "#fb9f3a"
             ],
             [
              0.8888888888888888,
              "#fdca26"
             ],
             [
              1,
              "#f0f921"
             ]
            ],
            "type": "surface"
           }
          ],
          "table": [
           {
            "cells": {
             "fill": {
              "color": "#EBF0F8"
             },
             "line": {
              "color": "white"
             }
            },
            "header": {
             "fill": {
              "color": "#C8D4E3"
             },
             "line": {
              "color": "white"
             }
            },
            "type": "table"
           }
          ]
         },
         "layout": {
          "annotationdefaults": {
           "arrowcolor": "#2a3f5f",
           "arrowhead": 0,
           "arrowwidth": 1
          },
          "autotypenumbers": "strict",
          "coloraxis": {
           "colorbar": {
            "outlinewidth": 0,
            "ticks": ""
           }
          },
          "colorscale": {
           "diverging": [
            [
             0,
             "#8e0152"
            ],
            [
             0.1,
             "#c51b7d"
            ],
            [
             0.2,
             "#de77ae"
            ],
            [
             0.3,
             "#f1b6da"
            ],
            [
             0.4,
             "#fde0ef"
            ],
            [
             0.5,
             "#f7f7f7"
            ],
            [
             0.6,
             "#e6f5d0"
            ],
            [
             0.7,
             "#b8e186"
            ],
            [
             0.8,
             "#7fbc41"
            ],
            [
             0.9,
             "#4d9221"
            ],
            [
             1,
             "#276419"
            ]
           ],
           "sequential": [
            [
             0,
             "#0d0887"
            ],
            [
             0.1111111111111111,
             "#46039f"
            ],
            [
             0.2222222222222222,
             "#7201a8"
            ],
            [
             0.3333333333333333,
             "#9c179e"
            ],
            [
             0.4444444444444444,
             "#bd3786"
            ],
            [
             0.5555555555555556,
             "#d8576b"
            ],
            [
             0.6666666666666666,
             "#ed7953"
            ],
            [
             0.7777777777777778,
             "#fb9f3a"
            ],
            [
             0.8888888888888888,
             "#fdca26"
            ],
            [
             1,
             "#f0f921"
            ]
           ],
           "sequentialminus": [
            [
             0,
             "#0d0887"
            ],
            [
             0.1111111111111111,
             "#46039f"
            ],
            [
             0.2222222222222222,
             "#7201a8"
            ],
            [
             0.3333333333333333,
             "#9c179e"
            ],
            [
             0.4444444444444444,
             "#bd3786"
            ],
            [
             0.5555555555555556,
             "#d8576b"
            ],
            [
             0.6666666666666666,
             "#ed7953"
            ],
            [
             0.7777777777777778,
             "#fb9f3a"
            ],
            [
             0.8888888888888888,
             "#fdca26"
            ],
            [
             1,
             "#f0f921"
            ]
           ]
          },
          "colorway": [
           "#636efa",
           "#EF553B",
           "#00cc96",
           "#ab63fa",
           "#FFA15A",
           "#19d3f3",
           "#FF6692",
           "#B6E880",
           "#FF97FF",
           "#FECB52"
          ],
          "font": {
           "color": "#2a3f5f"
          },
          "geo": {
           "bgcolor": "white",
           "lakecolor": "white",
           "landcolor": "#E5ECF6",
           "showlakes": true,
           "showland": true,
           "subunitcolor": "white"
          },
          "hoverlabel": {
           "align": "left"
          },
          "hovermode": "closest",
          "mapbox": {
           "style": "light"
          },
          "paper_bgcolor": "white",
          "plot_bgcolor": "#E5ECF6",
          "polar": {
           "angularaxis": {
            "gridcolor": "white",
            "linecolor": "white",
            "ticks": ""
           },
           "bgcolor": "#E5ECF6",
           "radialaxis": {
            "gridcolor": "white",
            "linecolor": "white",
            "ticks": ""
           }
          },
          "scene": {
           "xaxis": {
            "backgroundcolor": "#E5ECF6",
            "gridcolor": "white",
            "gridwidth": 2,
            "linecolor": "white",
            "showbackground": true,
            "ticks": "",
            "zerolinecolor": "white"
           },
           "yaxis": {
            "backgroundcolor": "#E5ECF6",
            "gridcolor": "white",
            "gridwidth": 2,
            "linecolor": "white",
            "showbackground": true,
            "ticks": "",
            "zerolinecolor": "white"
           },
           "zaxis": {
            "backgroundcolor": "#E5ECF6",
            "gridcolor": "white",
            "gridwidth": 2,
            "linecolor": "white",
            "showbackground": true,
            "ticks": "",
            "zerolinecolor": "white"
           }
          },
          "shapedefaults": {
           "line": {
            "color": "#2a3f5f"
           }
          },
          "ternary": {
           "aaxis": {
            "gridcolor": "white",
            "linecolor": "white",
            "ticks": ""
           },
           "baxis": {
            "gridcolor": "white",
            "linecolor": "white",
            "ticks": ""
           },
           "bgcolor": "#E5ECF6",
           "caxis": {
            "gridcolor": "white",
            "linecolor": "white",
            "ticks": ""
           }
          },
          "title": {
           "x": 0.05
          },
          "xaxis": {
           "automargin": true,
           "gridcolor": "white",
           "linecolor": "white",
           "ticks": "",
           "title": {
            "standoff": 15
           },
           "zerolinecolor": "white",
           "zerolinewidth": 2
          },
          "yaxis": {
           "automargin": true,
           "gridcolor": "white",
           "linecolor": "white",
           "ticks": "",
           "title": {
            "standoff": 15
           },
           "zerolinecolor": "white",
           "zerolinewidth": 2
          }
         }
        },
        "title": {
         "text": "Infos on degree distribution - Year 2021"
        },
        "xaxis": {
         "anchor": "y",
         "domain": [
          0,
          1
         ],
         "title": {
          "text": "Country"
         }
        },
        "yaxis": {
         "anchor": "x",
         "domain": [
          0,
          1
         ],
         "title": {
          "text": "Nodes"
         }
        }
       }
      }
     },
     "metadata": {},
     "output_type": "display_data"
    },
    {
     "data": {
      "application/vnd.plotly.v1+json": {
       "config": {
        "plotlyServerURL": "https://plot.ly"
       },
       "data": [
        {
         "hovertemplate": "<b>%{hovertext}</b><br><br>Degree type=in-degree<br>Country=%{x}<br>Nodes=%{y}<extra></extra>",
         "hovertext": [
          "Germany",
          "Spain",
          "Belgium",
          "Czech Rep.",
          "Slovakia",
          "Sweden",
          "France",
          "Italy",
          "Hungary",
          "Austria",
          "Slovenia",
          "Poland",
          "Romania",
          "Netherlands",
          "Portugal"
         ],
         "legendgroup": "in-degree",
         "marker": {
          "color": "#636efa",
          "symbol": "circle"
         },
         "mode": "markers",
         "name": "in-degree",
         "orientation": "v",
         "showlegend": true,
         "type": "scatter",
         "x": [
          "Germany",
          "Spain",
          "Belgium",
          "Czech Rep.",
          "Slovakia",
          "Sweden",
          "France",
          "Italy",
          "Hungary",
          "Austria",
          "Slovenia",
          "Poland",
          "Romania",
          "Netherlands",
          "Portugal"
         ],
         "xaxis": "x",
         "y": [
          16,
          10,
          12,
          8,
          5,
          6,
          13,
          14,
          5,
          8,
          2,
          11,
          6,
          10,
          4
         ],
         "yaxis": "y"
        },
        {
         "hovertemplate": "<b>%{hovertext}</b><br><br>Degree type=out-degree<br>Country=%{x}<br>Nodes=%{y}<extra></extra>",
         "hovertext": [
          "Germany",
          "Spain",
          "Belgium",
          "Czech Rep.",
          "Slovakia",
          "Sweden",
          "France",
          "Italy",
          "Hungary",
          "Austria",
          "Slovenia",
          "Poland",
          "Romania",
          "Netherlands",
          "Portugal"
         ],
         "legendgroup": "out-degree",
         "marker": {
          "color": "#EF553B",
          "symbol": "circle"
         },
         "mode": "markers",
         "name": "out-degree",
         "orientation": "v",
         "showlegend": true,
         "type": "scatter",
         "x": [
          "Germany",
          "Spain",
          "Belgium",
          "Czech Rep.",
          "Slovakia",
          "Sweden",
          "France",
          "Italy",
          "Hungary",
          "Austria",
          "Slovenia",
          "Poland",
          "Romania",
          "Netherlands",
          "Portugal"
         ],
         "xaxis": "x",
         "y": [
          51,
          23,
          22,
          22,
          16,
          15,
          15,
          12,
          11,
          11,
          8,
          7,
          7,
          5,
          4
         ],
         "yaxis": "y"
        }
       ],
       "layout": {
        "legend": {
         "title": {
          "text": "Degree"
         },
         "tracegroupgap": 0
        },
        "plot_bgcolor": "beige",
        "template": {
         "data": {
          "bar": [
           {
            "error_x": {
             "color": "#2a3f5f"
            },
            "error_y": {
             "color": "#2a3f5f"
            },
            "marker": {
             "line": {
              "color": "#E5ECF6",
              "width": 0.5
             },
             "pattern": {
              "fillmode": "overlay",
              "size": 10,
              "solidity": 0.2
             }
            },
            "type": "bar"
           }
          ],
          "barpolar": [
           {
            "marker": {
             "line": {
              "color": "#E5ECF6",
              "width": 0.5
             },
             "pattern": {
              "fillmode": "overlay",
              "size": 10,
              "solidity": 0.2
             }
            },
            "type": "barpolar"
           }
          ],
          "carpet": [
           {
            "aaxis": {
             "endlinecolor": "#2a3f5f",
             "gridcolor": "white",
             "linecolor": "white",
             "minorgridcolor": "white",
             "startlinecolor": "#2a3f5f"
            },
            "baxis": {
             "endlinecolor": "#2a3f5f",
             "gridcolor": "white",
             "linecolor": "white",
             "minorgridcolor": "white",
             "startlinecolor": "#2a3f5f"
            },
            "type": "carpet"
           }
          ],
          "choropleth": [
           {
            "colorbar": {
             "outlinewidth": 0,
             "ticks": ""
            },
            "type": "choropleth"
           }
          ],
          "contour": [
           {
            "colorbar": {
             "outlinewidth": 0,
             "ticks": ""
            },
            "colorscale": [
             [
              0,
              "#0d0887"
             ],
             [
              0.1111111111111111,
              "#46039f"
             ],
             [
              0.2222222222222222,
              "#7201a8"
             ],
             [
              0.3333333333333333,
              "#9c179e"
             ],
             [
              0.4444444444444444,
              "#bd3786"
             ],
             [
              0.5555555555555556,
              "#d8576b"
             ],
             [
              0.6666666666666666,
              "#ed7953"
             ],
             [
              0.7777777777777778,
              "#fb9f3a"
             ],
             [
              0.8888888888888888,
              "#fdca26"
             ],
             [
              1,
              "#f0f921"
             ]
            ],
            "type": "contour"
           }
          ],
          "contourcarpet": [
           {
            "colorbar": {
             "outlinewidth": 0,
             "ticks": ""
            },
            "type": "contourcarpet"
           }
          ],
          "heatmap": [
           {
            "colorbar": {
             "outlinewidth": 0,
             "ticks": ""
            },
            "colorscale": [
             [
              0,
              "#0d0887"
             ],
             [
              0.1111111111111111,
              "#46039f"
             ],
             [
              0.2222222222222222,
              "#7201a8"
             ],
             [
              0.3333333333333333,
              "#9c179e"
             ],
             [
              0.4444444444444444,
              "#bd3786"
             ],
             [
              0.5555555555555556,
              "#d8576b"
             ],
             [
              0.6666666666666666,
              "#ed7953"
             ],
             [
              0.7777777777777778,
              "#fb9f3a"
             ],
             [
              0.8888888888888888,
              "#fdca26"
             ],
             [
              1,
              "#f0f921"
             ]
            ],
            "type": "heatmap"
           }
          ],
          "heatmapgl": [
           {
            "colorbar": {
             "outlinewidth": 0,
             "ticks": ""
            },
            "colorscale": [
             [
              0,
              "#0d0887"
             ],
             [
              0.1111111111111111,
              "#46039f"
             ],
             [
              0.2222222222222222,
              "#7201a8"
             ],
             [
              0.3333333333333333,
              "#9c179e"
             ],
             [
              0.4444444444444444,
              "#bd3786"
             ],
             [
              0.5555555555555556,
              "#d8576b"
             ],
             [
              0.6666666666666666,
              "#ed7953"
             ],
             [
              0.7777777777777778,
              "#fb9f3a"
             ],
             [
              0.8888888888888888,
              "#fdca26"
             ],
             [
              1,
              "#f0f921"
             ]
            ],
            "type": "heatmapgl"
           }
          ],
          "histogram": [
           {
            "marker": {
             "pattern": {
              "fillmode": "overlay",
              "size": 10,
              "solidity": 0.2
             }
            },
            "type": "histogram"
           }
          ],
          "histogram2d": [
           {
            "colorbar": {
             "outlinewidth": 0,
             "ticks": ""
            },
            "colorscale": [
             [
              0,
              "#0d0887"
             ],
             [
              0.1111111111111111,
              "#46039f"
             ],
             [
              0.2222222222222222,
              "#7201a8"
             ],
             [
              0.3333333333333333,
              "#9c179e"
             ],
             [
              0.4444444444444444,
              "#bd3786"
             ],
             [
              0.5555555555555556,
              "#d8576b"
             ],
             [
              0.6666666666666666,
              "#ed7953"
             ],
             [
              0.7777777777777778,
              "#fb9f3a"
             ],
             [
              0.8888888888888888,
              "#fdca26"
             ],
             [
              1,
              "#f0f921"
             ]
            ],
            "type": "histogram2d"
           }
          ],
          "histogram2dcontour": [
           {
            "colorbar": {
             "outlinewidth": 0,
             "ticks": ""
            },
            "colorscale": [
             [
              0,
              "#0d0887"
             ],
             [
              0.1111111111111111,
              "#46039f"
             ],
             [
              0.2222222222222222,
              "#7201a8"
             ],
             [
              0.3333333333333333,
              "#9c179e"
             ],
             [
              0.4444444444444444,
              "#bd3786"
             ],
             [
              0.5555555555555556,
              "#d8576b"
             ],
             [
              0.6666666666666666,
              "#ed7953"
             ],
             [
              0.7777777777777778,
              "#fb9f3a"
             ],
             [
              0.8888888888888888,
              "#fdca26"
             ],
             [
              1,
              "#f0f921"
             ]
            ],
            "type": "histogram2dcontour"
           }
          ],
          "mesh3d": [
           {
            "colorbar": {
             "outlinewidth": 0,
             "ticks": ""
            },
            "type": "mesh3d"
           }
          ],
          "parcoords": [
           {
            "line": {
             "colorbar": {
              "outlinewidth": 0,
              "ticks": ""
             }
            },
            "type": "parcoords"
           }
          ],
          "pie": [
           {
            "automargin": true,
            "type": "pie"
           }
          ],
          "scatter": [
           {
            "fillpattern": {
             "fillmode": "overlay",
             "size": 10,
             "solidity": 0.2
            },
            "type": "scatter"
           }
          ],
          "scatter3d": [
           {
            "line": {
             "colorbar": {
              "outlinewidth": 0,
              "ticks": ""
             }
            },
            "marker": {
             "colorbar": {
              "outlinewidth": 0,
              "ticks": ""
             }
            },
            "type": "scatter3d"
           }
          ],
          "scattercarpet": [
           {
            "marker": {
             "colorbar": {
              "outlinewidth": 0,
              "ticks": ""
             }
            },
            "type": "scattercarpet"
           }
          ],
          "scattergeo": [
           {
            "marker": {
             "colorbar": {
              "outlinewidth": 0,
              "ticks": ""
             }
            },
            "type": "scattergeo"
           }
          ],
          "scattergl": [
           {
            "marker": {
             "colorbar": {
              "outlinewidth": 0,
              "ticks": ""
             }
            },
            "type": "scattergl"
           }
          ],
          "scattermapbox": [
           {
            "marker": {
             "colorbar": {
              "outlinewidth": 0,
              "ticks": ""
             }
            },
            "type": "scattermapbox"
           }
          ],
          "scatterpolar": [
           {
            "marker": {
             "colorbar": {
              "outlinewidth": 0,
              "ticks": ""
             }
            },
            "type": "scatterpolar"
           }
          ],
          "scatterpolargl": [
           {
            "marker": {
             "colorbar": {
              "outlinewidth": 0,
              "ticks": ""
             }
            },
            "type": "scatterpolargl"
           }
          ],
          "scatterternary": [
           {
            "marker": {
             "colorbar": {
              "outlinewidth": 0,
              "ticks": ""
             }
            },
            "type": "scatterternary"
           }
          ],
          "surface": [
           {
            "colorbar": {
             "outlinewidth": 0,
             "ticks": ""
            },
            "colorscale": [
             [
              0,
              "#0d0887"
             ],
             [
              0.1111111111111111,
              "#46039f"
             ],
             [
              0.2222222222222222,
              "#7201a8"
             ],
             [
              0.3333333333333333,
              "#9c179e"
             ],
             [
              0.4444444444444444,
              "#bd3786"
             ],
             [
              0.5555555555555556,
              "#d8576b"
             ],
             [
              0.6666666666666666,
              "#ed7953"
             ],
             [
              0.7777777777777778,
              "#fb9f3a"
             ],
             [
              0.8888888888888888,
              "#fdca26"
             ],
             [
              1,
              "#f0f921"
             ]
            ],
            "type": "surface"
           }
          ],
          "table": [
           {
            "cells": {
             "fill": {
              "color": "#EBF0F8"
             },
             "line": {
              "color": "white"
             }
            },
            "header": {
             "fill": {
              "color": "#C8D4E3"
             },
             "line": {
              "color": "white"
             }
            },
            "type": "table"
           }
          ]
         },
         "layout": {
          "annotationdefaults": {
           "arrowcolor": "#2a3f5f",
           "arrowhead": 0,
           "arrowwidth": 1
          },
          "autotypenumbers": "strict",
          "coloraxis": {
           "colorbar": {
            "outlinewidth": 0,
            "ticks": ""
           }
          },
          "colorscale": {
           "diverging": [
            [
             0,
             "#8e0152"
            ],
            [
             0.1,
             "#c51b7d"
            ],
            [
             0.2,
             "#de77ae"
            ],
            [
             0.3,
             "#f1b6da"
            ],
            [
             0.4,
             "#fde0ef"
            ],
            [
             0.5,
             "#f7f7f7"
            ],
            [
             0.6,
             "#e6f5d0"
            ],
            [
             0.7,
             "#b8e186"
            ],
            [
             0.8,
             "#7fbc41"
            ],
            [
             0.9,
             "#4d9221"
            ],
            [
             1,
             "#276419"
            ]
           ],
           "sequential": [
            [
             0,
             "#0d0887"
            ],
            [
             0.1111111111111111,
             "#46039f"
            ],
            [
             0.2222222222222222,
             "#7201a8"
            ],
            [
             0.3333333333333333,
             "#9c179e"
            ],
            [
             0.4444444444444444,
             "#bd3786"
            ],
            [
             0.5555555555555556,
             "#d8576b"
            ],
            [
             0.6666666666666666,
             "#ed7953"
            ],
            [
             0.7777777777777778,
             "#fb9f3a"
            ],
            [
             0.8888888888888888,
             "#fdca26"
            ],
            [
             1,
             "#f0f921"
            ]
           ],
           "sequentialminus": [
            [
             0,
             "#0d0887"
            ],
            [
             0.1111111111111111,
             "#46039f"
            ],
            [
             0.2222222222222222,
             "#7201a8"
            ],
            [
             0.3333333333333333,
             "#9c179e"
            ],
            [
             0.4444444444444444,
             "#bd3786"
            ],
            [
             0.5555555555555556,
             "#d8576b"
            ],
            [
             0.6666666666666666,
             "#ed7953"
            ],
            [
             0.7777777777777778,
             "#fb9f3a"
            ],
            [
             0.8888888888888888,
             "#fdca26"
            ],
            [
             1,
             "#f0f921"
            ]
           ]
          },
          "colorway": [
           "#636efa",
           "#EF553B",
           "#00cc96",
           "#ab63fa",
           "#FFA15A",
           "#19d3f3",
           "#FF6692",
           "#B6E880",
           "#FF97FF",
           "#FECB52"
          ],
          "font": {
           "color": "#2a3f5f"
          },
          "geo": {
           "bgcolor": "white",
           "lakecolor": "white",
           "landcolor": "#E5ECF6",
           "showlakes": true,
           "showland": true,
           "subunitcolor": "white"
          },
          "hoverlabel": {
           "align": "left"
          },
          "hovermode": "closest",
          "mapbox": {
           "style": "light"
          },
          "paper_bgcolor": "white",
          "plot_bgcolor": "#E5ECF6",
          "polar": {
           "angularaxis": {
            "gridcolor": "white",
            "linecolor": "white",
            "ticks": ""
           },
           "bgcolor": "#E5ECF6",
           "radialaxis": {
            "gridcolor": "white",
            "linecolor": "white",
            "ticks": ""
           }
          },
          "scene": {
           "xaxis": {
            "backgroundcolor": "#E5ECF6",
            "gridcolor": "white",
            "gridwidth": 2,
            "linecolor": "white",
            "showbackground": true,
            "ticks": "",
            "zerolinecolor": "white"
           },
           "yaxis": {
            "backgroundcolor": "#E5ECF6",
            "gridcolor": "white",
            "gridwidth": 2,
            "linecolor": "white",
            "showbackground": true,
            "ticks": "",
            "zerolinecolor": "white"
           },
           "zaxis": {
            "backgroundcolor": "#E5ECF6",
            "gridcolor": "white",
            "gridwidth": 2,
            "linecolor": "white",
            "showbackground": true,
            "ticks": "",
            "zerolinecolor": "white"
           }
          },
          "shapedefaults": {
           "line": {
            "color": "#2a3f5f"
           }
          },
          "ternary": {
           "aaxis": {
            "gridcolor": "white",
            "linecolor": "white",
            "ticks": ""
           },
           "baxis": {
            "gridcolor": "white",
            "linecolor": "white",
            "ticks": ""
           },
           "bgcolor": "#E5ECF6",
           "caxis": {
            "gridcolor": "white",
            "linecolor": "white",
            "ticks": ""
           }
          },
          "title": {
           "x": 0.05
          },
          "xaxis": {
           "automargin": true,
           "gridcolor": "white",
           "linecolor": "white",
           "ticks": "",
           "title": {
            "standoff": 15
           },
           "zerolinecolor": "white",
           "zerolinewidth": 2
          },
          "yaxis": {
           "automargin": true,
           "gridcolor": "white",
           "linecolor": "white",
           "ticks": "",
           "title": {
            "standoff": 15
           },
           "zerolinecolor": "white",
           "zerolinewidth": 2
          }
         }
        },
        "title": {
         "text": "Infos on degree distribution - Year 2022"
        },
        "xaxis": {
         "anchor": "y",
         "domain": [
          0,
          1
         ],
         "title": {
          "text": "Country"
         }
        },
        "yaxis": {
         "anchor": "x",
         "domain": [
          0,
          1
         ],
         "title": {
          "text": "Nodes"
         }
        }
       }
      }
     },
     "metadata": {},
     "output_type": "display_data"
    }
   ],
   "source": [
    "for year in unique_years:\n",
    "    # Filter data for the current year\n",
    "    filtered_data_year = filtered_data[filtered_data['TIME_PERIOD'] == year]\n",
    "\n",
    "    # Create a directed graph from the filtered data\n",
    "    graph_year = nx.from_pandas_edgelist(filtered_data_year, 'reporter', 'partner', edge_attr=\"OBS_VALUE\", create_using=nx.DiGraph)\n",
    "\n",
    "    # Reset indegree and outdegree maps for the current year\n",
    "    in_degree_map_year = {node: 0 for node in graph_year.nodes()}\n",
    "    out_degree_map_year = {node: 0 for node in graph_year.nodes()}\n",
    "    sum_edge_weights_out_year = {node: 0 for node in graph_year.nodes()}\n",
    "    sum_edge_weights_in_year = {node: 0 for node in graph_year.nodes()}\n",
    "\n",
    "    # Calculate indegree and outdegree values\n",
    "    for source, target, weight in graph_year.edges(data=\"OBS_VALUE\", default=0):\n",
    "        out_degree_map_year[source] += 1            # out-degree from the reporter (source)\n",
    "        in_degree_map_year[target] += 1             # in-degree to the partner (target)\n",
    "        sum_edge_weights_out_year[source] += weight # out-degree weights\n",
    "        sum_edge_weights_in_year[target] += weight  # in-degree weights\n",
    "\n",
    "    # Filter out nodes with only 1 in-degree or 0 out-degree\n",
    "    filtered_nodes = [node for node in graph_year.nodes() if in_degree_map_year[node] > 1 and out_degree_map_year[node] > 1]\n",
    "\n",
    "    # Ensure that in-degree and out-degree arrays have the same length\n",
    "    common_nodes = list(set(filtered_nodes) & set(in_degree_map_year) & set(out_degree_map_year))\n",
    "    out_degree_nodes_year = [out_degree_map_year[node] for node in common_nodes]\n",
    "    in_degree_nodes_year = [in_degree_map_year[node] for node in common_nodes]\n",
    "    out_degree_weights_year = [sum_edge_weights_out_year[node] for node in common_nodes]\n",
    "    in_degree_weights_year = [sum_edge_weights_in_year[node] for node in common_nodes]\n",
    "\n",
    "    # Create a dataframe for the scatter plot\n",
    "    scatter_data = pd.DataFrame({\n",
    "        'country': [countries.get(code, code) for code in common_nodes],\n",
    "        'out-degree': out_degree_nodes_year,\n",
    "        'in-degree': in_degree_nodes_year,\n",
    "        'Exports': out_degree_weights_year,\n",
    "        'Imports': in_degree_weights_year\n",
    "    })\n",
    "\n",
    "    # Sort scatter_data by In-Degree and Out-Degree values\n",
    "    scatter_data = scatter_data.sort_values(by=['out-degree'], ascending=False)\n",
    "\n",
    "    # Create scatter plot using plotly express without category_orders\n",
    "    fig = px.scatter(scatter_data, x='country', y=['in-degree', 'out-degree'],\n",
    "                     labels={'variable': 'Degree type', 'country': 'Country', 'value': 'Nodes'},\n",
    "                     title=f'Infos on degree distribution - Year {year}', hover_name='country')\n",
    "\n",
    "    # Set the legend title to \"Degrees\"\n",
    "    fig.update_layout(legend_title_text='Degree')\n",
    "\n",
    "    # Set background color of the grid\n",
    "    fig.update_layout(plot_bgcolor='beige')\n",
    "\n",
    "    # Show the figure with title and legend\n",
    "    fig.show()"
   ]
  },
  {
   "cell_type": "markdown",
   "metadata": {},
   "source": [
    "## 3. Edge weight insights"
   ]
  },
  {
   "cell_type": "code",
   "execution_count": 1059,
   "metadata": {},
   "outputs": [
    {
     "data": {
      "application/vnd.plotly.v1+json": {
       "config": {
        "plotlyServerURL": "https://plot.ly"
       },
       "data": [
        {
         "hovertemplate": "<b>%{hovertext}</b><br><br>Degree type=Imports<br>Country=%{x}<br>Weight=%{y}<extra></extra>",
         "hovertext": [
          "Germany",
          "Belgium",
          "Spain",
          "France",
          "Czech Rep.",
          "Slovakia",
          "Italy",
          "Sweden",
          "Hungary",
          "Netherlands",
          "Poland",
          "Austria",
          "Slovenia",
          "Romania",
          "Portugal"
         ],
         "legendgroup": "Imports",
         "marker": {
          "color": "#636efa",
          "symbol": "circle"
         },
         "mode": "markers",
         "name": "Imports",
         "orientation": "v",
         "showlegend": true,
         "type": "scatter",
         "x": [
          "Germany",
          "Belgium",
          "Spain",
          "France",
          "Czech Rep.",
          "Slovakia",
          "Italy",
          "Sweden",
          "Hungary",
          "Netherlands",
          "Poland",
          "Austria",
          "Slovenia",
          "Romania",
          "Portugal"
         ],
         "xaxis": "x",
         "y": [
          47161504312,
          15523940268,
          13402789808,
          28428004778,
          2998804652,
          2198848989,
          21399970855,
          5393939287,
          3150648000,
          9097939820,
          7602653713,
          6404856830,
          668840889,
          1687749359,
          3004337124
         ],
         "yaxis": "y"
        },
        {
         "hovertemplate": "<b>%{hovertext}</b><br><br>Degree type=Exports<br>Country=%{x}<br>Weight=%{y}<extra></extra>",
         "hovertext": [
          "Germany",
          "Belgium",
          "Spain",
          "France",
          "Czech Rep.",
          "Slovakia",
          "Italy",
          "Sweden",
          "Hungary",
          "Netherlands",
          "Poland",
          "Austria",
          "Slovenia",
          "Romania",
          "Portugal"
         ],
         "legendgroup": "Exports",
         "marker": {
          "color": "#EF553B",
          "symbol": "circle"
         },
         "mode": "markers",
         "name": "Exports",
         "orientation": "v",
         "showlegend": true,
         "type": "scatter",
         "x": [
          "Germany",
          "Belgium",
          "Spain",
          "France",
          "Czech Rep.",
          "Slovakia",
          "Italy",
          "Sweden",
          "Hungary",
          "Netherlands",
          "Poland",
          "Austria",
          "Slovenia",
          "Romania",
          "Portugal"
         ],
         "xaxis": "x",
         "y": [
          111362885926,
          25060865558,
          24685336929,
          16668787148,
          15697597527,
          15641336693,
          10365453025,
          8409010196,
          7741335941,
          5407970432,
          4259465805,
          4183216728,
          3904611750,
          3285039398,
          2681612043
         ],
         "yaxis": "y"
        }
       ],
       "layout": {
        "legend": {
         "title": {
          "text": "Degree"
         },
         "tracegroupgap": 0
        },
        "plot_bgcolor": "beige",
        "template": {
         "data": {
          "bar": [
           {
            "error_x": {
             "color": "#2a3f5f"
            },
            "error_y": {
             "color": "#2a3f5f"
            },
            "marker": {
             "line": {
              "color": "#E5ECF6",
              "width": 0.5
             },
             "pattern": {
              "fillmode": "overlay",
              "size": 10,
              "solidity": 0.2
             }
            },
            "type": "bar"
           }
          ],
          "barpolar": [
           {
            "marker": {
             "line": {
              "color": "#E5ECF6",
              "width": 0.5
             },
             "pattern": {
              "fillmode": "overlay",
              "size": 10,
              "solidity": 0.2
             }
            },
            "type": "barpolar"
           }
          ],
          "carpet": [
           {
            "aaxis": {
             "endlinecolor": "#2a3f5f",
             "gridcolor": "white",
             "linecolor": "white",
             "minorgridcolor": "white",
             "startlinecolor": "#2a3f5f"
            },
            "baxis": {
             "endlinecolor": "#2a3f5f",
             "gridcolor": "white",
             "linecolor": "white",
             "minorgridcolor": "white",
             "startlinecolor": "#2a3f5f"
            },
            "type": "carpet"
           }
          ],
          "choropleth": [
           {
            "colorbar": {
             "outlinewidth": 0,
             "ticks": ""
            },
            "type": "choropleth"
           }
          ],
          "contour": [
           {
            "colorbar": {
             "outlinewidth": 0,
             "ticks": ""
            },
            "colorscale": [
             [
              0,
              "#0d0887"
             ],
             [
              0.1111111111111111,
              "#46039f"
             ],
             [
              0.2222222222222222,
              "#7201a8"
             ],
             [
              0.3333333333333333,
              "#9c179e"
             ],
             [
              0.4444444444444444,
              "#bd3786"
             ],
             [
              0.5555555555555556,
              "#d8576b"
             ],
             [
              0.6666666666666666,
              "#ed7953"
             ],
             [
              0.7777777777777778,
              "#fb9f3a"
             ],
             [
              0.8888888888888888,
              "#fdca26"
             ],
             [
              1,
              "#f0f921"
             ]
            ],
            "type": "contour"
           }
          ],
          "contourcarpet": [
           {
            "colorbar": {
             "outlinewidth": 0,
             "ticks": ""
            },
            "type": "contourcarpet"
           }
          ],
          "heatmap": [
           {
            "colorbar": {
             "outlinewidth": 0,
             "ticks": ""
            },
            "colorscale": [
             [
              0,
              "#0d0887"
             ],
             [
              0.1111111111111111,
              "#46039f"
             ],
             [
              0.2222222222222222,
              "#7201a8"
             ],
             [
              0.3333333333333333,
              "#9c179e"
             ],
             [
              0.4444444444444444,
              "#bd3786"
             ],
             [
              0.5555555555555556,
              "#d8576b"
             ],
             [
              0.6666666666666666,
              "#ed7953"
             ],
             [
              0.7777777777777778,
              "#fb9f3a"
             ],
             [
              0.8888888888888888,
              "#fdca26"
             ],
             [
              1,
              "#f0f921"
             ]
            ],
            "type": "heatmap"
           }
          ],
          "heatmapgl": [
           {
            "colorbar": {
             "outlinewidth": 0,
             "ticks": ""
            },
            "colorscale": [
             [
              0,
              "#0d0887"
             ],
             [
              0.1111111111111111,
              "#46039f"
             ],
             [
              0.2222222222222222,
              "#7201a8"
             ],
             [
              0.3333333333333333,
              "#9c179e"
             ],
             [
              0.4444444444444444,
              "#bd3786"
             ],
             [
              0.5555555555555556,
              "#d8576b"
             ],
             [
              0.6666666666666666,
              "#ed7953"
             ],
             [
              0.7777777777777778,
              "#fb9f3a"
             ],
             [
              0.8888888888888888,
              "#fdca26"
             ],
             [
              1,
              "#f0f921"
             ]
            ],
            "type": "heatmapgl"
           }
          ],
          "histogram": [
           {
            "marker": {
             "pattern": {
              "fillmode": "overlay",
              "size": 10,
              "solidity": 0.2
             }
            },
            "type": "histogram"
           }
          ],
          "histogram2d": [
           {
            "colorbar": {
             "outlinewidth": 0,
             "ticks": ""
            },
            "colorscale": [
             [
              0,
              "#0d0887"
             ],
             [
              0.1111111111111111,
              "#46039f"
             ],
             [
              0.2222222222222222,
              "#7201a8"
             ],
             [
              0.3333333333333333,
              "#9c179e"
             ],
             [
              0.4444444444444444,
              "#bd3786"
             ],
             [
              0.5555555555555556,
              "#d8576b"
             ],
             [
              0.6666666666666666,
              "#ed7953"
             ],
             [
              0.7777777777777778,
              "#fb9f3a"
             ],
             [
              0.8888888888888888,
              "#fdca26"
             ],
             [
              1,
              "#f0f921"
             ]
            ],
            "type": "histogram2d"
           }
          ],
          "histogram2dcontour": [
           {
            "colorbar": {
             "outlinewidth": 0,
             "ticks": ""
            },
            "colorscale": [
             [
              0,
              "#0d0887"
             ],
             [
              0.1111111111111111,
              "#46039f"
             ],
             [
              0.2222222222222222,
              "#7201a8"
             ],
             [
              0.3333333333333333,
              "#9c179e"
             ],
             [
              0.4444444444444444,
              "#bd3786"
             ],
             [
              0.5555555555555556,
              "#d8576b"
             ],
             [
              0.6666666666666666,
              "#ed7953"
             ],
             [
              0.7777777777777778,
              "#fb9f3a"
             ],
             [
              0.8888888888888888,
              "#fdca26"
             ],
             [
              1,
              "#f0f921"
             ]
            ],
            "type": "histogram2dcontour"
           }
          ],
          "mesh3d": [
           {
            "colorbar": {
             "outlinewidth": 0,
             "ticks": ""
            },
            "type": "mesh3d"
           }
          ],
          "parcoords": [
           {
            "line": {
             "colorbar": {
              "outlinewidth": 0,
              "ticks": ""
             }
            },
            "type": "parcoords"
           }
          ],
          "pie": [
           {
            "automargin": true,
            "type": "pie"
           }
          ],
          "scatter": [
           {
            "fillpattern": {
             "fillmode": "overlay",
             "size": 10,
             "solidity": 0.2
            },
            "type": "scatter"
           }
          ],
          "scatter3d": [
           {
            "line": {
             "colorbar": {
              "outlinewidth": 0,
              "ticks": ""
             }
            },
            "marker": {
             "colorbar": {
              "outlinewidth": 0,
              "ticks": ""
             }
            },
            "type": "scatter3d"
           }
          ],
          "scattercarpet": [
           {
            "marker": {
             "colorbar": {
              "outlinewidth": 0,
              "ticks": ""
             }
            },
            "type": "scattercarpet"
           }
          ],
          "scattergeo": [
           {
            "marker": {
             "colorbar": {
              "outlinewidth": 0,
              "ticks": ""
             }
            },
            "type": "scattergeo"
           }
          ],
          "scattergl": [
           {
            "marker": {
             "colorbar": {
              "outlinewidth": 0,
              "ticks": ""
             }
            },
            "type": "scattergl"
           }
          ],
          "scattermapbox": [
           {
            "marker": {
             "colorbar": {
              "outlinewidth": 0,
              "ticks": ""
             }
            },
            "type": "scattermapbox"
           }
          ],
          "scatterpolar": [
           {
            "marker": {
             "colorbar": {
              "outlinewidth": 0,
              "ticks": ""
             }
            },
            "type": "scatterpolar"
           }
          ],
          "scatterpolargl": [
           {
            "marker": {
             "colorbar": {
              "outlinewidth": 0,
              "ticks": ""
             }
            },
            "type": "scatterpolargl"
           }
          ],
          "scatterternary": [
           {
            "marker": {
             "colorbar": {
              "outlinewidth": 0,
              "ticks": ""
             }
            },
            "type": "scatterternary"
           }
          ],
          "surface": [
           {
            "colorbar": {
             "outlinewidth": 0,
             "ticks": ""
            },
            "colorscale": [
             [
              0,
              "#0d0887"
             ],
             [
              0.1111111111111111,
              "#46039f"
             ],
             [
              0.2222222222222222,
              "#7201a8"
             ],
             [
              0.3333333333333333,
              "#9c179e"
             ],
             [
              0.4444444444444444,
              "#bd3786"
             ],
             [
              0.5555555555555556,
              "#d8576b"
             ],
             [
              0.6666666666666666,
              "#ed7953"
             ],
             [
              0.7777777777777778,
              "#fb9f3a"
             ],
             [
              0.8888888888888888,
              "#fdca26"
             ],
             [
              1,
              "#f0f921"
             ]
            ],
            "type": "surface"
           }
          ],
          "table": [
           {
            "cells": {
             "fill": {
              "color": "#EBF0F8"
             },
             "line": {
              "color": "white"
             }
            },
            "header": {
             "fill": {
              "color": "#C8D4E3"
             },
             "line": {
              "color": "white"
             }
            },
            "type": "table"
           }
          ]
         },
         "layout": {
          "annotationdefaults": {
           "arrowcolor": "#2a3f5f",
           "arrowhead": 0,
           "arrowwidth": 1
          },
          "autotypenumbers": "strict",
          "coloraxis": {
           "colorbar": {
            "outlinewidth": 0,
            "ticks": ""
           }
          },
          "colorscale": {
           "diverging": [
            [
             0,
             "#8e0152"
            ],
            [
             0.1,
             "#c51b7d"
            ],
            [
             0.2,
             "#de77ae"
            ],
            [
             0.3,
             "#f1b6da"
            ],
            [
             0.4,
             "#fde0ef"
            ],
            [
             0.5,
             "#f7f7f7"
            ],
            [
             0.6,
             "#e6f5d0"
            ],
            [
             0.7,
             "#b8e186"
            ],
            [
             0.8,
             "#7fbc41"
            ],
            [
             0.9,
             "#4d9221"
            ],
            [
             1,
             "#276419"
            ]
           ],
           "sequential": [
            [
             0,
             "#0d0887"
            ],
            [
             0.1111111111111111,
             "#46039f"
            ],
            [
             0.2222222222222222,
             "#7201a8"
            ],
            [
             0.3333333333333333,
             "#9c179e"
            ],
            [
             0.4444444444444444,
             "#bd3786"
            ],
            [
             0.5555555555555556,
             "#d8576b"
            ],
            [
             0.6666666666666666,
             "#ed7953"
            ],
            [
             0.7777777777777778,
             "#fb9f3a"
            ],
            [
             0.8888888888888888,
             "#fdca26"
            ],
            [
             1,
             "#f0f921"
            ]
           ],
           "sequentialminus": [
            [
             0,
             "#0d0887"
            ],
            [
             0.1111111111111111,
             "#46039f"
            ],
            [
             0.2222222222222222,
             "#7201a8"
            ],
            [
             0.3333333333333333,
             "#9c179e"
            ],
            [
             0.4444444444444444,
             "#bd3786"
            ],
            [
             0.5555555555555556,
             "#d8576b"
            ],
            [
             0.6666666666666666,
             "#ed7953"
            ],
            [
             0.7777777777777778,
             "#fb9f3a"
            ],
            [
             0.8888888888888888,
             "#fdca26"
            ],
            [
             1,
             "#f0f921"
            ]
           ]
          },
          "colorway": [
           "#636efa",
           "#EF553B",
           "#00cc96",
           "#ab63fa",
           "#FFA15A",
           "#19d3f3",
           "#FF6692",
           "#B6E880",
           "#FF97FF",
           "#FECB52"
          ],
          "font": {
           "color": "#2a3f5f"
          },
          "geo": {
           "bgcolor": "white",
           "lakecolor": "white",
           "landcolor": "#E5ECF6",
           "showlakes": true,
           "showland": true,
           "subunitcolor": "white"
          },
          "hoverlabel": {
           "align": "left"
          },
          "hovermode": "closest",
          "mapbox": {
           "style": "light"
          },
          "paper_bgcolor": "white",
          "plot_bgcolor": "#E5ECF6",
          "polar": {
           "angularaxis": {
            "gridcolor": "white",
            "linecolor": "white",
            "ticks": ""
           },
           "bgcolor": "#E5ECF6",
           "radialaxis": {
            "gridcolor": "white",
            "linecolor": "white",
            "ticks": ""
           }
          },
          "scene": {
           "xaxis": {
            "backgroundcolor": "#E5ECF6",
            "gridcolor": "white",
            "gridwidth": 2,
            "linecolor": "white",
            "showbackground": true,
            "ticks": "",
            "zerolinecolor": "white"
           },
           "yaxis": {
            "backgroundcolor": "#E5ECF6",
            "gridcolor": "white",
            "gridwidth": 2,
            "linecolor": "white",
            "showbackground": true,
            "ticks": "",
            "zerolinecolor": "white"
           },
           "zaxis": {
            "backgroundcolor": "#E5ECF6",
            "gridcolor": "white",
            "gridwidth": 2,
            "linecolor": "white",
            "showbackground": true,
            "ticks": "",
            "zerolinecolor": "white"
           }
          },
          "shapedefaults": {
           "line": {
            "color": "#2a3f5f"
           }
          },
          "ternary": {
           "aaxis": {
            "gridcolor": "white",
            "linecolor": "white",
            "ticks": ""
           },
           "baxis": {
            "gridcolor": "white",
            "linecolor": "white",
            "ticks": ""
           },
           "bgcolor": "#E5ECF6",
           "caxis": {
            "gridcolor": "white",
            "linecolor": "white",
            "ticks": ""
           }
          },
          "title": {
           "x": 0.05
          },
          "xaxis": {
           "automargin": true,
           "gridcolor": "white",
           "linecolor": "white",
           "ticks": "",
           "title": {
            "standoff": 15
           },
           "zerolinecolor": "white",
           "zerolinewidth": 2
          },
          "yaxis": {
           "automargin": true,
           "gridcolor": "white",
           "linecolor": "white",
           "ticks": "",
           "title": {
            "standoff": 15
           },
           "zerolinecolor": "white",
           "zerolinewidth": 2
          }
         }
        },
        "title": {
         "text": "Infos on edge weight distribution - Year 2019"
        },
        "xaxis": {
         "anchor": "y",
         "domain": [
          0,
          1
         ],
         "title": {
          "text": "Country"
         }
        },
        "yaxis": {
         "anchor": "x",
         "domain": [
          0,
          1
         ],
         "title": {
          "text": "Weight"
         }
        }
       }
      }
     },
     "metadata": {},
     "output_type": "display_data"
    },
    {
     "data": {
      "application/vnd.plotly.v1+json": {
       "config": {
        "plotlyServerURL": "https://plot.ly"
       },
       "data": [
        {
         "hovertemplate": "<b>%{hovertext}</b><br><br>Degree type=Imports<br>Country=%{x}<br>Weight=%{y}<extra></extra>",
         "hovertext": [
          "Germany",
          "Spain",
          "Belgium",
          "Slovakia",
          "Czech Rep.",
          "France",
          "Italy",
          "Sweden",
          "Hungary",
          "Netherlands",
          "Romania",
          "Poland",
          "Austria",
          "Portugal"
         ],
         "legendgroup": "Imports",
         "marker": {
          "color": "#636efa",
          "symbol": "circle"
         },
         "mode": "markers",
         "name": "Imports",
         "orientation": "v",
         "showlegend": true,
         "type": "scatter",
         "x": [
          "Germany",
          "Spain",
          "Belgium",
          "Slovakia",
          "Czech Rep.",
          "France",
          "Italy",
          "Sweden",
          "Hungary",
          "Netherlands",
          "Romania",
          "Poland",
          "Austria",
          "Portugal"
         ],
         "xaxis": "x",
         "y": [
          44994463782,
          7918428348,
          12846067506,
          1488758682,
          2378059977,
          26961867957,
          16270014883,
          5565372976,
          2402098743,
          8318583019,
          987336810,
          6117300360,
          5556490826,
          2190199643
         ],
         "yaxis": "y"
        },
        {
         "hovertemplate": "<b>%{hovertext}</b><br><br>Degree type=Exports<br>Country=%{x}<br>Weight=%{y}<extra></extra>",
         "hovertext": [
          "Germany",
          "Spain",
          "Belgium",
          "Slovakia",
          "Czech Rep.",
          "France",
          "Italy",
          "Sweden",
          "Hungary",
          "Netherlands",
          "Romania",
          "Poland",
          "Austria",
          "Portugal"
         ],
         "legendgroup": "Exports",
         "marker": {
          "color": "#EF553B",
          "symbol": "circle"
         },
         "mode": "markers",
         "name": "Exports",
         "orientation": "v",
         "showlegend": true,
         "type": "scatter",
         "x": [
          "Germany",
          "Spain",
          "Belgium",
          "Slovakia",
          "Czech Rep.",
          "France",
          "Italy",
          "Sweden",
          "Hungary",
          "Netherlands",
          "Romania",
          "Poland",
          "Austria",
          "Portugal"
         ],
         "xaxis": "x",
         "y": [
          95338391596,
          23387936474,
          20229149262,
          16934016519,
          14842553662,
          13028313826,
          10217667136,
          7812620914,
          6637325938,
          4183533157,
          3387065574,
          3223924559,
          3091330881,
          1762213628
         ],
         "yaxis": "y"
        }
       ],
       "layout": {
        "legend": {
         "title": {
          "text": "Degree"
         },
         "tracegroupgap": 0
        },
        "plot_bgcolor": "beige",
        "template": {
         "data": {
          "bar": [
           {
            "error_x": {
             "color": "#2a3f5f"
            },
            "error_y": {
             "color": "#2a3f5f"
            },
            "marker": {
             "line": {
              "color": "#E5ECF6",
              "width": 0.5
             },
             "pattern": {
              "fillmode": "overlay",
              "size": 10,
              "solidity": 0.2
             }
            },
            "type": "bar"
           }
          ],
          "barpolar": [
           {
            "marker": {
             "line": {
              "color": "#E5ECF6",
              "width": 0.5
             },
             "pattern": {
              "fillmode": "overlay",
              "size": 10,
              "solidity": 0.2
             }
            },
            "type": "barpolar"
           }
          ],
          "carpet": [
           {
            "aaxis": {
             "endlinecolor": "#2a3f5f",
             "gridcolor": "white",
             "linecolor": "white",
             "minorgridcolor": "white",
             "startlinecolor": "#2a3f5f"
            },
            "baxis": {
             "endlinecolor": "#2a3f5f",
             "gridcolor": "white",
             "linecolor": "white",
             "minorgridcolor": "white",
             "startlinecolor": "#2a3f5f"
            },
            "type": "carpet"
           }
          ],
          "choropleth": [
           {
            "colorbar": {
             "outlinewidth": 0,
             "ticks": ""
            },
            "type": "choropleth"
           }
          ],
          "contour": [
           {
            "colorbar": {
             "outlinewidth": 0,
             "ticks": ""
            },
            "colorscale": [
             [
              0,
              "#0d0887"
             ],
             [
              0.1111111111111111,
              "#46039f"
             ],
             [
              0.2222222222222222,
              "#7201a8"
             ],
             [
              0.3333333333333333,
              "#9c179e"
             ],
             [
              0.4444444444444444,
              "#bd3786"
             ],
             [
              0.5555555555555556,
              "#d8576b"
             ],
             [
              0.6666666666666666,
              "#ed7953"
             ],
             [
              0.7777777777777778,
              "#fb9f3a"
             ],
             [
              0.8888888888888888,
              "#fdca26"
             ],
             [
              1,
              "#f0f921"
             ]
            ],
            "type": "contour"
           }
          ],
          "contourcarpet": [
           {
            "colorbar": {
             "outlinewidth": 0,
             "ticks": ""
            },
            "type": "contourcarpet"
           }
          ],
          "heatmap": [
           {
            "colorbar": {
             "outlinewidth": 0,
             "ticks": ""
            },
            "colorscale": [
             [
              0,
              "#0d0887"
             ],
             [
              0.1111111111111111,
              "#46039f"
             ],
             [
              0.2222222222222222,
              "#7201a8"
             ],
             [
              0.3333333333333333,
              "#9c179e"
             ],
             [
              0.4444444444444444,
              "#bd3786"
             ],
             [
              0.5555555555555556,
              "#d8576b"
             ],
             [
              0.6666666666666666,
              "#ed7953"
             ],
             [
              0.7777777777777778,
              "#fb9f3a"
             ],
             [
              0.8888888888888888,
              "#fdca26"
             ],
             [
              1,
              "#f0f921"
             ]
            ],
            "type": "heatmap"
           }
          ],
          "heatmapgl": [
           {
            "colorbar": {
             "outlinewidth": 0,
             "ticks": ""
            },
            "colorscale": [
             [
              0,
              "#0d0887"
             ],
             [
              0.1111111111111111,
              "#46039f"
             ],
             [
              0.2222222222222222,
              "#7201a8"
             ],
             [
              0.3333333333333333,
              "#9c179e"
             ],
             [
              0.4444444444444444,
              "#bd3786"
             ],
             [
              0.5555555555555556,
              "#d8576b"
             ],
             [
              0.6666666666666666,
              "#ed7953"
             ],
             [
              0.7777777777777778,
              "#fb9f3a"
             ],
             [
              0.8888888888888888,
              "#fdca26"
             ],
             [
              1,
              "#f0f921"
             ]
            ],
            "type": "heatmapgl"
           }
          ],
          "histogram": [
           {
            "marker": {
             "pattern": {
              "fillmode": "overlay",
              "size": 10,
              "solidity": 0.2
             }
            },
            "type": "histogram"
           }
          ],
          "histogram2d": [
           {
            "colorbar": {
             "outlinewidth": 0,
             "ticks": ""
            },
            "colorscale": [
             [
              0,
              "#0d0887"
             ],
             [
              0.1111111111111111,
              "#46039f"
             ],
             [
              0.2222222222222222,
              "#7201a8"
             ],
             [
              0.3333333333333333,
              "#9c179e"
             ],
             [
              0.4444444444444444,
              "#bd3786"
             ],
             [
              0.5555555555555556,
              "#d8576b"
             ],
             [
              0.6666666666666666,
              "#ed7953"
             ],
             [
              0.7777777777777778,
              "#fb9f3a"
             ],
             [
              0.8888888888888888,
              "#fdca26"
             ],
             [
              1,
              "#f0f921"
             ]
            ],
            "type": "histogram2d"
           }
          ],
          "histogram2dcontour": [
           {
            "colorbar": {
             "outlinewidth": 0,
             "ticks": ""
            },
            "colorscale": [
             [
              0,
              "#0d0887"
             ],
             [
              0.1111111111111111,
              "#46039f"
             ],
             [
              0.2222222222222222,
              "#7201a8"
             ],
             [
              0.3333333333333333,
              "#9c179e"
             ],
             [
              0.4444444444444444,
              "#bd3786"
             ],
             [
              0.5555555555555556,
              "#d8576b"
             ],
             [
              0.6666666666666666,
              "#ed7953"
             ],
             [
              0.7777777777777778,
              "#fb9f3a"
             ],
             [
              0.8888888888888888,
              "#fdca26"
             ],
             [
              1,
              "#f0f921"
             ]
            ],
            "type": "histogram2dcontour"
           }
          ],
          "mesh3d": [
           {
            "colorbar": {
             "outlinewidth": 0,
             "ticks": ""
            },
            "type": "mesh3d"
           }
          ],
          "parcoords": [
           {
            "line": {
             "colorbar": {
              "outlinewidth": 0,
              "ticks": ""
             }
            },
            "type": "parcoords"
           }
          ],
          "pie": [
           {
            "automargin": true,
            "type": "pie"
           }
          ],
          "scatter": [
           {
            "fillpattern": {
             "fillmode": "overlay",
             "size": 10,
             "solidity": 0.2
            },
            "type": "scatter"
           }
          ],
          "scatter3d": [
           {
            "line": {
             "colorbar": {
              "outlinewidth": 0,
              "ticks": ""
             }
            },
            "marker": {
             "colorbar": {
              "outlinewidth": 0,
              "ticks": ""
             }
            },
            "type": "scatter3d"
           }
          ],
          "scattercarpet": [
           {
            "marker": {
             "colorbar": {
              "outlinewidth": 0,
              "ticks": ""
             }
            },
            "type": "scattercarpet"
           }
          ],
          "scattergeo": [
           {
            "marker": {
             "colorbar": {
              "outlinewidth": 0,
              "ticks": ""
             }
            },
            "type": "scattergeo"
           }
          ],
          "scattergl": [
           {
            "marker": {
             "colorbar": {
              "outlinewidth": 0,
              "ticks": ""
             }
            },
            "type": "scattergl"
           }
          ],
          "scattermapbox": [
           {
            "marker": {
             "colorbar": {
              "outlinewidth": 0,
              "ticks": ""
             }
            },
            "type": "scattermapbox"
           }
          ],
          "scatterpolar": [
           {
            "marker": {
             "colorbar": {
              "outlinewidth": 0,
              "ticks": ""
             }
            },
            "type": "scatterpolar"
           }
          ],
          "scatterpolargl": [
           {
            "marker": {
             "colorbar": {
              "outlinewidth": 0,
              "ticks": ""
             }
            },
            "type": "scatterpolargl"
           }
          ],
          "scatterternary": [
           {
            "marker": {
             "colorbar": {
              "outlinewidth": 0,
              "ticks": ""
             }
            },
            "type": "scatterternary"
           }
          ],
          "surface": [
           {
            "colorbar": {
             "outlinewidth": 0,
             "ticks": ""
            },
            "colorscale": [
             [
              0,
              "#0d0887"
             ],
             [
              0.1111111111111111,
              "#46039f"
             ],
             [
              0.2222222222222222,
              "#7201a8"
             ],
             [
              0.3333333333333333,
              "#9c179e"
             ],
             [
              0.4444444444444444,
              "#bd3786"
             ],
             [
              0.5555555555555556,
              "#d8576b"
             ],
             [
              0.6666666666666666,
              "#ed7953"
             ],
             [
              0.7777777777777778,
              "#fb9f3a"
             ],
             [
              0.8888888888888888,
              "#fdca26"
             ],
             [
              1,
              "#f0f921"
             ]
            ],
            "type": "surface"
           }
          ],
          "table": [
           {
            "cells": {
             "fill": {
              "color": "#EBF0F8"
             },
             "line": {
              "color": "white"
             }
            },
            "header": {
             "fill": {
              "color": "#C8D4E3"
             },
             "line": {
              "color": "white"
             }
            },
            "type": "table"
           }
          ]
         },
         "layout": {
          "annotationdefaults": {
           "arrowcolor": "#2a3f5f",
           "arrowhead": 0,
           "arrowwidth": 1
          },
          "autotypenumbers": "strict",
          "coloraxis": {
           "colorbar": {
            "outlinewidth": 0,
            "ticks": ""
           }
          },
          "colorscale": {
           "diverging": [
            [
             0,
             "#8e0152"
            ],
            [
             0.1,
             "#c51b7d"
            ],
            [
             0.2,
             "#de77ae"
            ],
            [
             0.3,
             "#f1b6da"
            ],
            [
             0.4,
             "#fde0ef"
            ],
            [
             0.5,
             "#f7f7f7"
            ],
            [
             0.6,
             "#e6f5d0"
            ],
            [
             0.7,
             "#b8e186"
            ],
            [
             0.8,
             "#7fbc41"
            ],
            [
             0.9,
             "#4d9221"
            ],
            [
             1,
             "#276419"
            ]
           ],
           "sequential": [
            [
             0,
             "#0d0887"
            ],
            [
             0.1111111111111111,
             "#46039f"
            ],
            [
             0.2222222222222222,
             "#7201a8"
            ],
            [
             0.3333333333333333,
             "#9c179e"
            ],
            [
             0.4444444444444444,
             "#bd3786"
            ],
            [
             0.5555555555555556,
             "#d8576b"
            ],
            [
             0.6666666666666666,
             "#ed7953"
            ],
            [
             0.7777777777777778,
             "#fb9f3a"
            ],
            [
             0.8888888888888888,
             "#fdca26"
            ],
            [
             1,
             "#f0f921"
            ]
           ],
           "sequentialminus": [
            [
             0,
             "#0d0887"
            ],
            [
             0.1111111111111111,
             "#46039f"
            ],
            [
             0.2222222222222222,
             "#7201a8"
            ],
            [
             0.3333333333333333,
             "#9c179e"
            ],
            [
             0.4444444444444444,
             "#bd3786"
            ],
            [
             0.5555555555555556,
             "#d8576b"
            ],
            [
             0.6666666666666666,
             "#ed7953"
            ],
            [
             0.7777777777777778,
             "#fb9f3a"
            ],
            [
             0.8888888888888888,
             "#fdca26"
            ],
            [
             1,
             "#f0f921"
            ]
           ]
          },
          "colorway": [
           "#636efa",
           "#EF553B",
           "#00cc96",
           "#ab63fa",
           "#FFA15A",
           "#19d3f3",
           "#FF6692",
           "#B6E880",
           "#FF97FF",
           "#FECB52"
          ],
          "font": {
           "color": "#2a3f5f"
          },
          "geo": {
           "bgcolor": "white",
           "lakecolor": "white",
           "landcolor": "#E5ECF6",
           "showlakes": true,
           "showland": true,
           "subunitcolor": "white"
          },
          "hoverlabel": {
           "align": "left"
          },
          "hovermode": "closest",
          "mapbox": {
           "style": "light"
          },
          "paper_bgcolor": "white",
          "plot_bgcolor": "#E5ECF6",
          "polar": {
           "angularaxis": {
            "gridcolor": "white",
            "linecolor": "white",
            "ticks": ""
           },
           "bgcolor": "#E5ECF6",
           "radialaxis": {
            "gridcolor": "white",
            "linecolor": "white",
            "ticks": ""
           }
          },
          "scene": {
           "xaxis": {
            "backgroundcolor": "#E5ECF6",
            "gridcolor": "white",
            "gridwidth": 2,
            "linecolor": "white",
            "showbackground": true,
            "ticks": "",
            "zerolinecolor": "white"
           },
           "yaxis": {
            "backgroundcolor": "#E5ECF6",
            "gridcolor": "white",
            "gridwidth": 2,
            "linecolor": "white",
            "showbackground": true,
            "ticks": "",
            "zerolinecolor": "white"
           },
           "zaxis": {
            "backgroundcolor": "#E5ECF6",
            "gridcolor": "white",
            "gridwidth": 2,
            "linecolor": "white",
            "showbackground": true,
            "ticks": "",
            "zerolinecolor": "white"
           }
          },
          "shapedefaults": {
           "line": {
            "color": "#2a3f5f"
           }
          },
          "ternary": {
           "aaxis": {
            "gridcolor": "white",
            "linecolor": "white",
            "ticks": ""
           },
           "baxis": {
            "gridcolor": "white",
            "linecolor": "white",
            "ticks": ""
           },
           "bgcolor": "#E5ECF6",
           "caxis": {
            "gridcolor": "white",
            "linecolor": "white",
            "ticks": ""
           }
          },
          "title": {
           "x": 0.05
          },
          "xaxis": {
           "automargin": true,
           "gridcolor": "white",
           "linecolor": "white",
           "ticks": "",
           "title": {
            "standoff": 15
           },
           "zerolinecolor": "white",
           "zerolinewidth": 2
          },
          "yaxis": {
           "automargin": true,
           "gridcolor": "white",
           "linecolor": "white",
           "ticks": "",
           "title": {
            "standoff": 15
           },
           "zerolinecolor": "white",
           "zerolinewidth": 2
          }
         }
        },
        "title": {
         "text": "Infos on edge weight distribution - Year 2020"
        },
        "xaxis": {
         "anchor": "y",
         "domain": [
          0,
          1
         ],
         "title": {
          "text": "Country"
         }
        },
        "yaxis": {
         "anchor": "x",
         "domain": [
          0,
          1
         ],
         "title": {
          "text": "Weight"
         }
        }
       }
      }
     },
     "metadata": {},
     "output_type": "display_data"
    },
    {
     "data": {
      "application/vnd.plotly.v1+json": {
       "config": {
        "plotlyServerURL": "https://plot.ly"
       },
       "data": [
        {
         "hovertemplate": "<b>%{hovertext}</b><br><br>Degree type=Imports<br>Country=%{x}<br>Weight=%{y}<extra></extra>",
         "hovertext": [
          "Germany",
          "Belgium",
          "Spain",
          "Slovakia",
          "Czech Rep.",
          "France",
          "Italy",
          "Sweden",
          "Hungary",
          "Austria",
          "Netherlands",
          "Romania",
          "Poland",
          "Portugal"
         ],
         "legendgroup": "Imports",
         "marker": {
          "color": "#636efa",
          "symbol": "circle"
         },
         "mode": "markers",
         "name": "Imports",
         "orientation": "v",
         "showlegend": true,
         "type": "scatter",
         "x": [
          "Germany",
          "Belgium",
          "Spain",
          "Slovakia",
          "Czech Rep.",
          "France",
          "Italy",
          "Sweden",
          "Hungary",
          "Austria",
          "Netherlands",
          "Romania",
          "Poland",
          "Portugal"
         ],
         "xaxis": "x",
         "y": [
          45343821489,
          12271550518,
          9495122882,
          1619804482,
          3350301774,
          26891573549,
          17874923547,
          6539060712,
          2339411590,
          6431652667,
          9593171194,
          1505544852,
          7351370409,
          2325078134
         ],
         "yaxis": "y"
        },
        {
         "hovertemplate": "<b>%{hovertext}</b><br><br>Degree type=Exports<br>Country=%{x}<br>Weight=%{y}<extra></extra>",
         "hovertext": [
          "Germany",
          "Belgium",
          "Spain",
          "Slovakia",
          "Czech Rep.",
          "France",
          "Italy",
          "Sweden",
          "Hungary",
          "Austria",
          "Netherlands",
          "Romania",
          "Poland",
          "Portugal"
         ],
         "legendgroup": "Exports",
         "marker": {
          "color": "#EF553B",
          "symbol": "circle"
         },
         "mode": "markers",
         "name": "Exports",
         "orientation": "v",
         "showlegend": true,
         "type": "scatter",
         "x": [
          "Germany",
          "Belgium",
          "Spain",
          "Slovakia",
          "Czech Rep.",
          "France",
          "Italy",
          "Sweden",
          "Hungary",
          "Austria",
          "Netherlands",
          "Romania",
          "Poland",
          "Portugal"
         ],
         "xaxis": "x",
         "y": [
          108918653785,
          23566722562,
          22290510248,
          17545923071,
          16032641252,
          13953563003,
          10873948294,
          8484913721,
          6599381438,
          3932754156,
          3572474935,
          3544108075,
          3255001784,
          1835726668
         ],
         "yaxis": "y"
        }
       ],
       "layout": {
        "legend": {
         "title": {
          "text": "Degree"
         },
         "tracegroupgap": 0
        },
        "plot_bgcolor": "beige",
        "template": {
         "data": {
          "bar": [
           {
            "error_x": {
             "color": "#2a3f5f"
            },
            "error_y": {
             "color": "#2a3f5f"
            },
            "marker": {
             "line": {
              "color": "#E5ECF6",
              "width": 0.5
             },
             "pattern": {
              "fillmode": "overlay",
              "size": 10,
              "solidity": 0.2
             }
            },
            "type": "bar"
           }
          ],
          "barpolar": [
           {
            "marker": {
             "line": {
              "color": "#E5ECF6",
              "width": 0.5
             },
             "pattern": {
              "fillmode": "overlay",
              "size": 10,
              "solidity": 0.2
             }
            },
            "type": "barpolar"
           }
          ],
          "carpet": [
           {
            "aaxis": {
             "endlinecolor": "#2a3f5f",
             "gridcolor": "white",
             "linecolor": "white",
             "minorgridcolor": "white",
             "startlinecolor": "#2a3f5f"
            },
            "baxis": {
             "endlinecolor": "#2a3f5f",
             "gridcolor": "white",
             "linecolor": "white",
             "minorgridcolor": "white",
             "startlinecolor": "#2a3f5f"
            },
            "type": "carpet"
           }
          ],
          "choropleth": [
           {
            "colorbar": {
             "outlinewidth": 0,
             "ticks": ""
            },
            "type": "choropleth"
           }
          ],
          "contour": [
           {
            "colorbar": {
             "outlinewidth": 0,
             "ticks": ""
            },
            "colorscale": [
             [
              0,
              "#0d0887"
             ],
             [
              0.1111111111111111,
              "#46039f"
             ],
             [
              0.2222222222222222,
              "#7201a8"
             ],
             [
              0.3333333333333333,
              "#9c179e"
             ],
             [
              0.4444444444444444,
              "#bd3786"
             ],
             [
              0.5555555555555556,
              "#d8576b"
             ],
             [
              0.6666666666666666,
              "#ed7953"
             ],
             [
              0.7777777777777778,
              "#fb9f3a"
             ],
             [
              0.8888888888888888,
              "#fdca26"
             ],
             [
              1,
              "#f0f921"
             ]
            ],
            "type": "contour"
           }
          ],
          "contourcarpet": [
           {
            "colorbar": {
             "outlinewidth": 0,
             "ticks": ""
            },
            "type": "contourcarpet"
           }
          ],
          "heatmap": [
           {
            "colorbar": {
             "outlinewidth": 0,
             "ticks": ""
            },
            "colorscale": [
             [
              0,
              "#0d0887"
             ],
             [
              0.1111111111111111,
              "#46039f"
             ],
             [
              0.2222222222222222,
              "#7201a8"
             ],
             [
              0.3333333333333333,
              "#9c179e"
             ],
             [
              0.4444444444444444,
              "#bd3786"
             ],
             [
              0.5555555555555556,
              "#d8576b"
             ],
             [
              0.6666666666666666,
              "#ed7953"
             ],
             [
              0.7777777777777778,
              "#fb9f3a"
             ],
             [
              0.8888888888888888,
              "#fdca26"
             ],
             [
              1,
              "#f0f921"
             ]
            ],
            "type": "heatmap"
           }
          ],
          "heatmapgl": [
           {
            "colorbar": {
             "outlinewidth": 0,
             "ticks": ""
            },
            "colorscale": [
             [
              0,
              "#0d0887"
             ],
             [
              0.1111111111111111,
              "#46039f"
             ],
             [
              0.2222222222222222,
              "#7201a8"
             ],
             [
              0.3333333333333333,
              "#9c179e"
             ],
             [
              0.4444444444444444,
              "#bd3786"
             ],
             [
              0.5555555555555556,
              "#d8576b"
             ],
             [
              0.6666666666666666,
              "#ed7953"
             ],
             [
              0.7777777777777778,
              "#fb9f3a"
             ],
             [
              0.8888888888888888,
              "#fdca26"
             ],
             [
              1,
              "#f0f921"
             ]
            ],
            "type": "heatmapgl"
           }
          ],
          "histogram": [
           {
            "marker": {
             "pattern": {
              "fillmode": "overlay",
              "size": 10,
              "solidity": 0.2
             }
            },
            "type": "histogram"
           }
          ],
          "histogram2d": [
           {
            "colorbar": {
             "outlinewidth": 0,
             "ticks": ""
            },
            "colorscale": [
             [
              0,
              "#0d0887"
             ],
             [
              0.1111111111111111,
              "#46039f"
             ],
             [
              0.2222222222222222,
              "#7201a8"
             ],
             [
              0.3333333333333333,
              "#9c179e"
             ],
             [
              0.4444444444444444,
              "#bd3786"
             ],
             [
              0.5555555555555556,
              "#d8576b"
             ],
             [
              0.6666666666666666,
              "#ed7953"
             ],
             [
              0.7777777777777778,
              "#fb9f3a"
             ],
             [
              0.8888888888888888,
              "#fdca26"
             ],
             [
              1,
              "#f0f921"
             ]
            ],
            "type": "histogram2d"
           }
          ],
          "histogram2dcontour": [
           {
            "colorbar": {
             "outlinewidth": 0,
             "ticks": ""
            },
            "colorscale": [
             [
              0,
              "#0d0887"
             ],
             [
              0.1111111111111111,
              "#46039f"
             ],
             [
              0.2222222222222222,
              "#7201a8"
             ],
             [
              0.3333333333333333,
              "#9c179e"
             ],
             [
              0.4444444444444444,
              "#bd3786"
             ],
             [
              0.5555555555555556,
              "#d8576b"
             ],
             [
              0.6666666666666666,
              "#ed7953"
             ],
             [
              0.7777777777777778,
              "#fb9f3a"
             ],
             [
              0.8888888888888888,
              "#fdca26"
             ],
             [
              1,
              "#f0f921"
             ]
            ],
            "type": "histogram2dcontour"
           }
          ],
          "mesh3d": [
           {
            "colorbar": {
             "outlinewidth": 0,
             "ticks": ""
            },
            "type": "mesh3d"
           }
          ],
          "parcoords": [
           {
            "line": {
             "colorbar": {
              "outlinewidth": 0,
              "ticks": ""
             }
            },
            "type": "parcoords"
           }
          ],
          "pie": [
           {
            "automargin": true,
            "type": "pie"
           }
          ],
          "scatter": [
           {
            "fillpattern": {
             "fillmode": "overlay",
             "size": 10,
             "solidity": 0.2
            },
            "type": "scatter"
           }
          ],
          "scatter3d": [
           {
            "line": {
             "colorbar": {
              "outlinewidth": 0,
              "ticks": ""
             }
            },
            "marker": {
             "colorbar": {
              "outlinewidth": 0,
              "ticks": ""
             }
            },
            "type": "scatter3d"
           }
          ],
          "scattercarpet": [
           {
            "marker": {
             "colorbar": {
              "outlinewidth": 0,
              "ticks": ""
             }
            },
            "type": "scattercarpet"
           }
          ],
          "scattergeo": [
           {
            "marker": {
             "colorbar": {
              "outlinewidth": 0,
              "ticks": ""
             }
            },
            "type": "scattergeo"
           }
          ],
          "scattergl": [
           {
            "marker": {
             "colorbar": {
              "outlinewidth": 0,
              "ticks": ""
             }
            },
            "type": "scattergl"
           }
          ],
          "scattermapbox": [
           {
            "marker": {
             "colorbar": {
              "outlinewidth": 0,
              "ticks": ""
             }
            },
            "type": "scattermapbox"
           }
          ],
          "scatterpolar": [
           {
            "marker": {
             "colorbar": {
              "outlinewidth": 0,
              "ticks": ""
             }
            },
            "type": "scatterpolar"
           }
          ],
          "scatterpolargl": [
           {
            "marker": {
             "colorbar": {
              "outlinewidth": 0,
              "ticks": ""
             }
            },
            "type": "scatterpolargl"
           }
          ],
          "scatterternary": [
           {
            "marker": {
             "colorbar": {
              "outlinewidth": 0,
              "ticks": ""
             }
            },
            "type": "scatterternary"
           }
          ],
          "surface": [
           {
            "colorbar": {
             "outlinewidth": 0,
             "ticks": ""
            },
            "colorscale": [
             [
              0,
              "#0d0887"
             ],
             [
              0.1111111111111111,
              "#46039f"
             ],
             [
              0.2222222222222222,
              "#7201a8"
             ],
             [
              0.3333333333333333,
              "#9c179e"
             ],
             [
              0.4444444444444444,
              "#bd3786"
             ],
             [
              0.5555555555555556,
              "#d8576b"
             ],
             [
              0.6666666666666666,
              "#ed7953"
             ],
             [
              0.7777777777777778,
              "#fb9f3a"
             ],
             [
              0.8888888888888888,
              "#fdca26"
             ],
             [
              1,
              "#f0f921"
             ]
            ],
            "type": "surface"
           }
          ],
          "table": [
           {
            "cells": {
             "fill": {
              "color": "#EBF0F8"
             },
             "line": {
              "color": "white"
             }
            },
            "header": {
             "fill": {
              "color": "#C8D4E3"
             },
             "line": {
              "color": "white"
             }
            },
            "type": "table"
           }
          ]
         },
         "layout": {
          "annotationdefaults": {
           "arrowcolor": "#2a3f5f",
           "arrowhead": 0,
           "arrowwidth": 1
          },
          "autotypenumbers": "strict",
          "coloraxis": {
           "colorbar": {
            "outlinewidth": 0,
            "ticks": ""
           }
          },
          "colorscale": {
           "diverging": [
            [
             0,
             "#8e0152"
            ],
            [
             0.1,
             "#c51b7d"
            ],
            [
             0.2,
             "#de77ae"
            ],
            [
             0.3,
             "#f1b6da"
            ],
            [
             0.4,
             "#fde0ef"
            ],
            [
             0.5,
             "#f7f7f7"
            ],
            [
             0.6,
             "#e6f5d0"
            ],
            [
             0.7,
             "#b8e186"
            ],
            [
             0.8,
             "#7fbc41"
            ],
            [
             0.9,
             "#4d9221"
            ],
            [
             1,
             "#276419"
            ]
           ],
           "sequential": [
            [
             0,
             "#0d0887"
            ],
            [
             0.1111111111111111,
             "#46039f"
            ],
            [
             0.2222222222222222,
             "#7201a8"
            ],
            [
             0.3333333333333333,
             "#9c179e"
            ],
            [
             0.4444444444444444,
             "#bd3786"
            ],
            [
             0.5555555555555556,
             "#d8576b"
            ],
            [
             0.6666666666666666,
             "#ed7953"
            ],
            [
             0.7777777777777778,
             "#fb9f3a"
            ],
            [
             0.8888888888888888,
             "#fdca26"
            ],
            [
             1,
             "#f0f921"
            ]
           ],
           "sequentialminus": [
            [
             0,
             "#0d0887"
            ],
            [
             0.1111111111111111,
             "#46039f"
            ],
            [
             0.2222222222222222,
             "#7201a8"
            ],
            [
             0.3333333333333333,
             "#9c179e"
            ],
            [
             0.4444444444444444,
             "#bd3786"
            ],
            [
             0.5555555555555556,
             "#d8576b"
            ],
            [
             0.6666666666666666,
             "#ed7953"
            ],
            [
             0.7777777777777778,
             "#fb9f3a"
            ],
            [
             0.8888888888888888,
             "#fdca26"
            ],
            [
             1,
             "#f0f921"
            ]
           ]
          },
          "colorway": [
           "#636efa",
           "#EF553B",
           "#00cc96",
           "#ab63fa",
           "#FFA15A",
           "#19d3f3",
           "#FF6692",
           "#B6E880",
           "#FF97FF",
           "#FECB52"
          ],
          "font": {
           "color": "#2a3f5f"
          },
          "geo": {
           "bgcolor": "white",
           "lakecolor": "white",
           "landcolor": "#E5ECF6",
           "showlakes": true,
           "showland": true,
           "subunitcolor": "white"
          },
          "hoverlabel": {
           "align": "left"
          },
          "hovermode": "closest",
          "mapbox": {
           "style": "light"
          },
          "paper_bgcolor": "white",
          "plot_bgcolor": "#E5ECF6",
          "polar": {
           "angularaxis": {
            "gridcolor": "white",
            "linecolor": "white",
            "ticks": ""
           },
           "bgcolor": "#E5ECF6",
           "radialaxis": {
            "gridcolor": "white",
            "linecolor": "white",
            "ticks": ""
           }
          },
          "scene": {
           "xaxis": {
            "backgroundcolor": "#E5ECF6",
            "gridcolor": "white",
            "gridwidth": 2,
            "linecolor": "white",
            "showbackground": true,
            "ticks": "",
            "zerolinecolor": "white"
           },
           "yaxis": {
            "backgroundcolor": "#E5ECF6",
            "gridcolor": "white",
            "gridwidth": 2,
            "linecolor": "white",
            "showbackground": true,
            "ticks": "",
            "zerolinecolor": "white"
           },
           "zaxis": {
            "backgroundcolor": "#E5ECF6",
            "gridcolor": "white",
            "gridwidth": 2,
            "linecolor": "white",
            "showbackground": true,
            "ticks": "",
            "zerolinecolor": "white"
           }
          },
          "shapedefaults": {
           "line": {
            "color": "#2a3f5f"
           }
          },
          "ternary": {
           "aaxis": {
            "gridcolor": "white",
            "linecolor": "white",
            "ticks": ""
           },
           "baxis": {
            "gridcolor": "white",
            "linecolor": "white",
            "ticks": ""
           },
           "bgcolor": "#E5ECF6",
           "caxis": {
            "gridcolor": "white",
            "linecolor": "white",
            "ticks": ""
           }
          },
          "title": {
           "x": 0.05
          },
          "xaxis": {
           "automargin": true,
           "gridcolor": "white",
           "linecolor": "white",
           "ticks": "",
           "title": {
            "standoff": 15
           },
           "zerolinecolor": "white",
           "zerolinewidth": 2
          },
          "yaxis": {
           "automargin": true,
           "gridcolor": "white",
           "linecolor": "white",
           "ticks": "",
           "title": {
            "standoff": 15
           },
           "zerolinecolor": "white",
           "zerolinewidth": 2
          }
         }
        },
        "title": {
         "text": "Infos on edge weight distribution - Year 2021"
        },
        "xaxis": {
         "anchor": "y",
         "domain": [
          0,
          1
         ],
         "title": {
          "text": "Country"
         }
        },
        "yaxis": {
         "anchor": "x",
         "domain": [
          0,
          1
         ],
         "title": {
          "text": "Weight"
         }
        }
       }
      }
     },
     "metadata": {},
     "output_type": "display_data"
    },
    {
     "data": {
      "application/vnd.plotly.v1+json": {
       "config": {
        "plotlyServerURL": "https://plot.ly"
       },
       "data": [
        {
         "hovertemplate": "<b>%{hovertext}</b><br><br>Degree type=Imports<br>Country=%{x}<br>Weight=%{y}<extra></extra>",
         "hovertext": [
          "Germany",
          "Belgium",
          "Spain",
          "Czech Rep.",
          "Slovakia",
          "France",
          "Italy",
          "Sweden",
          "Hungary",
          "Austria",
          "Netherlands",
          "Slovenia",
          "Romania",
          "Poland",
          "Portugal"
         ],
         "legendgroup": "Imports",
         "marker": {
          "color": "#636efa",
          "symbol": "circle"
         },
         "mode": "markers",
         "name": "Imports",
         "orientation": "v",
         "showlegend": true,
         "type": "scatter",
         "x": [
          "Germany",
          "Belgium",
          "Spain",
          "Czech Rep.",
          "Slovakia",
          "France",
          "Italy",
          "Sweden",
          "Hungary",
          "Austria",
          "Netherlands",
          "Slovenia",
          "Romania",
          "Poland",
          "Portugal"
         ],
         "xaxis": "x",
         "y": [
          48388064580,
          15740622857,
          10786696609,
          4160911624,
          2314944253,
          28057586931,
          19584142794,
          7484900193,
          2540852162,
          7428080442,
          12509737626,
          714994063,
          2121928472,
          9770946982,
          3019562892
         ],
         "yaxis": "y"
        },
        {
         "hovertemplate": "<b>%{hovertext}</b><br><br>Degree type=Exports<br>Country=%{x}<br>Weight=%{y}<extra></extra>",
         "hovertext": [
          "Germany",
          "Belgium",
          "Spain",
          "Czech Rep.",
          "Slovakia",
          "France",
          "Italy",
          "Sweden",
          "Hungary",
          "Austria",
          "Netherlands",
          "Slovenia",
          "Romania",
          "Poland",
          "Portugal"
         ],
         "legendgroup": "Exports",
         "marker": {
          "color": "#EF553B",
          "symbol": "circle"
         },
         "mode": "markers",
         "name": "Exports",
         "orientation": "v",
         "showlegend": true,
         "type": "scatter",
         "x": [
          "Germany",
          "Belgium",
          "Spain",
          "Czech Rep.",
          "Slovakia",
          "France",
          "Italy",
          "Sweden",
          "Hungary",
          "Austria",
          "Netherlands",
          "Slovenia",
          "Romania",
          "Poland",
          "Portugal"
         ],
         "xaxis": "x",
         "y": [
          133306921714,
          27599105570,
          26134628728,
          19730524740,
          19200047285,
          15268347863,
          11983482255,
          9378338923,
          6352132708,
          5495307554,
          5015171294,
          4659022297,
          4354232255,
          3927719350,
          2237369102
         ],
         "yaxis": "y"
        }
       ],
       "layout": {
        "legend": {
         "title": {
          "text": "Degree"
         },
         "tracegroupgap": 0
        },
        "plot_bgcolor": "beige",
        "template": {
         "data": {
          "bar": [
           {
            "error_x": {
             "color": "#2a3f5f"
            },
            "error_y": {
             "color": "#2a3f5f"
            },
            "marker": {
             "line": {
              "color": "#E5ECF6",
              "width": 0.5
             },
             "pattern": {
              "fillmode": "overlay",
              "size": 10,
              "solidity": 0.2
             }
            },
            "type": "bar"
           }
          ],
          "barpolar": [
           {
            "marker": {
             "line": {
              "color": "#E5ECF6",
              "width": 0.5
             },
             "pattern": {
              "fillmode": "overlay",
              "size": 10,
              "solidity": 0.2
             }
            },
            "type": "barpolar"
           }
          ],
          "carpet": [
           {
            "aaxis": {
             "endlinecolor": "#2a3f5f",
             "gridcolor": "white",
             "linecolor": "white",
             "minorgridcolor": "white",
             "startlinecolor": "#2a3f5f"
            },
            "baxis": {
             "endlinecolor": "#2a3f5f",
             "gridcolor": "white",
             "linecolor": "white",
             "minorgridcolor": "white",
             "startlinecolor": "#2a3f5f"
            },
            "type": "carpet"
           }
          ],
          "choropleth": [
           {
            "colorbar": {
             "outlinewidth": 0,
             "ticks": ""
            },
            "type": "choropleth"
           }
          ],
          "contour": [
           {
            "colorbar": {
             "outlinewidth": 0,
             "ticks": ""
            },
            "colorscale": [
             [
              0,
              "#0d0887"
             ],
             [
              0.1111111111111111,
              "#46039f"
             ],
             [
              0.2222222222222222,
              "#7201a8"
             ],
             [
              0.3333333333333333,
              "#9c179e"
             ],
             [
              0.4444444444444444,
              "#bd3786"
             ],
             [
              0.5555555555555556,
              "#d8576b"
             ],
             [
              0.6666666666666666,
              "#ed7953"
             ],
             [
              0.7777777777777778,
              "#fb9f3a"
             ],
             [
              0.8888888888888888,
              "#fdca26"
             ],
             [
              1,
              "#f0f921"
             ]
            ],
            "type": "contour"
           }
          ],
          "contourcarpet": [
           {
            "colorbar": {
             "outlinewidth": 0,
             "ticks": ""
            },
            "type": "contourcarpet"
           }
          ],
          "heatmap": [
           {
            "colorbar": {
             "outlinewidth": 0,
             "ticks": ""
            },
            "colorscale": [
             [
              0,
              "#0d0887"
             ],
             [
              0.1111111111111111,
              "#46039f"
             ],
             [
              0.2222222222222222,
              "#7201a8"
             ],
             [
              0.3333333333333333,
              "#9c179e"
             ],
             [
              0.4444444444444444,
              "#bd3786"
             ],
             [
              0.5555555555555556,
              "#d8576b"
             ],
             [
              0.6666666666666666,
              "#ed7953"
             ],
             [
              0.7777777777777778,
              "#fb9f3a"
             ],
             [
              0.8888888888888888,
              "#fdca26"
             ],
             [
              1,
              "#f0f921"
             ]
            ],
            "type": "heatmap"
           }
          ],
          "heatmapgl": [
           {
            "colorbar": {
             "outlinewidth": 0,
             "ticks": ""
            },
            "colorscale": [
             [
              0,
              "#0d0887"
             ],
             [
              0.1111111111111111,
              "#46039f"
             ],
             [
              0.2222222222222222,
              "#7201a8"
             ],
             [
              0.3333333333333333,
              "#9c179e"
             ],
             [
              0.4444444444444444,
              "#bd3786"
             ],
             [
              0.5555555555555556,
              "#d8576b"
             ],
             [
              0.6666666666666666,
              "#ed7953"
             ],
             [
              0.7777777777777778,
              "#fb9f3a"
             ],
             [
              0.8888888888888888,
              "#fdca26"
             ],
             [
              1,
              "#f0f921"
             ]
            ],
            "type": "heatmapgl"
           }
          ],
          "histogram": [
           {
            "marker": {
             "pattern": {
              "fillmode": "overlay",
              "size": 10,
              "solidity": 0.2
             }
            },
            "type": "histogram"
           }
          ],
          "histogram2d": [
           {
            "colorbar": {
             "outlinewidth": 0,
             "ticks": ""
            },
            "colorscale": [
             [
              0,
              "#0d0887"
             ],
             [
              0.1111111111111111,
              "#46039f"
             ],
             [
              0.2222222222222222,
              "#7201a8"
             ],
             [
              0.3333333333333333,
              "#9c179e"
             ],
             [
              0.4444444444444444,
              "#bd3786"
             ],
             [
              0.5555555555555556,
              "#d8576b"
             ],
             [
              0.6666666666666666,
              "#ed7953"
             ],
             [
              0.7777777777777778,
              "#fb9f3a"
             ],
             [
              0.8888888888888888,
              "#fdca26"
             ],
             [
              1,
              "#f0f921"
             ]
            ],
            "type": "histogram2d"
           }
          ],
          "histogram2dcontour": [
           {
            "colorbar": {
             "outlinewidth": 0,
             "ticks": ""
            },
            "colorscale": [
             [
              0,
              "#0d0887"
             ],
             [
              0.1111111111111111,
              "#46039f"
             ],
             [
              0.2222222222222222,
              "#7201a8"
             ],
             [
              0.3333333333333333,
              "#9c179e"
             ],
             [
              0.4444444444444444,
              "#bd3786"
             ],
             [
              0.5555555555555556,
              "#d8576b"
             ],
             [
              0.6666666666666666,
              "#ed7953"
             ],
             [
              0.7777777777777778,
              "#fb9f3a"
             ],
             [
              0.8888888888888888,
              "#fdca26"
             ],
             [
              1,
              "#f0f921"
             ]
            ],
            "type": "histogram2dcontour"
           }
          ],
          "mesh3d": [
           {
            "colorbar": {
             "outlinewidth": 0,
             "ticks": ""
            },
            "type": "mesh3d"
           }
          ],
          "parcoords": [
           {
            "line": {
             "colorbar": {
              "outlinewidth": 0,
              "ticks": ""
             }
            },
            "type": "parcoords"
           }
          ],
          "pie": [
           {
            "automargin": true,
            "type": "pie"
           }
          ],
          "scatter": [
           {
            "fillpattern": {
             "fillmode": "overlay",
             "size": 10,
             "solidity": 0.2
            },
            "type": "scatter"
           }
          ],
          "scatter3d": [
           {
            "line": {
             "colorbar": {
              "outlinewidth": 0,
              "ticks": ""
             }
            },
            "marker": {
             "colorbar": {
              "outlinewidth": 0,
              "ticks": ""
             }
            },
            "type": "scatter3d"
           }
          ],
          "scattercarpet": [
           {
            "marker": {
             "colorbar": {
              "outlinewidth": 0,
              "ticks": ""
             }
            },
            "type": "scattercarpet"
           }
          ],
          "scattergeo": [
           {
            "marker": {
             "colorbar": {
              "outlinewidth": 0,
              "ticks": ""
             }
            },
            "type": "scattergeo"
           }
          ],
          "scattergl": [
           {
            "marker": {
             "colorbar": {
              "outlinewidth": 0,
              "ticks": ""
             }
            },
            "type": "scattergl"
           }
          ],
          "scattermapbox": [
           {
            "marker": {
             "colorbar": {
              "outlinewidth": 0,
              "ticks": ""
             }
            },
            "type": "scattermapbox"
           }
          ],
          "scatterpolar": [
           {
            "marker": {
             "colorbar": {
              "outlinewidth": 0,
              "ticks": ""
             }
            },
            "type": "scatterpolar"
           }
          ],
          "scatterpolargl": [
           {
            "marker": {
             "colorbar": {
              "outlinewidth": 0,
              "ticks": ""
             }
            },
            "type": "scatterpolargl"
           }
          ],
          "scatterternary": [
           {
            "marker": {
             "colorbar": {
              "outlinewidth": 0,
              "ticks": ""
             }
            },
            "type": "scatterternary"
           }
          ],
          "surface": [
           {
            "colorbar": {
             "outlinewidth": 0,
             "ticks": ""
            },
            "colorscale": [
             [
              0,
              "#0d0887"
             ],
             [
              0.1111111111111111,
              "#46039f"
             ],
             [
              0.2222222222222222,
              "#7201a8"
             ],
             [
              0.3333333333333333,
              "#9c179e"
             ],
             [
              0.4444444444444444,
              "#bd3786"
             ],
             [
              0.5555555555555556,
              "#d8576b"
             ],
             [
              0.6666666666666666,
              "#ed7953"
             ],
             [
              0.7777777777777778,
              "#fb9f3a"
             ],
             [
              0.8888888888888888,
              "#fdca26"
             ],
             [
              1,
              "#f0f921"
             ]
            ],
            "type": "surface"
           }
          ],
          "table": [
           {
            "cells": {
             "fill": {
              "color": "#EBF0F8"
             },
             "line": {
              "color": "white"
             }
            },
            "header": {
             "fill": {
              "color": "#C8D4E3"
             },
             "line": {
              "color": "white"
             }
            },
            "type": "table"
           }
          ]
         },
         "layout": {
          "annotationdefaults": {
           "arrowcolor": "#2a3f5f",
           "arrowhead": 0,
           "arrowwidth": 1
          },
          "autotypenumbers": "strict",
          "coloraxis": {
           "colorbar": {
            "outlinewidth": 0,
            "ticks": ""
           }
          },
          "colorscale": {
           "diverging": [
            [
             0,
             "#8e0152"
            ],
            [
             0.1,
             "#c51b7d"
            ],
            [
             0.2,
             "#de77ae"
            ],
            [
             0.3,
             "#f1b6da"
            ],
            [
             0.4,
             "#fde0ef"
            ],
            [
             0.5,
             "#f7f7f7"
            ],
            [
             0.6,
             "#e6f5d0"
            ],
            [
             0.7,
             "#b8e186"
            ],
            [
             0.8,
             "#7fbc41"
            ],
            [
             0.9,
             "#4d9221"
            ],
            [
             1,
             "#276419"
            ]
           ],
           "sequential": [
            [
             0,
             "#0d0887"
            ],
            [
             0.1111111111111111,
             "#46039f"
            ],
            [
             0.2222222222222222,
             "#7201a8"
            ],
            [
             0.3333333333333333,
             "#9c179e"
            ],
            [
             0.4444444444444444,
             "#bd3786"
            ],
            [
             0.5555555555555556,
             "#d8576b"
            ],
            [
             0.6666666666666666,
             "#ed7953"
            ],
            [
             0.7777777777777778,
             "#fb9f3a"
            ],
            [
             0.8888888888888888,
             "#fdca26"
            ],
            [
             1,
             "#f0f921"
            ]
           ],
           "sequentialminus": [
            [
             0,
             "#0d0887"
            ],
            [
             0.1111111111111111,
             "#46039f"
            ],
            [
             0.2222222222222222,
             "#7201a8"
            ],
            [
             0.3333333333333333,
             "#9c179e"
            ],
            [
             0.4444444444444444,
             "#bd3786"
            ],
            [
             0.5555555555555556,
             "#d8576b"
            ],
            [
             0.6666666666666666,
             "#ed7953"
            ],
            [
             0.7777777777777778,
             "#fb9f3a"
            ],
            [
             0.8888888888888888,
             "#fdca26"
            ],
            [
             1,
             "#f0f921"
            ]
           ]
          },
          "colorway": [
           "#636efa",
           "#EF553B",
           "#00cc96",
           "#ab63fa",
           "#FFA15A",
           "#19d3f3",
           "#FF6692",
           "#B6E880",
           "#FF97FF",
           "#FECB52"
          ],
          "font": {
           "color": "#2a3f5f"
          },
          "geo": {
           "bgcolor": "white",
           "lakecolor": "white",
           "landcolor": "#E5ECF6",
           "showlakes": true,
           "showland": true,
           "subunitcolor": "white"
          },
          "hoverlabel": {
           "align": "left"
          },
          "hovermode": "closest",
          "mapbox": {
           "style": "light"
          },
          "paper_bgcolor": "white",
          "plot_bgcolor": "#E5ECF6",
          "polar": {
           "angularaxis": {
            "gridcolor": "white",
            "linecolor": "white",
            "ticks": ""
           },
           "bgcolor": "#E5ECF6",
           "radialaxis": {
            "gridcolor": "white",
            "linecolor": "white",
            "ticks": ""
           }
          },
          "scene": {
           "xaxis": {
            "backgroundcolor": "#E5ECF6",
            "gridcolor": "white",
            "gridwidth": 2,
            "linecolor": "white",
            "showbackground": true,
            "ticks": "",
            "zerolinecolor": "white"
           },
           "yaxis": {
            "backgroundcolor": "#E5ECF6",
            "gridcolor": "white",
            "gridwidth": 2,
            "linecolor": "white",
            "showbackground": true,
            "ticks": "",
            "zerolinecolor": "white"
           },
           "zaxis": {
            "backgroundcolor": "#E5ECF6",
            "gridcolor": "white",
            "gridwidth": 2,
            "linecolor": "white",
            "showbackground": true,
            "ticks": "",
            "zerolinecolor": "white"
           }
          },
          "shapedefaults": {
           "line": {
            "color": "#2a3f5f"
           }
          },
          "ternary": {
           "aaxis": {
            "gridcolor": "white",
            "linecolor": "white",
            "ticks": ""
           },
           "baxis": {
            "gridcolor": "white",
            "linecolor": "white",
            "ticks": ""
           },
           "bgcolor": "#E5ECF6",
           "caxis": {
            "gridcolor": "white",
            "linecolor": "white",
            "ticks": ""
           }
          },
          "title": {
           "x": 0.05
          },
          "xaxis": {
           "automargin": true,
           "gridcolor": "white",
           "linecolor": "white",
           "ticks": "",
           "title": {
            "standoff": 15
           },
           "zerolinecolor": "white",
           "zerolinewidth": 2
          },
          "yaxis": {
           "automargin": true,
           "gridcolor": "white",
           "linecolor": "white",
           "ticks": "",
           "title": {
            "standoff": 15
           },
           "zerolinecolor": "white",
           "zerolinewidth": 2
          }
         }
        },
        "title": {
         "text": "Infos on edge weight distribution - Year 2022"
        },
        "xaxis": {
         "anchor": "y",
         "domain": [
          0,
          1
         ],
         "title": {
          "text": "Country"
         }
        },
        "yaxis": {
         "anchor": "x",
         "domain": [
          0,
          1
         ],
         "title": {
          "text": "Weight"
         }
        }
       }
      }
     },
     "metadata": {},
     "output_type": "display_data"
    }
   ],
   "source": [
    "for year in unique_years:\n",
    "    # Filter data for the current year\n",
    "    filtered_data_year = filtered_data[filtered_data['TIME_PERIOD'] == year]\n",
    "\n",
    "    # Create a directed graph from the filtered data\n",
    "    graph_year = nx.from_pandas_edgelist(filtered_data_year, 'reporter', 'partner', edge_attr=\"OBS_VALUE\", create_using=nx.DiGraph)\n",
    "\n",
    "    # Reset indegree and outdegree maps for the current year\n",
    "    in_degree_map_year = {node: 0 for node in graph_year.nodes()}\n",
    "    out_degree_map_year = {node: 0 for node in graph_year.nodes()}\n",
    "    sum_edge_weights_out_year = {node: 0 for node in graph_year.nodes()}\n",
    "    sum_edge_weights_in_year = {node: 0 for node in graph_year.nodes()}\n",
    "\n",
    "    # Calculate indegree and outdegree values\n",
    "    for source, target, weight in graph_year.edges(data=\"OBS_VALUE\", default=0):\n",
    "        out_degree_map_year[source] += 1            # out-degree from the reporter (source)\n",
    "        in_degree_map_year[target] += 1             # in-degree to the partner (target)\n",
    "        sum_edge_weights_out_year[source] += weight # out-degree weights\n",
    "        sum_edge_weights_in_year[target] += weight  # in-degree weights\n",
    "\n",
    "    # Filter out nodes with only 1 in-degree or 0 out-degree\n",
    "    filtered_nodes = [node for node in graph_year.nodes() if in_degree_map_year[node] > 1 and out_degree_map_year[node] > 1]\n",
    "\n",
    "    # Ensure that in-degree and out-degree arrays have the same length\n",
    "    common_nodes = list(set(filtered_nodes) & set(in_degree_map_year) & set(out_degree_map_year))\n",
    "    out_degree_nodes_year = [out_degree_map_year[node] for node in common_nodes]\n",
    "    in_degree_nodes_year = [in_degree_map_year[node] for node in common_nodes]\n",
    "    out_degree_weights_year = [sum_edge_weights_out_year[node] for node in common_nodes]\n",
    "    in_degree_weights_year = [sum_edge_weights_in_year[node] for node in common_nodes]\n",
    "\n",
    "    # Create a dataframe for the scatter plot\n",
    "    scatter_data = pd.DataFrame({\n",
    "        'country': [countries.get(code, code) for code in common_nodes],\n",
    "        'out-degree': out_degree_nodes_year,\n",
    "        'in-degree': in_degree_nodes_year,\n",
    "        'Exports': out_degree_weights_year,\n",
    "        'Imports': in_degree_weights_year\n",
    "    })\n",
    "\n",
    "    # Sort scatter_data by In-Degree and Out-Degree values\n",
    "    scatter_data = scatter_data.sort_values(by=['Exports'], ascending=False)\n",
    "\n",
    "    # Create scatter plot using plotly express without category_orders\n",
    "    fig = px.scatter(scatter_data, x='country', y=['Imports', 'Exports'],\n",
    "                     labels={'variable': 'Degree type', 'country': 'Country', 'value': 'Weight'},\n",
    "                     title=f'Infos on edge weight distribution - Year {year}', hover_name='country')\n",
    "\n",
    "    # Set the legend title to \"Degrees\"\n",
    "    fig.update_layout(legend_title_text='Degree')\n",
    "\n",
    "    # Set background color of the grid\n",
    "    fig.update_layout(plot_bgcolor='beige')\n",
    "\n",
    "    # Show the figure with title and legend\n",
    "    fig.show()"
   ]
  },
  {
   "cell_type": "markdown",
   "metadata": {},
   "source": [
    "## 4. Covid-19 effect on trade values of the biggest exporters"
   ]
  },
  {
   "cell_type": "code",
   "execution_count": 1060,
   "metadata": {},
   "outputs": [],
   "source": [
    "# Assuming you have a list of unique years named 'unique_years'\n",
    "all_bar_data = pd.DataFrame()\n",
    "\n",
    "# Define a color map for years\n",
    "year_colors = {year: plt.cm.viridis(i / len(unique_years)) for i, year in enumerate(unique_years)}\n",
    "\n",
    "prev_bar_data = None\n",
    "\n",
    "for year in unique_years:\n",
    "    # Filter data for the current year\n",
    "    filtered_data_year = filtered_data[filtered_data['TIME_PERIOD'] == year]\n",
    "\n",
    "    # Create a directed graph from the filtered data\n",
    "    graph_year = nx.from_pandas_edgelist(filtered_data_year, 'reporter', 'partner', edge_attr=\"OBS_VALUE\", create_using=nx.DiGraph)\n",
    "\n",
    "    # Reset outdegree map for the current year\n",
    "    out_degree_map_year = {node: 0 for node in graph_year.nodes()}\n",
    "    sum_edge_weights_out_year = {node: 0 for node in graph_year.nodes()}\n",
    "    in_degree_map_year = {node: 0 for node in graph_year.nodes()}\n",
    "    sum_edge_weights_in_year = {node: 0 for node in graph_year.nodes()}\n",
    "\n",
    "    # Calculate outdegree values\n",
    "    for source, target, weight in graph_year.edges(data=\"OBS_VALUE\", default=0):\n",
    "        out_degree_map_year[source] += 1            # out-degree from the reporter (source)\n",
    "        sum_edge_weights_out_year[source] += weight # out-degree weights\n",
    "        in_degree_map_year[target] += 1           \n",
    "        sum_edge_weights_in_year[target] += weight \n",
    "        out_degree_nodes_year = [out_degree_map_year[node] for node in graph_year.nodes()]\n",
    "        in_degree_nodes_year = [in_degree_map_year[node] for node in graph_year.nodes()]\n",
    "\n",
    "    # Create a dataframe for the bar plot\n",
    "    bar_data = pd.DataFrame({\n",
    "        'Year': [year] * len(graph_year.nodes()),\n",
    "        'Country': [countries.get(code, code) for code in graph_year.nodes()],\n",
    "        'Exports': list(sum_edge_weights_out_year.values()),\n",
    "        'Imports': list(sum_edge_weights_in_year.values()),\n",
    "        'Out-degrees': out_degree_nodes_year,\n",
    "        'In-degrees': in_degree_nodes_year,\n",
    "    })\n",
    "\n",
    "    # Append the data for the current year to the overall dataframe\n",
    "    all_bar_data = pd.concat([all_bar_data, bar_data])\n",
    "\n",
    "# Sort the overall dataframe by 'Exports' values\n",
    "all_bar_data = all_bar_data.sort_values(by=['Exports'], ascending=False)\n",
    "all_bar_data = all_bar_data.head(28)  # shows 28 values\n",
    "\n",
    "# Set the 'country' column as a categorical variable with custom order\n",
    "country_order = all_bar_data['Country'].unique()\n",
    "all_bar_data['Country'] = pd.Categorical(all_bar_data['Country'], categories=country_order, ordered=True)"
   ]
  },
  {
   "cell_type": "code",
   "execution_count": 1061,
   "metadata": {},
   "outputs": [],
   "source": [
    "# Add changes between years to the bar data frame\n",
    "\n",
    "all_bar_data['Year'] = pd.to_numeric(all_bar_data['Year'], errors='coerce')\n",
    "\n",
    "years = sorted(list(all_bar_data['Year'].unique()))\n",
    "countries = all_bar_data['Country'].unique()\n",
    "all_bar_data['Out-degree change'] = int('0')\n",
    "all_bar_data['Exports change (%)'] = float('0')\n",
    "\n",
    "\n",
    "for year in years[1:]:\n",
    "    for country in countries:\n",
    "        curr_df = all_bar_data[(all_bar_data['Year'] == year) & (all_bar_data['Country'] == country)]\n",
    "        \n",
    "        if not curr_df.empty:\n",
    "            curr_nodes_out = curr_df['Out-degrees'].values[0]\n",
    "            curr_exports = curr_df['Exports'].values[0]\n",
    "            prev_df = all_bar_data[(all_bar_data['Year'] == (year-1)) & (all_bar_data['Country'] == country)]\n",
    "            \n",
    "            if not prev_df.empty:\n",
    "                prev_nodes_out = prev_df['Out-degrees'].values[0]\n",
    "                prev_exports = prev_df['Exports'].values[0]\n",
    "                nodes_out_change = prev_nodes_out - curr_nodes_out\n",
    "                export_change = round((curr_exports / prev_exports - 1) * 100, 2)\n",
    "\n",
    "                # print(f'Year: {year}, Country: {country}, Change: {export_change}')  # DEBUG\n",
    "                all_bar_data.loc[(all_bar_data['Year'] == year) & (all_bar_data['Country'] == country), 'Out-degree change'] = int(nodes_out_change)\n",
    "                all_bar_data.loc[(all_bar_data['Year'] == year) & (all_bar_data['Country'] == country), 'Exports change (%)'] = export_change\n",
    "            else:\n",
    "                print(f'No data for the previous year for {country} in {year}')\n",
    "        else:\n",
    "            print(f'No data for {country} in {year}')"
   ]
  },
  {
   "cell_type": "code",
   "execution_count": 1062,
   "metadata": {},
   "outputs": [
    {
     "data": {
      "text/html": [
       "<div>\n",
       "<style scoped>\n",
       "    .dataframe tbody tr th:only-of-type {\n",
       "        vertical-align: middle;\n",
       "    }\n",
       "\n",
       "    .dataframe tbody tr th {\n",
       "        vertical-align: top;\n",
       "    }\n",
       "\n",
       "    .dataframe thead th {\n",
       "        text-align: right;\n",
       "    }\n",
       "</style>\n",
       "<table border=\"1\" class=\"dataframe\">\n",
       "  <thead>\n",
       "    <tr style=\"text-align: right;\">\n",
       "      <th></th>\n",
       "      <th>Year</th>\n",
       "      <th>Country</th>\n",
       "      <th>Exports</th>\n",
       "      <th>Out-degrees</th>\n",
       "      <th>Out-degree change</th>\n",
       "      <th>Exports change (%)</th>\n",
       "    </tr>\n",
       "  </thead>\n",
       "  <tbody>\n",
       "    <tr>\n",
       "      <th>4</th>\n",
       "      <td>2019</td>\n",
       "      <td>Germany</td>\n",
       "      <td>111362885926</td>\n",
       "      <td>45</td>\n",
       "      <td>0</td>\n",
       "      <td>0.00</td>\n",
       "    </tr>\n",
       "    <tr>\n",
       "      <th>3</th>\n",
       "      <td>2020</td>\n",
       "      <td>Germany</td>\n",
       "      <td>95338391596</td>\n",
       "      <td>43</td>\n",
       "      <td>2</td>\n",
       "      <td>-14.39</td>\n",
       "    </tr>\n",
       "    <tr>\n",
       "      <th>4</th>\n",
       "      <td>2021</td>\n",
       "      <td>Germany</td>\n",
       "      <td>108918653785</td>\n",
       "      <td>47</td>\n",
       "      <td>-4</td>\n",
       "      <td>14.24</td>\n",
       "    </tr>\n",
       "    <tr>\n",
       "      <th>4</th>\n",
       "      <td>2022</td>\n",
       "      <td>Germany</td>\n",
       "      <td>133306921714</td>\n",
       "      <td>51</td>\n",
       "      <td>-4</td>\n",
       "      <td>22.39</td>\n",
       "    </tr>\n",
       "    <tr>\n",
       "      <th>1</th>\n",
       "      <td>2019</td>\n",
       "      <td>Belgium</td>\n",
       "      <td>25060865558</td>\n",
       "      <td>21</td>\n",
       "      <td>0</td>\n",
       "      <td>0.00</td>\n",
       "    </tr>\n",
       "    <tr>\n",
       "      <th>1</th>\n",
       "      <td>2020</td>\n",
       "      <td>Belgium</td>\n",
       "      <td>20229149262</td>\n",
       "      <td>17</td>\n",
       "      <td>4</td>\n",
       "      <td>-19.28</td>\n",
       "    </tr>\n",
       "    <tr>\n",
       "      <th>1</th>\n",
       "      <td>2021</td>\n",
       "      <td>Belgium</td>\n",
       "      <td>23566722562</td>\n",
       "      <td>19</td>\n",
       "      <td>-2</td>\n",
       "      <td>16.50</td>\n",
       "    </tr>\n",
       "    <tr>\n",
       "      <th>1</th>\n",
       "      <td>2022</td>\n",
       "      <td>Belgium</td>\n",
       "      <td>27599105570</td>\n",
       "      <td>22</td>\n",
       "      <td>-3</td>\n",
       "      <td>17.11</td>\n",
       "    </tr>\n",
       "    <tr>\n",
       "      <th>12</th>\n",
       "      <td>2019</td>\n",
       "      <td>Spain</td>\n",
       "      <td>24685336929</td>\n",
       "      <td>18</td>\n",
       "      <td>0</td>\n",
       "      <td>0.00</td>\n",
       "    </tr>\n",
       "    <tr>\n",
       "      <th>10</th>\n",
       "      <td>2020</td>\n",
       "      <td>Spain</td>\n",
       "      <td>23387936474</td>\n",
       "      <td>18</td>\n",
       "      <td>0</td>\n",
       "      <td>-5.26</td>\n",
       "    </tr>\n",
       "    <tr>\n",
       "      <th>12</th>\n",
       "      <td>2021</td>\n",
       "      <td>Spain</td>\n",
       "      <td>22290510248</td>\n",
       "      <td>19</td>\n",
       "      <td>-1</td>\n",
       "      <td>-4.69</td>\n",
       "    </tr>\n",
       "    <tr>\n",
       "      <th>15</th>\n",
       "      <td>2022</td>\n",
       "      <td>Spain</td>\n",
       "      <td>26134628728</td>\n",
       "      <td>23</td>\n",
       "      <td>-4</td>\n",
       "      <td>17.25</td>\n",
       "    </tr>\n",
       "    <tr>\n",
       "      <th>8</th>\n",
       "      <td>2019</td>\n",
       "      <td>Slovakia</td>\n",
       "      <td>15641336693</td>\n",
       "      <td>14</td>\n",
       "      <td>0</td>\n",
       "      <td>0.00</td>\n",
       "    </tr>\n",
       "    <tr>\n",
       "      <th>6</th>\n",
       "      <td>2020</td>\n",
       "      <td>Slovakia</td>\n",
       "      <td>16934016519</td>\n",
       "      <td>16</td>\n",
       "      <td>-2</td>\n",
       "      <td>8.26</td>\n",
       "    </tr>\n",
       "    <tr>\n",
       "      <th>8</th>\n",
       "      <td>2021</td>\n",
       "      <td>Slovakia</td>\n",
       "      <td>17545923071</td>\n",
       "      <td>16</td>\n",
       "      <td>0</td>\n",
       "      <td>3.61</td>\n",
       "    </tr>\n",
       "    <tr>\n",
       "      <th>10</th>\n",
       "      <td>2022</td>\n",
       "      <td>Slovakia</td>\n",
       "      <td>19200047285</td>\n",
       "      <td>16</td>\n",
       "      <td>0</td>\n",
       "      <td>9.43</td>\n",
       "    </tr>\n",
       "    <tr>\n",
       "      <th>14</th>\n",
       "      <td>2019</td>\n",
       "      <td>France</td>\n",
       "      <td>16668787148</td>\n",
       "      <td>16</td>\n",
       "      <td>0</td>\n",
       "      <td>0.00</td>\n",
       "    </tr>\n",
       "    <tr>\n",
       "      <th>12</th>\n",
       "      <td>2020</td>\n",
       "      <td>France</td>\n",
       "      <td>13028313826</td>\n",
       "      <td>14</td>\n",
       "      <td>2</td>\n",
       "      <td>-21.84</td>\n",
       "    </tr>\n",
       "    <tr>\n",
       "      <th>14</th>\n",
       "      <td>2021</td>\n",
       "      <td>France</td>\n",
       "      <td>13953563003</td>\n",
       "      <td>15</td>\n",
       "      <td>-1</td>\n",
       "      <td>7.10</td>\n",
       "    </tr>\n",
       "    <tr>\n",
       "      <th>17</th>\n",
       "      <td>2022</td>\n",
       "      <td>France</td>\n",
       "      <td>15268347863</td>\n",
       "      <td>15</td>\n",
       "      <td>0</td>\n",
       "      <td>9.42</td>\n",
       "    </tr>\n",
       "    <tr>\n",
       "      <th>6</th>\n",
       "      <td>2019</td>\n",
       "      <td>Italy</td>\n",
       "      <td>10365453025</td>\n",
       "      <td>11</td>\n",
       "      <td>0</td>\n",
       "      <td>0.00</td>\n",
       "    </tr>\n",
       "    <tr>\n",
       "      <th>14</th>\n",
       "      <td>2020</td>\n",
       "      <td>Italy</td>\n",
       "      <td>10217667136</td>\n",
       "      <td>11</td>\n",
       "      <td>0</td>\n",
       "      <td>-1.43</td>\n",
       "    </tr>\n",
       "    <tr>\n",
       "      <th>6</th>\n",
       "      <td>2021</td>\n",
       "      <td>Italy</td>\n",
       "      <td>10873948294</td>\n",
       "      <td>12</td>\n",
       "      <td>-1</td>\n",
       "      <td>6.42</td>\n",
       "    </tr>\n",
       "    <tr>\n",
       "      <th>6</th>\n",
       "      <td>2022</td>\n",
       "      <td>Italy</td>\n",
       "      <td>11983482255</td>\n",
       "      <td>12</td>\n",
       "      <td>0</td>\n",
       "      <td>10.20</td>\n",
       "    </tr>\n",
       "  </tbody>\n",
       "</table>\n",
       "</div>"
      ],
      "text/plain": [
       "    Year   Country       Exports  Out-degrees  Out-degree change  \\\n",
       "4   2019   Germany  111362885926           45                  0   \n",
       "3   2020   Germany   95338391596           43                  2   \n",
       "4   2021   Germany  108918653785           47                 -4   \n",
       "4   2022   Germany  133306921714           51                 -4   \n",
       "1   2019   Belgium   25060865558           21                  0   \n",
       "1   2020   Belgium   20229149262           17                  4   \n",
       "1   2021   Belgium   23566722562           19                 -2   \n",
       "1   2022   Belgium   27599105570           22                 -3   \n",
       "12  2019     Spain   24685336929           18                  0   \n",
       "10  2020     Spain   23387936474           18                  0   \n",
       "12  2021     Spain   22290510248           19                 -1   \n",
       "15  2022     Spain   26134628728           23                 -4   \n",
       "8   2019  Slovakia   15641336693           14                  0   \n",
       "6   2020  Slovakia   16934016519           16                 -2   \n",
       "8   2021  Slovakia   17545923071           16                  0   \n",
       "10  2022  Slovakia   19200047285           16                  0   \n",
       "14  2019    France   16668787148           16                  0   \n",
       "12  2020    France   13028313826           14                  2   \n",
       "14  2021    France   13953563003           15                 -1   \n",
       "17  2022    France   15268347863           15                  0   \n",
       "6   2019     Italy   10365453025           11                  0   \n",
       "14  2020     Italy   10217667136           11                  0   \n",
       "6   2021     Italy   10873948294           12                 -1   \n",
       "6   2022     Italy   11983482255           12                  0   \n",
       "\n",
       "    Exports change (%)  \n",
       "4                 0.00  \n",
       "3               -14.39  \n",
       "4                14.24  \n",
       "4                22.39  \n",
       "1                 0.00  \n",
       "1               -19.28  \n",
       "1                16.50  \n",
       "1                17.11  \n",
       "12                0.00  \n",
       "10               -5.26  \n",
       "12               -4.69  \n",
       "15               17.25  \n",
       "8                 0.00  \n",
       "6                 8.26  \n",
       "8                 3.61  \n",
       "10                9.43  \n",
       "14                0.00  \n",
       "12              -21.84  \n",
       "14                7.10  \n",
       "17                9.42  \n",
       "6                 0.00  \n",
       "14               -1.43  \n",
       "6                 6.42  \n",
       "6                10.20  "
      ]
     },
     "execution_count": 1062,
     "metadata": {},
     "output_type": "execute_result"
    }
   ],
   "source": [
    "# Convert 'Year' column to numeric\n",
    "all_bar_data['Year'] = pd.to_numeric(all_bar_data['Year'], errors='coerce')\n",
    "\n",
    "# Filter only the specified countries\n",
    "selected_countries = ['Germany', 'Belgium', 'Spain', 'France', 'Czech Republic', 'Slovakia', 'Italy']\n",
    "filtered_bar_data = all_bar_data[all_bar_data['Country'].isin(selected_countries)]\n",
    "\n",
    "# Sort the DataFrame by 'Country' and 'Year'\n",
    "filtered_bar_data = filtered_bar_data.sort_values(by=['Country', 'Year'])\n",
    "\n",
    "# Select and reorder columns\n",
    "selected_columns = ['Year', 'Country', 'Exports', 'Out-degrees', 'Out-degree change', 'Exports change (%)']\n",
    "filtered_bar_data = filtered_bar_data.loc[:, selected_columns]\n",
    "\n",
    "# Display the resulting DataFrame\n",
    "filtered_bar_data"
   ]
  },
  {
   "cell_type": "code",
   "execution_count": 1063,
   "metadata": {},
   "outputs": [
    {
     "data": {
      "image/png": "[encoded data removed]",
      "text/plain": [
       "<Figure size 1400x800 with 1 Axes>"
      ]
     },
     "metadata": {},
     "output_type": "display_data"
    }
   ],
   "source": [
    "df = pd.DataFrame(filtered_bar_data)\n",
    "\n",
    "# Pivot the dataframe\n",
    "pivot_df = df.pivot_table(index='Country', columns='Year', values='Exports')\n",
    "\n",
    "# Fill NaN values with 0 if needed\n",
    "pivot_df = pivot_df.fillna(0)\n",
    "\n",
    "# Convert values to billions\n",
    "pivot_df /= 1e9  # Divide by 1 billion\n",
    "\n",
    "def billions_formatter(x, pos):\n",
    "    return f'{x:.0f}B' if x > 0 else '0'\n",
    "\n",
    "# Plotting\n",
    "pivot_df.plot(kind='bar', figsize=(14, 8), width=0.8)  # Larger size for visibility\n",
    "plt.xlabel('Country', fontsize=15)\n",
    "plt.ylabel('Exports', fontsize=15)\n",
    "plt.title('Exports by Country and Year', fontsize=17)\n",
    "legend = plt.legend(title='Year', bbox_to_anchor=(1.05, 1), loc='upper left',fontsize=13)\n",
    "legend.get_title().set_fontsize('13')\n",
    "plt.xticks(rotation=0, fontsize=13)\n",
    "plt.yticks(fontsize=13)\n",
    "\n",
    "formatter = FuncFormatter(billions_formatter)\n",
    "plt.gca().yaxis.set_major_formatter(formatter)\n",
    "\n",
    "# Adding grid\n",
    "plt.grid(axis='y', linestyle='--', zorder=2)  # Adding gridlines to y-axis\n",
    "plt.grid(axis='x', linestyle='--', zorder=2)  # Adding gridlines to y-axis\n",
    "\n",
    "plt.tight_layout()\n",
    "plt.show()"
   ]
  },
  {
   "cell_type": "markdown",
   "metadata": {},
   "source": [
    "**Insights on the export values of major players in the automobile industry**"
   ]
  },
  {
   "cell_type": "markdown",
   "metadata": {},
   "source": [
    "Almost all of the biggest exporters, excluding Slovakia, took a hit during 2020, following the start of the Covid-19 pandemic. Italy did not suffer a significant decline in 2020, their export values decreased only by 1.4 percent. \n",
    "The affected countries were quick to recover in the years following 2020. Interestingly, all countries now report higher export values than before the pandemic. This could also be due to an increase in the inflation rate, the Ukraine war and other geopolitical reasons that followed or are unrelated to Covid-19.\n",
    "\n",
    "The influential car exporters Slovakia and Italy were not as affected by the crisis. This could be due to some of the following reasons:\n",
    "\n",
    "1) *Pricing/ Inflation*: \n",
    "The increase in trade value could be correlated with a higher pricing of goods and not necessarily to the number of automobiles sold during Covid-19.\n",
    "\n",
    "2) *Supply Chain Adaptability*: \n",
    "The ability of the automotive industry to quickly adapt its supply chain and manufacturing processes to the challenges posed by the pandemic might have contributed to maintaining production levels and meeting global demand. \n",
    "For example, Slovakia is the world's largest producer of cars per capita, with four car producers and hundreds of suppliers.\n",
    "\n",
    "3) *Government Incentives and Support:*\n",
    "Governments in various countries implemented stimulus packages and incentives to support industries affected by the pandemic. If countries provided support specifically to the automotive sector, it could have helped maintain production and exports.\n",
    "\n",
    "4) *Innovation in Technology:*\n",
    "If the automotive industry in the country is known for technological innovation, energy efficiency, or other factors that became more crucial during the pandemic, it might have gained a competitive edge in the global market. \n",
    "For example, Slovakia started a long-term strategy to transition to green cars in Covid-19. However, these cars are not allowed to be sold within the country for now. Exports may have been ongoing. Therefore, Slovakia might not have been as affected as others.\n",
    "\n",
    "5) *Market Diversification:*\n",
    "If the countried diversified their export destinations for automobiles, tapping into markets with stronger demand during the crisis, it could have offset declines in other regions."
   ]
  },
  {
   "cell_type": "markdown",
   "metadata": {},
   "source": [
    "## 5. Centrality measures"
   ]
  },
  {
   "cell_type": "markdown",
   "metadata": {},
   "source": [
    "**Clustering coefficient**"
   ]
  },
  {
   "cell_type": "code",
   "execution_count": 1064,
   "metadata": {},
   "outputs": [
    {
     "name": "stdout",
     "output_type": "stream",
     "text": [
      "Average Clustering Coefficient: 0.6094059074073054\n"
     ]
    }
   ],
   "source": [
    "# Clustering coefficient of all nodes (in a dictionary)\n",
    "clust_coefficients = nx.clustering(G_dir)\n",
    "\n",
    "# Average clustering coefficient\n",
    "avg_clust = sum(clust_coefficients.values()) / len(clust_coefficients)\n",
    "print(\"Average Clustering Coefficient:\", avg_clust)\n",
    "# = print(\"Average Clustering Coefficient (Built-in):\", nx.average_clustering(cluster))"
   ]
  },
  {
   "cell_type": "markdown",
   "metadata": {},
   "source": [
    "**Node centralities**"
   ]
  },
  {
   "cell_type": "code",
   "execution_count": 1065,
   "metadata": {},
   "outputs": [
    {
     "name": "stdout",
     "output_type": "stream",
     "text": [
      "Node: DE, Betweenness Centrality: 0.1638701848260672\n",
      "Node: FR, Betweenness Centrality: 0.028358950417773948\n",
      "Node: BE, Betweenness Centrality: 0.023688770379946857\n",
      "Node: ES, Betweenness Centrality: 0.018032063252651494\n",
      "Node: CZ, Betweenness Centrality: 0.00805292202351026\n",
      "\n",
      "Node: DE, Closeness Centrality: 0.3087606837606838\n",
      "Node: IT, Closeness Centrality: 0.2778846153846154\n",
      "Node: FR, Closeness Centrality: 0.2778846153846154\n",
      "Node: BE, Closeness Centrality: 0.2526223776223776\n",
      "Node: ES, Closeness Centrality: 0.2526223776223776\n",
      "\n",
      "Node: AE, Eigenvector Centrality: 0.031630794543187894\n",
      "Node: AT, Eigenvector Centrality: 0.20122956724842436\n",
      "Node: AU, Eigenvector Centrality: 0.09123401934813109\n",
      "Node: BE, Eigenvector Centrality: 0.25768577716042473\n",
      "Node: BG, Eigenvector Centrality: 0.031630794543187894\n"
     ]
    }
   ],
   "source": [
    "cluster = G_dir.to_undirected()\n",
    "\n",
    "# Connected components are sorted in descending order of their size\n",
    "G_components = sorted(nx.connected_components(cluster), key=len, reverse=True)\n",
    "largest_component_nodes = G_components[0]\n",
    "\n",
    "# Create a graph from the largest connected component\n",
    "G_largest = G_dir.subgraph(largest_component_nodes).copy()\n",
    "\n",
    "# Betweenness centrality\n",
    "bet_cen = nx.betweenness_centrality(G_largest)\n",
    "bet_cen_list = dict(sorted(bet_cen.items(), key=lambda x: x[1], reverse=True))\n",
    "\n",
    "# Closeness centrality\n",
    "clo_cen = nx.closeness_centrality(G_largest)\n",
    "clo_cen_list = dict(sorted(clo_cen.items(), key=lambda x: x[1], reverse=True))\n",
    "\n",
    "# Eigenvector centrality\n",
    "eig_cen = nx.eigenvector_centrality(G_largest)\n",
    "eig_cen_list = dict(sorted(eig_cen.items()), key=lambda x: x[1], reverse=True)\n",
    "\n",
    "for node, centrality in list(bet_cen_list.items())[:5]:\n",
    "    print(f\"Node: {node}, Betweenness Centrality: {centrality}\")\n",
    "print()\n",
    "for node, centrality in list(clo_cen_list.items())[:5]:\n",
    "    print(f\"Node: {node}, Closeness Centrality: {centrality}\")\n",
    "print()\n",
    "for node, centrality in list(eig_cen_list.items())[:5]:\n",
    "    print(f\"Node: {node}, Eigenvector Centrality: {centrality}\")"
   ]
  },
  {
   "cell_type": "markdown",
   "metadata": {},
   "source": [
    "## 6. Conclusion"
   ]
  },
  {
   "cell_type": "markdown",
   "metadata": {},
   "source": [
    "These insights collectively provide a comprehensive understanding of the trade network, highlighting key features, challenges, and patterns in the context of car imports and exports.\n",
    "\n",
    "**1) Degree Distribution**\n",
    "\n",
    "- **Right-Skewed Distribution:**\n",
    "  - Both in-degree and out-degree distributions are right-skewed.\n",
    "  - Implies a small number of countries with significantly higher degrees, acting as \"hubs\" or dominant players in the network.<br>\n",
    "<br>\n",
    "- **Interpretations:**\n",
    "  - **Hubs or Dominant Players:** Few countries have high in-degrees (importers) or out-degrees (exporters), indicating strong economic ties or significant market share.\n",
    "  - **Trade Imbalances:** Skewed distribution suggests significant imbalances in car trade, with major importers and exporters.\n",
    "  - **Specialization:** Countries with high out-degrees may specialize in car manufacturing, while high in-degrees may focus on importing.\n",
    "  - **Network Structure:** Implies a hierarchical or scale-free structure, with a small number of central nodes.\n",
    "\n",
    "**2) Major Exporters' Changes in Trade Values**\n",
    "\n",
    "- **Impact of Covid-19:**\n",
    "  - Most major exporters, except Slovakia, experienced a decline in 2020 due to the pandemic.\n",
    "  - Quick recovery observed in subsequent years, with export values surpassing pre-pandemic levels.\n",
    "<br>\n",
    "- **Possible Reasons for Resilience:**\n",
    "  - **Pricing/Inflation:** Increased trade value may be tied to higher pricing rather than increased sales.\n",
    "  - **Supply Chain Adaptability:** Automotive industry's quick adaptation to supply chain challenges.\n",
    "  - **Government Support:** Stimulus packages and incentives to support the automotive sector.\n",
    "  - **Innovation:** Competitive edge through technological innovation and energy efficiency.\n",
    "  - **Market Diversification:** Tapping into diverse markets with stronger demand during the crisis.\n",
    "\n",
    "**3) Relationship Between Partners and Trade Value**\n",
    "\n",
    "- **Number of Partners and Trade Value:**\n",
    "  - Number of partners appears closely related to trade value of exports and imports.\n",
    "  - Changes in node number not necessarily correlated with trade value.\n",
    "  - Degree may not be a consistent predictor of trade value.\n",
    "\n",
    "**4) Scale-Free Model**\n",
    "\n",
    "- **Scale-Free Network:**\n",
    "  - The right-skewed degree distribution suggests a scale-free network.\n",
    "  - Scale-free networks have a small number of highly connected nodes and many nodes with lower connectivity.\n",
    "\n"
   ]
  }
 ],
 "metadata": {
  "kernelspec": {
   "display_name": "Python 3",
   "language": "python",
   "name": "python3"
  },
  "language_info": {
   "codemirror_mode": {
    "name": "ipython",
    "version": 3
   },
   "file_extension": ".py",
   "mimetype": "text/x-python",
   "name": "python",
   "nbconvert_exporter": "python",
   "pygments_lexer": "ipython3",
   "version": "3.11.1"
  }
 },
 "nbformat": 4,
 "nbformat_minor": 2
}
